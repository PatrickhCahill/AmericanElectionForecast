{
 "cells": [
  {
   "cell_type": "code",
   "execution_count": 45,
   "metadata": {},
   "outputs": [],
   "source": [
    "import pandas as pd\n",
    "import numpy as np\n",
    "from math import erf\n",
    "import matplotlib.pyplot as plt\n",
    "from sklearn.linear_model import LinearRegression\n",
    "from datetime import datetime as dt\n",
    "import os\n",
    "\n",
    "%matplotlib inline\n",
    "\n",
    "NUM_ITER = 10000"
   ]
  },
  {
   "cell_type": "code",
   "execution_count": 46,
   "metadata": {},
   "outputs": [],
   "source": [
    "df = pd.read_csv(\"1976-2020-president.csv\") # Read in the election results in each state going back to 1976."
   ]
  },
  {
   "cell_type": "code",
   "execution_count": 47,
   "metadata": {},
   "outputs": [],
   "source": [
    "STARTYEAR = 0 #YEAR WHEN WE START INTERPRETING THE DATA\n",
    "ELECTIONYEAR = 2024 # YEAR WE WANT TO PREDICT\n",
    "df = df[(STARTYEAR <= df['year']) & (df['year']<ELECTIONYEAR)] # SLICE THE DATA FOR ABOVE\n"
   ]
  },
  {
   "cell_type": "code",
   "execution_count": 48,
   "metadata": {},
   "outputs": [],
   "source": [
    "df['party_simplified'] = df['party_simplified'].apply(lambda x: x if x in ['DEMOCRAT', 'REPUBLICAN'] else '3RDPARTY') # COMPRESS ALL THIRD PARTIES INTO ONE VALUE\n",
    "\n",
    "df_grouped = df.groupby(['year', 'state_po', 'party_simplified'], as_index=False).agg({'candidatevotes': 'sum'}) # \n",
    "\n",
    "state_votes = df_grouped.pivot_table(index='state_po', columns=['party_simplified','year'], values='candidatevotes', fill_value=0) # GET THE STATE VOTES BY PARTY BY YEAR\n"
   ]
  },
  {
   "cell_type": "code",
   "execution_count": 49,
   "metadata": {},
   "outputs": [],
   "source": [
    "total_votes = state_votes.sum().groupby(level='year').sum()\n",
    "total_share = state_votes.sum() / state_votes.sum().index.get_level_values('year').map(total_votes) # CONVERT TO VOTESHARE"
   ]
  },
  {
   "cell_type": "code",
   "execution_count": 50,
   "metadata": {},
   "outputs": [],
   "source": [
    "def predict(t,X,weights=None): # LINEAR REGRESSION MODEL\n",
    "    model = LinearRegression()\n",
    "    model.fit(t.reshape(-1, 1), X, sample_weight=weights)\n",
    "    m = model.coef_[0]\n",
    "    b = model.intercept_\n",
    "\n",
    "    Xhats = m*t + b\n",
    "    Xpred = m*ELECTIONYEAR + b\n",
    "    Xvar = np.sum((X-Xhats)**2) / (len(X) - 2) * 1.75\n",
    "\n",
    "    return Xpred, Xhats, Xvar"
   ]
  },
  {
   "cell_type": "code",
   "execution_count": 51,
   "metadata": {},
   "outputs": [
    {
     "data": {
      "image/png": "[encoded data removed]",
      "text/plain": [
       "<Figure size 432x288 with 1 Axes>"
      ]
     },
     "metadata": {
      "needs_background": "light"
     },
     "output_type": "display_data"
    }
   ],
   "source": [
    "prior_diffs = {}\n",
    "for i,the_state_vote in state_votes.iterrows():\n",
    "    state_share = the_state_vote / the_state_vote.index.get_level_values('year').map(the_state_vote.groupby(level='year').sum()) # Convert the raw votes to percentages of the total vote in that state\n",
    "    state_diff = state_share - total_share # Get the shift compared to the national share of the vote\n",
    "\n",
    "    t = the_state_vote[\"DEMOCRAT\"].index.values # Election years included in the model\n",
    "    # tweights = np.arccos(1 - 2* ((t - t[0]) / (t - t[0])[-1])) /np.pi\n",
    "    tweights = (t-t[0])**2\n",
    "\n",
    "    other_diff_ = state_diff[\"3RDPARTY\"].values\n",
    "    other_diff_pred, other_diff_hats, other_diff_var = predict(t,other_diff_,tweights)\n",
    "    other_diff_pred_ci = 1.96 * np.sqrt(other_diff_var)\n",
    "\n",
    "\n",
    "\n",
    "    dem_diff_ = state_diff[\"DEMOCRAT\"].values\n",
    "    dem_diff_pred, dem_diff_hats, dem_diff_var = predict(t,dem_diff_,tweights)\n",
    "    dem_diff_pred_ci = 1.96 * np.sqrt(dem_diff_var)\n",
    "\n",
    "    rep_diff_ = state_diff[\"REPUBLICAN\"].values\n",
    "    rep_diff_pred, rep_diff_hats, rep_diff_var = predict(t,rep_diff_,tweights)\n",
    "    rep_diff_pred_ci = 1.96 * np.sqrt(rep_diff_var)\n",
    "\n",
    "    if i==\"WI\":\n",
    "        fig,ax = plt.subplots()\n",
    "        ax.scatter(t,other_diff_,color='grey')\n",
    "        ax.plot(np.append(t,ELECTIONYEAR),np.append(other_diff_hats,other_diff_pred),color='grey')\n",
    "        ax.scatter(ELECTIONYEAR,other_diff_pred,color='grey',marker='*')\n",
    "        ax.fill_between(np.append(t,ELECTIONYEAR), (np.append(other_diff_hats,other_diff_pred)-other_diff_pred_ci), (np.append(other_diff_hats,other_diff_pred)+other_diff_pred_ci), color='grey', alpha=.1)\n",
    "\n",
    "        ax.scatter(t,dem_diff_,color='blue')\n",
    "        ax.plot(np.append(t,ELECTIONYEAR),np.append(dem_diff_hats,dem_diff_pred),color='blue')\n",
    "        ax.scatter(ELECTIONYEAR,dem_diff_pred,color='blue',marker='*')\n",
    "        ax.fill_between(np.append(t,ELECTIONYEAR), (np.append(dem_diff_hats,dem_diff_pred)-dem_diff_pred_ci), (np.append(dem_diff_hats,dem_diff_pred)+dem_diff_pred_ci), color='blue', alpha=.1)\n",
    "\n",
    "        ax.scatter(t,rep_diff_,color='red')\n",
    "        ax.plot(np.append(t,ELECTIONYEAR),np.append(rep_diff_hats,rep_diff_pred),color='red')\n",
    "        ax.scatter(ELECTIONYEAR,rep_diff_pred,color='red',marker='*')\n",
    "        ax.fill_between(np.append(t,ELECTIONYEAR), (np.append(rep_diff_hats,rep_diff_pred)-rep_diff_pred_ci), (np.append(rep_diff_hats,rep_diff_pred)+rep_diff_pred_ci), color='red', alpha=.1)\n",
    "\n",
    "    prior_diffs[the_state_vote.name] = {\n",
    "        \"other_diff\":other_diff_pred,\n",
    "        \"other_var\":other_diff_var,\n",
    "        \"dem_diff\" :dem_diff_pred,\n",
    "        \"dem_var\": dem_diff_var,\n",
    "        \"rep_diff\": rep_diff_pred,\n",
    "        \"rep_var\":rep_diff_var,    }\n",
    "prior_diffs = pd.DataFrame(data=prior_diffs).T"
   ]
  },
  {
   "cell_type": "code",
   "execution_count": null,
   "metadata": {},
   "outputs": [],
   "source": []
  },
  {
   "cell_type": "code",
   "execution_count": 52,
   "metadata": {},
   "outputs": [],
   "source": [
    "national_vals = pd.read_csv(\"polling_averages/National.csv\",index_col='date')\n",
    "todays_nat_polls = national_vals.loc[dt.today().strftime('%Y-%m-%d')]\n",
    "state_mapper = pd.read_csv(\"state_mapper.csv\",index_col='state').to_dict()['code']\n",
    "\n",
    "poll_other = 1 - todays_nat_polls[\"harris_mean\"] - todays_nat_polls[\"trump_mean\"]\n",
    "poll_dem = todays_nat_polls[\"harris_mean\"]\n",
    "poll_rep = todays_nat_polls[\"trump_mean\"]\n",
    "\n",
    "post_preds = prior_diffs[['other_diff','dem_diff','rep_diff']].copy()\n",
    "post_preds['other_diff'] += poll_other\n",
    "post_preds['dem_diff'] += poll_dem\n",
    "post_preds['rep_diff'] += poll_rep\n",
    "post_preds.rename({'other_diff':'other_vote','dem_diff':'dem_vote','rep_diff':'rep_vote'},axis=1,inplace=True)\n",
    "\n",
    "\n",
    "post_vars = prior_diffs[['other_var','dem_var','rep_var']].copy()\n",
    "post_vars['dem_var'] = post_vars['dem_var'] + todays_nat_polls[\"harris_var\"]\n",
    "post_vars['rep_var'] = post_vars['rep_var'] + todays_nat_polls[\"trump_var\"]\n",
    "\n",
    "\n",
    "for state_avgs in os.listdir(\"polling_averages\"):\n",
    "    if state_avgs[:-4] in state_mapper.keys():\n",
    "        state_avgs_polls = pd.read_csv(f\"polling_averages/{state_avgs}\",index_col='date')\n",
    "\n",
    "        todays_state_polls = state_avgs_polls.loc[dt.today().strftime('%Y-%m-%d')] # \n",
    "        \n",
    "        pre_poll_preds = post_preds.loc[state_mapper[state_avgs[:-4]]][[\"dem_vote\",\"rep_vote\"]].copy().values\n",
    "        pre_poll_vars = post_vars.loc[state_mapper[state_avgs[:-4]]][[\"dem_var\",\"rep_var\"]].copy().values\n",
    "\n",
    "        pollmeans = todays_state_polls[[\"harris_mean\",\"trump_mean\"]].values\n",
    "        pollvars = todays_state_polls[[\"harris_var\",\"trump_var\"]].values\n",
    "\n",
    "        post_poll_preds = (pre_poll_preds/pre_poll_vars + pollmeans/pollvars) / (1/pre_poll_vars + 1/pollvars)\n",
    "        post_poll_vars = 1 / (1/pre_poll_vars + 1/pollvars)\n",
    "\n",
    "        post_preds.loc[state_mapper[state_avgs[:-4]],'dem_vote'] = post_poll_preds[0]\n",
    "        post_preds.loc[state_mapper[state_avgs[:-4]],'rep_vote'] = post_poll_preds[1]\n",
    "        post_preds.loc[state_mapper[state_avgs[:-4]],'other_vote'] = 1 - post_poll_preds[0] - post_poll_preds[1]\n",
    "\n",
    "        post_vars.loc[state_mapper[state_avgs[:-4]],'dem_var'] = post_poll_vars[0]\n",
    "        post_vars.loc[state_mapper[state_avgs[:-4]],'rep_var'] = post_poll_vars[1]\n"
   ]
  },
  {
   "cell_type": "code",
   "execution_count": 53,
   "metadata": {},
   "outputs": [],
   "source": [
    "# Assume 0.5% random walk each day. Move the variance depending on the number of days remaining.\n",
    "post_vars = post_vars + post_preds.values*(dt.strptime(\"2024-11-05\",'%Y-%m-%d') - dt.today()).days * 0.005**2 "
   ]
  },
  {
   "cell_type": "code",
   "execution_count": 54,
   "metadata": {},
   "outputs": [],
   "source": [
    "electoralvotes = {\n",
    "    \"AL\":9,\n",
    "    \"AK\":3,\n",
    "    \"AZ\":11,\n",
    "    \"AR\":6,\n",
    "    \"CA\":54,\n",
    "    \"CO\":10,\n",
    "    \"CT\":7,\n",
    "    \"DC\":3,\n",
    "    \"DE\":3,\n",
    "    \"FL\":30,\n",
    "    \"GA\":16,\n",
    "    \"HI\":4,\n",
    "    \"ID\":4,\n",
    "    \"IL\":19,\n",
    "    \"IN\":11,\n",
    "    \"IA\":6,\n",
    "    \"KS\":6,\n",
    "    \"KY\":8,\n",
    "    \"LA\":8,\n",
    "    \"ME\":4,\n",
    "    \"MD\":10,\n",
    "    \"MA\":11,\n",
    "    \"MI\":15,\n",
    "    \"MN\":10,\n",
    "    \"MS\":6,\n",
    "    \"MO\":10,\n",
    "    \"MT\":4,\n",
    "    \"NE\":5,\n",
    "    \"NV\":6,\n",
    "    \"NH\":4,\n",
    "    \"NJ\":14,\n",
    "    \"NM\":5,\n",
    "    \"NY\":28,\n",
    "    \"NC\":16,\n",
    "    \"ND\":3,\n",
    "    \"OH\":17,\n",
    "    \"OK\":7,\n",
    "    \"OR\":8,\n",
    "    \"PA\":19,\n",
    "    \"RI\":4,\n",
    "    \"SC\":9,\n",
    "    \"SD\":3,\n",
    "    \"TN\":11,\n",
    "    \"TX\":40,\n",
    "    \"UT\":6,\n",
    "    \"VT\":3,\n",
    "    \"VA\":13,\n",
    "    \"WA\":12,\n",
    "    \"WV\":4,\n",
    "    \"WI\":10,\n",
    "    \"WY\":3}\t\n"
   ]
  },
  {
   "cell_type": "code",
   "execution_count": 55,
   "metadata": {},
   "outputs": [],
   "source": [
    "def to_cov(row,column):\n",
    "    return row * np.sqrt(column.loc[row.name]) * np.sqrt(column)"
   ]
  },
  {
   "cell_type": "code",
   "execution_count": 56,
   "metadata": {},
   "outputs": [],
   "source": [
    "correlation_factor = 0.5 # How correlated do we expect the previous correlations to predict the next correlations. Defaults to 0.5\n",
    "rep_cov = state_votes['REPUBLICAN'].T.corr()\n",
    "rep_cov = np.eye(rep_cov.shape[0])*(1-correlation_factor) + rep_cov*correlation_factor\n",
    "rep_cov = rep_cov.apply(lambda row: to_cov(row,post_vars['rep_var']))\n",
    "\n",
    "\n",
    "dem_cov = state_votes['DEMOCRAT'].T.corr()\n",
    "dem_cov = np.eye(dem_cov.shape[0])*(1-correlation_factor) + dem_cov*correlation_factor\n",
    "dem_cov = dem_cov.apply(lambda row: to_cov(row,post_vars['dem_var']))\n",
    "\n",
    "oth_cov = state_votes['3RDPARTY'].T.corr()\n",
    "oth_cov = np.eye(oth_cov.shape[0])*(1-correlation_factor) + oth_cov*correlation_factor\n",
    "oth_cov = oth_cov.apply(lambda row: to_cov(row,post_vars['other_var']))"
   ]
  },
  {
   "cell_type": "code",
   "execution_count": 57,
   "metadata": {},
   "outputs": [],
   "source": [
    "outputs = [] # SIMULATE ALL THE ELECTION RESULTS\n",
    "for _ in range(NUM_ITER):\n",
    "    election = pd.DataFrame(data = [np.clip(np.random.multivariate_normal(post_preds[\"rep_vote\"],rep_cov),0,1),\n",
    "                                    np.clip(np.random.multivariate_normal(post_preds[\"dem_vote\"],dem_cov),0,1),\n",
    "                                    np.clip(np.random.multivariate_normal(post_preds[\"other_vote\"],oth_cov),0,1)\n",
    "                            ], columns=rep_cov.columns,index=[\"rep_share\",\"dem_share\",\"oth_share\"]).T\n",
    "    \n",
    "    harris_popular_vote = np.average(election['dem_share'],weights=state_votes.T.loc[(slice(None), ELECTIONYEAR-4), :].droplevel('year').sum())\n",
    "    trump_popular_vote = np.average(election['rep_share'],weights=state_votes.T.loc[(slice(None), ELECTIONYEAR-4), :].droplevel('year').sum())\n",
    "    oth_popular_vote = np.average(election['oth_share'],weights=state_votes.T.loc[(slice(None), ELECTIONYEAR-4), :].droplevel('year').sum())\n",
    "    \n",
    "    election['margin']=election[\"dem_share\"] - election[\"rep_share\"]\n",
    "    election.sort_values(by='margin',ascending=False,inplace=True)\n",
    "\n",
    "    election['winner']=[\"Harris\"if res else \"Trump\" for res in election['margin']>0 ]\n",
    "\n",
    "    election[\"Cummulative Trump EV\"] = 0\n",
    "    election[\"Cummulative Harris EV\"] = 0\n",
    "\n",
    "\n",
    "\n",
    "    harris_ev = 0\n",
    "    trump_ev = 0\n",
    "    other_ev = 0\n",
    "\n",
    "\n",
    "    for state_name, result in election.iterrows():\n",
    "        if result['winner']==\"Harris\":\n",
    "            harris_ev += electoralvotes[state_name]\n",
    "            election.loc[state_name,\"Cummulative Harris EV\"] = harris_ev\n",
    "\n",
    "    election.sort_values(by='margin',ascending=True,inplace=True)\n",
    "    for state_name, result in election.iterrows():\n",
    "        if result['winner']==\"Trump\":\n",
    "            trump_ev += electoralvotes[state_name]\n",
    "            election.loc[state_name,\"Cummulative Trump EV\"] = trump_ev\n",
    "\n",
    "    # Check if Electoral Vote Tie\n",
    "    if (election[[\"Cummulative Harris EV\",\"Cummulative Trump EV\"]]==269).any().all():\n",
    "        tipping_point_state = election[(election[[\"Cummulative Harris EV\",\"Cummulative Trump EV\"]]==269).any(axis=1)]['margin'].abs().idxmin()\n",
    "    else:\n",
    "        tipping_point_state = election[(election[[\"Cummulative Harris EV\",\"Cummulative Trump EV\"]]>= 270).any(axis=1)][[\"Cummulative Harris EV\",\"Cummulative Trump EV\"]].sum(axis=1).idxmin()\n",
    " \n",
    "\n",
    "\n",
    "    output_df = election[[\"rep_share\",\"dem_share\",\"oth_share\",\"winner\"]]\n",
    "    output = {\n",
    "        \"df\":output_df,\n",
    "        \"facts\":{\n",
    "            \"harris_popular_vote\":harris_popular_vote,\n",
    "            \"trump_popular_vote\":trump_popular_vote,\n",
    "            \"oth_popular_vote\":oth_popular_vote,\n",
    "            \"tipping_point_state\":tipping_point_state,\n",
    "            \"harris_ev\":harris_ev\n",
    "        }\n",
    "    }\n",
    "    outputs.append(output)"
   ]
  },
  {
   "cell_type": "code",
   "execution_count": 58,
   "metadata": {},
   "outputs": [],
   "source": [
    "combined_df = pd.concat([output['df'] for output in outputs],axis=0)\n",
    "median_df = combined_df[[\"rep_share\",\t\"dem_share\",\"oth_share\"]].groupby(level=0).median()"
   ]
  },
  {
   "cell_type": "code",
   "execution_count": 59,
   "metadata": {},
   "outputs": [],
   "source": [
    "def ensure_harris(counts):\n",
    "    if \"Harris\" not in counts:\n",
    "        counts[\"Harris\"] = 0\n",
    "    return counts\n",
    "state_probs = combined_df.groupby(combined_df.index)[\"winner\"].apply(lambda x: x.value_counts())\n",
    "state_probs = state_probs.groupby(level=0).apply(ensure_harris)\n",
    "state_probs = state_probs.reset_index(level=1, drop=True).unstack(fill_value=0).drop('',axis=1)"
   ]
  },
  {
   "cell_type": "code",
   "execution_count": 60,
   "metadata": {},
   "outputs": [],
   "source": [
    "model_outputs = {}\n",
    "for i,row in median_df.iterrows():\n",
    "    p_dem_win = state_probs.loc[i,\"Harris\"] / state_probs.loc[i].sum()\n",
    "    dem_margin_median = row[\"dem_share\"] - row[\"rep_share\"]\n",
    "\n",
    "\n",
    "    model_outputs[i] = {\n",
    "        \"Probability Harris Win\":p_dem_win,\n",
    "        \"Median Harris Margin\":dem_margin_median,\n",
    "        \"Harris Voteshare\":row[\"dem_share\"],\n",
    "        \"Trump Voteshare\":row[\"rep_share\"],\n",
    "        \"Other Voteshare\":row[\"oth_share\"],\n",
    "        \"Total Number of Votes\":state_votes.T.loc[(slice(None), ELECTIONYEAR-4), :].droplevel('year').sum()[i],\n",
    "        \"EV\":electoralvotes[i]\n",
    "    }\n",
    "model_outputs = pd.DataFrame(data = model_outputs).T"
   ]
  },
  {
   "cell_type": "code",
   "execution_count": 227,
   "metadata": {},
   "outputs": [],
   "source": [
    "text = model_outputs.apply(lambda row:\n",
    "                           f\" <b><i>{df[['state','state_po']].set_index('state_po').to_dict()['state'][row.name]}</i> {int(row['EV'])} EV's</b> \\\n",
    "                           <br><i>Probability Harris Wins</i>: <b>{np.round(row['Probability Harris Win']*100,1)}%</b> \\\n",
    "                           <br><i>Predicted Harris Voteshare</i>: <b>{np.round(row['Harris Voteshare']*100,1)}%</b> \\\n",
    "                            <br><i>Predicted Trump Voteshare</i>: <b>{np.round(row['Trump Voteshare']*100,1)}%</b> \\\n",
    "                           <br><i>Predicted Other Voteshare</i>: <b>{np.round(row['Other Voteshare']*100,1)}%</b> \\\n",
    "                            \",axis=1)"
   ]
  },
  {
   "cell_type": "code",
   "execution_count": null,
   "metadata": {},
   "outputs": [],
   "source": []
  },
  {
   "cell_type": "code",
   "execution_count": 228,
   "metadata": {},
   "outputs": [],
   "source": [
    "republican_red = \"#cf1313\"\n",
    "democratic_blue = \"#116dc2\"\n",
    "chloropleth_cmap = [(0, republican_red),(0.5,\"white\"), (1, democratic_blue)]\n",
    "histogram_cmap = [(0, republican_red),(0.4, republican_red), (0.5,\"#c478b1\"), (0.6, democratic_blue), (1, democratic_blue)]"
   ]
  },
  {
   "cell_type": "code",
   "execution_count": 229,
   "metadata": {},
   "outputs": [],
   "source": [
    "import plotly.graph_objects as go\n",
    "\n",
    "fig = go.Figure(data=go.Choropleth(\n",
    "    locations=model_outputs.index, # Spatial coordinates\n",
    "    z = model_outputs[\"Probability Harris Win\"], # Data to be color-coded\n",
    "    locationmode = 'USA-states', # set of locations match entries in `locations`\n",
    "    colorscale = chloropleth_cmap,\n",
    "    # colorbar_title = \"Probability Harris Win\",\n",
    "    text = text,\n",
    "    hoverinfo=\"text\",\n",
    "    showscale=False\n",
    "))\n",
    "\n",
    "fig.update_layout(\n",
    "    # title_text = f'2024 Electoral Forecast: Kamala Harris has a {OVERALL[\"Probability Harris Win\"].round(3)*100}% chance to win the election',\n",
    "    dragmode=False,\n",
    "    geo_scope='usa', # limite map scope to USA\n",
    "    title=None,  # Remove title\n",
    "    margin={\"r\":0,\"t\":0,\"l\":0,\"b\":0},  # Adjust margins to remove extra space\n",
    ")\n",
    "# fig.add_trace(go.Scattergeo(\n",
    "#     locationmode='USA-states',\n",
    "#     locations=model_outputs.index, # Spatial coordinates\n",
    "\n",
    "#     text=[f'<a href=\"https://plot.ly/\"> </a>' for state in model_outputs.index],\n",
    "#     mode='text',\n",
    "#     textposition='middle center',\n",
    "#     showlegend=False,\n",
    "#     hoverinfo='none'\n",
    "# ))\n",
    "fig.write_html(\"docs/chloropleth.html\",config={'displayModeBar': False,\"responsive\": True,\"scrollZoom\":False})"
   ]
  },
  {
   "cell_type": "code",
   "execution_count": 230,
   "metadata": {},
   "outputs": [],
   "source": [
    "run = [2*output['facts']['harris_ev']-538 for output in outputs]"
   ]
  },
  {
   "cell_type": "code",
   "execution_count": 231,
   "metadata": {},
   "outputs": [
    {
     "data": {
      "text/plain": [
       "-262"
      ]
     },
     "execution_count": 231,
     "metadata": {},
     "output_type": "execute_result"
    }
   ],
   "source": [
    "min(run)"
   ]
  },
  {
   "cell_type": "code",
   "execution_count": null,
   "metadata": {},
   "outputs": [],
   "source": []
  },
  {
   "cell_type": "code",
   "execution_count": 232,
   "metadata": {},
   "outputs": [],
   "source": [
    "# counts,bins = np.histogram(run,bins=85,range=(2*100-538,2*440-538))\n",
    "counts,bins = np.histogram(run,bins=max(np.abs(min(run)),np.abs(max(run))),range=(-max(np.abs(min(run)),np.abs(max(run))),max(np.abs(min(run)),np.abs(max(run)))))\n",
    "\n",
    "# counts,bins = np.histogram(run,bins=340,range=(100,440))"
   ]
  },
  {
   "cell_type": "code",
   "execution_count": 233,
   "metadata": {},
   "outputs": [],
   "source": [
    "text = [f\"<b>Harris wins {(int(bins[i])+538)//2} EV's and Trump wins {(-int(bins[i])+538)//2} EV's<br> in {np.round(count/sum(counts)*100,1)}% of {sum(counts)} simulations </b>\" for i,count in enumerate(counts)]"
   ]
  },
  {
   "cell_type": "code",
   "execution_count": 234,
   "metadata": {},
   "outputs": [],
   "source": [
    "fig = go.Figure(data=[go.Bar(\n",
    "    x=bins,\n",
    "    y=counts/sum(counts)*100,\n",
    "    marker={'color': bins, 'colorscale': histogram_cmap},\n",
    "    text =text,    \n",
    "    hoverinfo='text',\n",
    "    textposition = \"none\"\n",
    "    )])\n",
    "# Add titles and labels\n",
    "fig.update_layout(\n",
    "    # title='Histogram of Electoral Votes',\n",
    "    xaxis_title='Harris Electoral College Vote',\n",
    "    yaxis_title='Probability %',\n",
    ")\n",
    "fig.add_shape(\n",
    "    go.layout.Shape(\n",
    "        type='line',\n",
    "        x0=0,\n",
    "        y0=0,\n",
    "        x1=0,\n",
    "        y1=max(fig.data[0].y)*1.05,  # Adjust y1 to match the range of your data\n",
    "        line=dict(\n",
    "            color='Black',\n",
    "            width=2,\n",
    "            dash='dot',  # Dotted line\n",
    "        ),\n",
    "    )\n",
    ")\n",
    "fig.add_annotation(\n",
    "    x=0,\n",
    "    y=max(fig.data[0].y),  # Position text slightly below the top of the y-axis\n",
    "    text=\"<b>Harris wins the election<b><br>---------->\",\n",
    "    showarrow=True,\n",
    "    arrowhead=0,\n",
    "    ax=85,  # X offset for the text\n",
    "    ay=0,   # Y offset for the text\n",
    "    font=dict(size=12, color=\"Black\"),\n",
    "    align='left'\n",
    ")\n",
    "fig.update_layout(\n",
    "    paper_bgcolor='rgba(0,0,0,0)',\n",
    "    plot_bgcolor='rgba(0,0,0,0)',\n",
    "    xaxis=dict(range=[-max(np.abs(min(run)),np.abs(max(run))), max(np.abs(min(run)),np.abs(max(run)))],\n",
    "            tickvals=[300, 200, 100, 0, -100, -200, -300],  # Custom tick values\n",
    "            ticktext=[\"D +300\", \"D +200\", \"D +100\",\"0\", \"R +100\",\"R +200\",\"R +300\"]),  # Set the width of the x-axis line\n",
    "\n",
    "    dragmode=False,\n",
    "\n",
    "    hovermode=\"x\",\n",
    "    margin=dict(l=0, r=0, t=0, b=0)  # Constrain layout with tighter margins\n",
    ")\n",
    "\n",
    "# fig.show()\n",
    "fig.write_html(\"docs/histogram.html\",config={'displayModeBar': False,\"responsive\": True,\"scrollZoom\":False})"
   ]
  },
  {
   "cell_type": "code",
   "execution_count": 235,
   "metadata": {},
   "outputs": [],
   "source": [
    "pwin = sum([output['facts']['harris_ev']>=270 for output in outputs])/NUM_ITER\n",
    "median_ev = np.median([output['facts']['harris_ev'] for output in outputs])"
   ]
  },
  {
   "cell_type": "code",
   "execution_count": 236,
   "metadata": {},
   "outputs": [
    {
     "data": {
      "text/plain": [
       "True     7770\n",
       "False    2230\n",
       "dtype: int64"
      ]
     },
     "execution_count": 236,
     "metadata": {},
     "output_type": "execute_result"
    }
   ],
   "source": [
    "(pd.Series([output['facts']['harris_popular_vote']-output['facts']['trump_popular_vote'] for output in outputs])>0).value_counts()"
   ]
  },
  {
   "cell_type": "code",
   "execution_count": 237,
   "metadata": {},
   "outputs": [],
   "source": [
    "text = []\n",
    "\n",
    "for output in outputs:\n",
    "    if output['facts']['harris_ev']>270:\n",
    "        text.append(f\"<b>Harris wins with {output['facts']['harris_ev']} EV's. \\\n",
    "                    <br>Harris wins {np.round(output['facts']['harris_popular_vote']*100,1)}% of the vote to \\\n",
    "                    <br>Trump's {np.round(output['facts']['trump_popular_vote']*100,1)}%\")\n",
    "    elif output['facts']['harris_ev']<269:\n",
    "        text.append(f\"<b>Trump wins with {538 - output['facts']['harris_ev']} EV's. \\\n",
    "            <br>Trump wins {np.round(output['facts']['trump_popular_vote']*100,1)}% of the vote to \\\n",
    "            <br>Harris's {np.round(output['facts']['harris_popular_vote']*100,1)}%\")\n",
    "    else:\n",
    "        text.append(f\"<b>269 - 269: Electoral college tie. \\\n",
    "            <br>Trump wins {np.round(output['facts']['trump_popular_vote']*100,1)}% of the vote to \\\n",
    "            <br>Harris's {np.round(output['facts']['harris_popular_vote']*100,1)}%\")"
   ]
  },
  {
   "cell_type": "code",
   "execution_count": 244,
   "metadata": {},
   "outputs": [],
   "source": [
    "vote_margin = np.array([output['facts']['trump_popular_vote']-output['facts']['harris_popular_vote'] for output in outputs])[:1000]\n",
    "ev_margin = np.array([2*output['facts']['harris_ev']-538 for output in outputs])[:1000]\n",
    "color = np.where(ev_margin == 0, 'gray', np.where(ev_margin > 0, democratic_blue, republican_red))\n",
    "alpha = np.where(\n",
    "    ((ev_margin > 0) & (vote_margin > 0)) | ((ev_margin < 0) & (vote_margin < 0)), 0.4, 1.0\n",
    ")\n",
    "\n",
    "# Create scatter plot\n",
    "fig = go.Figure(data=go.Scatter(\n",
    "    y=vote_margin,\n",
    "    x=ev_margin,\n",
    "    mode='markers',\n",
    "    marker=dict(\n",
    "        color=color,  # Color based on the condition\n",
    "        opacity=alpha,  # Opacity based on the condition\n",
    "        size=8,  # Marker size (adjust as needed)\n",
    "        line=dict(width=1, color='white')  # Add white border to markers\n",
    "    ),\n",
    "    text =text,    \n",
    "    hoverinfo='text',\n",
    "    # textposition = \"none\"\n",
    "))\n",
    "\n",
    "# Customize layout\n",
    "fig.update_layout(\n",
    "    yaxis=dict(range=[-0.2, 0.2],\n",
    "        tickvals=[-0.15, -0.1, -0.05, 0, 0.05, 0.1, 0.15],  # Custom tick values\n",
    "        ticktext=[\"D +15\", \"D +10\", \"D +5\",\"0\", \"R +5\",\"R +10\",\"R +15\"],  # Custom tick labels\n",
    "        showgrid=False,\n",
    "        zeroline=True,  # Add a line at y=0 (major x-axis)\n",
    "        zerolinecolor='black',  # Set the color of the x-axis line\n",
    "        zerolinewidth=2  # Set the width of the x-axis line\n",
    "    ),    \n",
    "    \n",
    "    xaxis=dict(range=[-max(np.abs(min(run)),np.abs(max(run))), max(np.abs(min(run)),np.abs(max(run)))],\n",
    "        tickvals=[300, 200, 100, 0, -100, -200, -300],  # Custom tick values\n",
    "        ticktext=[\"D +300\", \"D +200\", \"D +100\",\"0\", \"R +100\",\"R +200\",\"R +300\"],  # Custom tick labels\n",
    "        showgrid=False,\n",
    "        zeroline=True,  # Add a line at y=0 (major x-axis)\n",
    "        zerolinecolor='black',  # Set the color of the x-axis line\n",
    "        zerolinewidth=2  # Set the width of the x-axis line\n",
    "    ),        \n",
    "    # width=500,  # Width of the plot\n",
    "    # height=500,  # Height of the plot (same as width to make it square)\n",
    "    plot_bgcolor=\"rgba(0, 0, 0, 0)\",  # Set the background color to white\n",
    "    margin=dict(l=0, r=0, t=0, b=0),  # Constrain layout with tighter margins\n",
    "    dragmode=False,\n",
    "\n",
    ")\n",
    "\n",
    "# Show the plot\n",
    "fig.write_html(\"docs/ev_vote2.html\",config={'displayModeBar': False,\"responsive\": True,\"scrollZoom\":False})"
   ]
  },
  {
   "cell_type": "code",
   "execution_count": 239,
   "metadata": {},
   "outputs": [
    {
     "data": {
      "text/plain": [
       "0.5863"
      ]
     },
     "execution_count": 239,
     "metadata": {},
     "output_type": "execute_result"
    }
   ],
   "source": [
    "pwin"
   ]
  },
  {
   "cell_type": "code",
   "execution_count": 240,
   "metadata": {},
   "outputs": [
    {
     "data": {
      "text/plain": [
       "282.0"
      ]
     },
     "execution_count": 240,
     "metadata": {},
     "output_type": "execute_result"
    }
   ],
   "source": [
    "median_ev"
   ]
  },
  {
   "cell_type": "code",
   "execution_count": 241,
   "metadata": {},
   "outputs": [
    {
     "data": {
      "text/plain": [
       "0.029716012559472316"
      ]
     },
     "execution_count": 241,
     "metadata": {},
     "output_type": "execute_result"
    }
   ],
   "source": [
    "np.median([output['facts']['harris_popular_vote'] for output in outputs]) - np.median([output['facts']['trump_popular_vote'] for output in outputs])"
   ]
  },
  {
   "cell_type": "code",
   "execution_count": 242,
   "metadata": {},
   "outputs": [
    {
     "data": {
      "text/plain": [
       "PA    0.1842\n",
       "NC    0.1269\n",
       "MI    0.1006\n",
       "FL    0.0931\n",
       "AZ    0.0727\n",
       "WI    0.0722\n",
       "TX    0.0718\n",
       "GA    0.0687\n",
       "MN    0.0668\n",
       "VA    0.0528\n",
       "NV    0.0384\n",
       "NH    0.0131\n",
       "IA    0.0094\n",
       "OH    0.0070\n",
       "SC    0.0064\n",
       "CO    0.0045\n",
       "AK    0.0031\n",
       "RI    0.0016\n",
       "NM    0.0015\n",
       "NJ    0.0012\n",
       "ME    0.0011\n",
       "IL    0.0010\n",
       "OR    0.0007\n",
       "CT    0.0005\n",
       "MS    0.0003\n",
       "KS    0.0002\n",
       "DE    0.0001\n",
       "NY    0.0001\n",
       "dtype: float64"
      ]
     },
     "execution_count": 242,
     "metadata": {},
     "output_type": "execute_result"
    }
   ],
   "source": [
    "tipping_points = pd.Series([output['facts']['tipping_point_state'] for output in outputs])\n",
    "tipping_points.value_counts()/tipping_points.value_counts().sum()"
   ]
  },
  {
   "cell_type": "code",
   "execution_count": 243,
   "metadata": {},
   "outputs": [],
   "source": [
    "for i in range(10):# Create the choropleth map\n",
    "    fig = go.Figure(data=go.Choropleth(\n",
    "        locations=outputs[i]['df'].index,  # State codes\n",
    "        z=outputs[i]['df']['winner'].map({'Harris': 1, 'Trump': 0}),  # Numeric mapping of candidates\n",
    "        locationmode='USA-states',  # Specify that locations are state codes\n",
    "        colorscale=[[0, republican_red], [1, democratic_blue]],  # Define color scale (0 = Trump, 1 = Harris)\n",
    "        showscale=False,  # Disable the color scale bar\n",
    "        text=outputs[i]['df']['winner'],  # Hover text showing the candidate\n",
    "    ))\n",
    "\n",
    "    # Update layout for a better appearance\n",
    "    fig.update_layout(\n",
    "        # title_text=\"2024 Election Map\",\n",
    "        geo=dict(\n",
    "            scope='usa',\n",
    "            projection=go.layout.geo.Projection(type='albers usa'),\n",
    "            showlakes=True,  # Show lakes\n",
    "            lakecolor='rgb(255, 255, 255)',\n",
    "            bgcolor='rgba(0,0,0,0)',  # Set background to transparent\n",
    "        ),\n",
    "        margin=dict(l=0, r=0, t=0, b=0)  # Constrain layout with tighter margins\n",
    "    )\n",
    "\n",
    "    fig.write_html(f\"docs/assets/example_chloros/chloropleth_example_{i}.html\",config={'staticPlot': True})"
   ]
  }
 ],
 "metadata": {
  "kernelspec": {
   "display_name": "Python 3",
   "language": "python",
   "name": "python3"
  },
  "language_info": {
   "codemirror_mode": {
    "name": "ipython",
    "version": 3
   },
   "file_extension": ".py",
   "mimetype": "text/x-python",
   "name": "python",
   "nbconvert_exporter": "python",
   "pygments_lexer": "ipython3",
   "version": "3.12.5"
  }
 },
 "nbformat": 4,
 "nbformat_minor": 2
}
