{
 "cells": [
  {
   "cell_type": "code",
   "execution_count": 1,
   "metadata": {},
   "outputs": [],
   "source": [
    "import pandas as pd\n",
    "import numpy as np\n",
    "from math import erf\n",
    "import matplotlib.pyplot as plt\n",
    "%matplotlib inline\n",
    "\n",
    "NUM_ITER = 10000"
   ]
  },
  {
   "cell_type": "code",
   "execution_count": 2,
   "metadata": {},
   "outputs": [],
   "source": [
    "df = pd.read_csv(\"1976-2020-president.csv\")"
   ]
  },
  {
   "cell_type": "code",
   "execution_count": 3,
   "metadata": {},
   "outputs": [],
   "source": [
    "ELECTIONYEAR = 2024\n",
    "df = df[df['year']<ELECTIONYEAR]\n"
   ]
  },
  {
   "cell_type": "code",
   "execution_count": 4,
   "metadata": {},
   "outputs": [],
   "source": [
    "df['party_simplified'] = df['party_simplified'].apply(lambda x: x if x in ['DEMOCRAT', 'REPUBLICAN'] else '3RDPARTY')\n",
    "\n",
    "# Step 2: Aggregate the votes for \"3RDPARTY\"\n",
    "df_grouped = df.groupby(['year', 'state_po', 'party_simplified'], as_index=False).agg({'candidatevotes': 'sum'})\n",
    "\n",
    "# Step 3: Pivot the table\n",
    "matrix = df_grouped.pivot_table(index='state_po', columns=['party_simplified','year'], values='candidatevotes', fill_value=0)\n"
   ]
  },
  {
   "cell_type": "code",
   "execution_count": 5,
   "metadata": {},
   "outputs": [
    {
     "data": {
      "image/png": "[encoded data removed]",
      "text/plain": [
       "<Figure size 432x288 with 1 Axes>"
      ]
     },
     "metadata": {
      "needs_background": "light"
     },
     "output_type": "display_data"
    }
   ],
   "source": [
    "prior_preds = {}\n",
    "for i,row in matrix.iterrows():\n",
    "    t = row[\"DEMOCRAT\"].index.values\n",
    "    that = np.append(t,ELECTIONYEAR)\n",
    "\n",
    "    X3 = row[\"3RDPARTY\"].values\n",
    "    m3 = np.std(X3)/np.std(t)*np.corrcoef(X3,t)[0,1]\n",
    "    b3 = X3[-1] - m3*t[-1]\n",
    "    X3hats = m3*that + b3\n",
    "    X3hat2024 = m3*ELECTIONYEAR + b3\n",
    "    X3var = np.sum((X3-X3hats[:-1])**2) / (len(X3) - 2) / 100 #Adjustment to fix weird near 0 issue\n",
    "\n",
    "\n",
    "    XD = row[\"DEMOCRAT\"].values\n",
    "    mD = np.std(XD)/np.std(t)*np.corrcoef(XD,t)[0,1]\n",
    "    bD = XD[-1] - mD*t[-1]\n",
    "    XDhats = mD*that + bD\n",
    "    XDhat2024 = mD*ELECTIONYEAR + bD\n",
    "    XDvar = np.sum((XD-XDhats[:-1])**2) / (len(XD) - 2)\n",
    "\n",
    "    XR = row[\"REPUBLICAN\"].values\n",
    "    mR = np.std(XR)/np.std(t)*np.corrcoef(XR,t)[0,1]\n",
    "    bR = XR[-1] - mR*t[-1]\n",
    "    XRhats = mR*that + bR\n",
    "    XRhat2024 = mR*ELECTIONYEAR + bR\n",
    "    XRvar = np.sum((XR-XRhats[:-1])**2) / (len(XR) - 2)\n",
    "    if i==\"MI\":\n",
    "        fig,ax = plt.subplots()\n",
    "        ax.scatter(t,X3,color='grey')\n",
    "        ax.plot(that,X3hats,color='grey')\n",
    "        ax.scatter(ELECTIONYEAR,X3hat2024,color='grey',marker='*')\n",
    "\n",
    "        ax.scatter(t,XD,color='blue')\n",
    "        ax.plot(that,XDhats,color='blue')\n",
    "        ax.scatter(ELECTIONYEAR,XDhat2024,color='blue',marker='*')\n",
    "\n",
    "        ax.scatter(t,XR,color='red')\n",
    "        ax.plot(that,XRhats,color='red')\n",
    "        ax.scatter(ELECTIONYEAR,XRhat2024,color='red',marker='*')\n",
    "\n",
    "    prior_preds[row.name] = {\n",
    "        \"other_vote\":X3hat2024,\n",
    "        \"other_var\":X3var,\n",
    "        \"dem_vote\" :XDhat2024,\n",
    "        \"dem_var\": XDvar,\n",
    "        \"rep_vote\": XRhat2024,\n",
    "        \"rep_var\":XRvar,    }\n"
   ]
  },
  {
   "cell_type": "code",
   "execution_count": 6,
   "metadata": {},
   "outputs": [],
   "source": [
    "prior_preds = pd.DataFrame(data=prior_preds).T"
   ]
  },
  {
   "cell_type": "code",
   "execution_count": 7,
   "metadata": {},
   "outputs": [],
   "source": [
    "prior_vars_scaled = prior_preds[[\"other_var\",\"dem_var\",\"rep_var\"]].copy()\n",
    "\n",
    "prior_vars_scaled[\"other_var\"] = (prior_vars_scaled[\"other_var\"] / prior_preds[\"other_vote\"]**2)*1 # Extrapolation penalty\n",
    "prior_vars_scaled[\"dem_var\"] = (prior_vars_scaled[\"dem_var\"] / prior_preds[\"dem_vote\"]**2)*1\n",
    "prior_vars_scaled[\"rep_var\"] = (prior_vars_scaled[\"rep_var\"] / prior_preds[\"rep_vote\"]**2)*1\n",
    "\n",
    "\n",
    "prior_preds_scaled = prior_preds[[\"other_vote\",\"dem_vote\",\"rep_vote\"]].copy()\n",
    "prior_preds_votes = prior_preds_scaled.sum(axis=1)\n",
    "prior_preds_scaled=prior_preds_scaled.div(prior_preds_votes,axis=0,)\n",
    "prior_preds_scaled['total_vote_pred'] = prior_preds_votes\n",
    "prior_preds_scaled_normalised = prior_preds_scaled.apply(lambda col: (col - np.average(col,weights=prior_preds_scaled[\"total_vote_pred\"])))\n",
    "\n",
    "poll_other = 0.046\n",
    "poll_dem = 0.473\n",
    "poll_rep = 0.436\n",
    "\n",
    "# poll_other = 0.057\n",
    "# poll_dem = 0.482\n",
    "# poll_rep = 0.461\n",
    "\n",
    "# poll_other = 0.019\n",
    "# poll_dem = 0.513\n",
    "# poll_rep = 0.468\n",
    "\n",
    "post_preds_scaled_normalised = prior_preds_scaled_normalised.copy()\n",
    "post_preds_scaled_normalised['other_vote'] += poll_other\n",
    "post_preds_scaled_normalised['dem_vote'] += poll_dem\n",
    "post_preds_scaled_normalised['rep_vote'] += poll_rep\n",
    "post_preds_scaled_normalised.drop(\"total_vote_pred\",axis=1,inplace=True)\n",
    "post_preds_scaled_normalised = post_preds_scaled_normalised.div(post_preds_scaled_normalised.sum(axis=1),axis=0)\n",
    "\n",
    "\n",
    "\n",
    "post_vars_scaled = prior_vars_scaled + 0.08**2"
   ]
  },
  {
   "cell_type": "code",
   "execution_count": 8,
   "metadata": {},
   "outputs": [
    {
     "data": {
      "text/plain": [
       "0.9550000000000001"
      ]
     },
     "execution_count": 8,
     "metadata": {},
     "output_type": "execute_result"
    }
   ],
   "source": [
    "poll_other+ poll_dem+ poll_rep"
   ]
  },
  {
   "cell_type": "code",
   "execution_count": 9,
   "metadata": {},
   "outputs": [],
   "source": [
    "electoralvotes = {\n",
    "    \"AL\":9,\n",
    "    \"AK\":3,\n",
    "    \"AZ\":11,\n",
    "    \"AR\":6,\n",
    "    \"CA\":54,\n",
    "    \"CO\":10,\n",
    "    \"CT\":7,\n",
    "    \"DC\":3,\n",
    "    \"DE\":3,\n",
    "    \"FL\":30,\n",
    "    \"GA\":16,\n",
    "    \"HI\":4,\n",
    "    \"ID\":4,\n",
    "    \"IL\":19,\n",
    "    \"IN\":11,\n",
    "    \"IA\":6,\n",
    "    \"KS\":6,\n",
    "    \"KY\":8,\n",
    "    \"LA\":8,\n",
    "    \"ME\":4,\n",
    "    \"MD\":10,\n",
    "    \"MA\":11,\n",
    "    \"MI\":15,\n",
    "    \"MN\":10,\n",
    "    \"MS\":6,\n",
    "    \"MO\":10,\n",
    "    \"MT\":4,\n",
    "    \"NE\":5,\n",
    "    \"NV\":6,\n",
    "    \"NH\":4,\n",
    "    \"NJ\":14,\n",
    "    \"NM\":5,\n",
    "    \"NY\":28,\n",
    "    \"NC\":16,\n",
    "    \"ND\":3,\n",
    "    \"OH\":17,\n",
    "    \"OK\":7,\n",
    "    \"OR\":8,\n",
    "    \"PA\":19,\n",
    "    \"RI\":4,\n",
    "    \"SC\":9,\n",
    "    \"SD\":3,\n",
    "    \"TN\":11,\n",
    "    \"TX\":40,\n",
    "    \"UT\":6,\n",
    "    \"VT\":3,\n",
    "    \"VA\":13,\n",
    "    \"WA\":12,\n",
    "    \"WV\":4,\n",
    "    \"WI\":10,\n",
    "    \"WY\":3}\t\n"
   ]
  },
  {
   "cell_type": "code",
   "execution_count": 10,
   "metadata": {},
   "outputs": [],
   "source": [
    "covariance_matrix = matrix.T.corr()\n",
    "def to_cov(row,column):\n",
    "    return row * (column.loc[row.name]) * column"
   ]
  },
  {
   "cell_type": "code",
   "execution_count": 11,
   "metadata": {},
   "outputs": [],
   "source": [
    "rep_cov = matrix['REPUBLICAN'].T.corr().apply(lambda row: to_cov(row,post_vars_scaled['rep_var']))\n",
    "dem_cov = matrix['DEMOCRAT'].T.corr().apply(lambda row: to_cov(row,post_vars_scaled['dem_var']))\n",
    "oth_cov = matrix['3RDPARTY'].T.corr().apply(lambda row: to_cov(row,post_vars_scaled['other_var']))"
   ]
  },
  {
   "cell_type": "code",
   "execution_count": null,
   "metadata": {},
   "outputs": [],
   "source": []
  },
  {
   "cell_type": "code",
   "execution_count": null,
   "metadata": {},
   "outputs": [],
   "source": []
  },
  {
   "cell_type": "code",
   "execution_count": 12,
   "metadata": {},
   "outputs": [],
   "source": [
    "outputs = []\n",
    "for _ in range(NUM_ITER):\n",
    "    election = pd.DataFrame(data = [np.clip(np.random.multivariate_normal(post_preds_scaled_normalised[\"rep_vote\"],rep_cov),0,1),\n",
    "                                    np.clip(np.random.multivariate_normal(post_preds_scaled_normalised[\"dem_vote\"],dem_cov),0,1),\n",
    "                                    np.clip(np.random.multivariate_normal(post_preds_scaled_normalised[\"other_vote\"],oth_cov),0,1)\n",
    "                            ], columns=rep_cov.columns,index=[\"rep_share\",\"dem_share\",\"oth_share\"]).T\n",
    "    \n",
    "    harris_popular_vote = np.average(election['dem_share'],weights=prior_preds_scaled[\"total_vote_pred\"])\n",
    "    trump_popular_vote = np.average(election['rep_share'],weights=prior_preds_scaled['total_vote_pred'])\n",
    "    oth_popular_vote = np.average(election['oth_share'],weights=prior_preds_scaled['total_vote_pred'])\n",
    "    \n",
    "    election['margin']=election[\"dem_share\"] - election[\"rep_share\"]\n",
    "    election.sort_values(by='margin',ascending=False,inplace=True)\n",
    "\n",
    "    election['winner']=[\"Harris\"if res else \"Trump\" for res in election['margin']>0 ]\n",
    "\n",
    "    election[\"Cummulative Trump EV\"] = 0\n",
    "    election[\"Cummulative Harris EV\"] = 0\n",
    "\n",
    "\n",
    "\n",
    "    harris_ev = 0\n",
    "    trump_ev = 0\n",
    "    other_ev = 0\n",
    "\n",
    "\n",
    "    for state_name, result in election.iterrows():\n",
    "        if result['winner']==\"Harris\":\n",
    "            harris_ev += electoralvotes[state_name]\n",
    "            election.loc[state_name,\"Cummulative Harris EV\"] = harris_ev\n",
    "\n",
    "    election.sort_values(by='margin',ascending=True,inplace=True)\n",
    "    for state_name, result in election.iterrows():\n",
    "        if result['winner']==\"Trump\":\n",
    "            trump_ev += electoralvotes[state_name]\n",
    "            election.loc[state_name,\"Cummulative Trump EV\"] = trump_ev\n",
    "\n",
    "    # Check if Electoral Vote Tie\n",
    "    if (election[[\"Cummulative Harris EV\",\"Cummulative Trump EV\"]]==269).any().all():\n",
    "        tipping_point_state = election[(election[[\"Cummulative Harris EV\",\"Cummulative Trump EV\"]]==269).any(axis=1)]['margin'].abs().idxmin()\n",
    "    else:\n",
    "        tipping_point_state = election[(election[[\"Cummulative Harris EV\",\"Cummulative Trump EV\"]]>= 270).any(axis=1)][[\"Cummulative Harris EV\",\"Cummulative Trump EV\"]].sum(axis=1).idxmin()\n",
    " \n",
    "\n",
    "\n",
    "    output_df = election[[\"rep_share\",\"dem_share\",\"oth_share\",\"winner\"]]\n",
    "    output = {\n",
    "        \"df\":output_df,\n",
    "        \"facts\":{\n",
    "            \"harris_popular_vote\":harris_popular_vote,\n",
    "            \"trump_popular_vote\":trump_popular_vote,\n",
    "            \"oth_popular_vote\":oth_popular_vote,\n",
    "            \"tipping_point_state\":tipping_point_state,\n",
    "            \"harris_ev\":harris_ev\n",
    "        }\n",
    "    }\n",
    "    outputs.append(output)"
   ]
  },
  {
   "cell_type": "code",
   "execution_count": 13,
   "metadata": {},
   "outputs": [],
   "source": [
    "combined_df = pd.concat([output['df'] for output in outputs],axis=0)\n",
    "median_df = combined_df.groupby(level=0).median()"
   ]
  },
  {
   "cell_type": "code",
   "execution_count": 14,
   "metadata": {},
   "outputs": [],
   "source": [
    "def ensure_harris(counts):\n",
    "    if \"Harris\" not in counts:\n",
    "        counts[\"Harris\"] = 0\n",
    "    return counts\n",
    "state_probs = combined_df.groupby(combined_df.index)[\"winner\"].apply(lambda x: x.value_counts())\n",
    "state_probs = state_probs.groupby(level=0).apply(ensure_harris)\n",
    "state_probs = state_probs.reset_index(level=1, drop=True).unstack(fill_value=0).drop('',axis=1)"
   ]
  },
  {
   "cell_type": "code",
   "execution_count": 15,
   "metadata": {},
   "outputs": [],
   "source": [
    "model_outputs = {}\n",
    "for i,row in median_df.iterrows():\n",
    "    p_dem_win = state_probs.loc[i,\"Harris\"] / state_probs.loc[i].sum()\n",
    "    dem_margin_median = row[\"dem_share\"] - row[\"rep_share\"]\n",
    "\n",
    "\n",
    "    model_outputs[i] = {\n",
    "        \"Probability Harris Win\":p_dem_win,\n",
    "        \"Median Harris Margin\":dem_margin_median,\n",
    "        \"Harris Voteshare\":row[\"dem_share\"],\n",
    "        \"Trump Voteshare\":row[\"rep_share\"],\n",
    "        \"Other Voteshare\":row[\"oth_share\"],\n",
    "        \"Total Number of Votes\":prior_preds_scaled.loc[i,\"total_vote_pred\"],\n",
    "        \"EV\":electoralvotes[i]\n",
    "    }\n",
    "model_outputs = pd.DataFrame(data = model_outputs).T"
   ]
  },
  {
   "cell_type": "code",
   "execution_count": 16,
   "metadata": {},
   "outputs": [],
   "source": [
    "text = model_outputs.apply(lambda row:\n",
    "                           f\" <b><i>{df[['state','state_po']].set_index('state_po').to_dict()['state'][row.name]}</i> {int(row['EV'])} EV's</b> \\\n",
    "                           <br><i>Probability Harris Wins</i>: <b>{np.round(row['Probability Harris Win']*100,1)}%</b> \\\n",
    "                           <br><i>Predicted Harris Voteshare</i>: <b>{np.round(row['Harris Voteshare']*100,1)}%</b> \\\n",
    "                            <br><i>Predicted Trump Voteshare</i>: <b>{np.round(row['Trump Voteshare']*100,1)}%</b> \\\n",
    "                           <br><i>Predicted Other Voteshare</i>: <b>{np.round(row['Other Voteshare']*100,1)}%</b> \\\n",
    "                            \",axis=1)"
   ]
  },
  {
   "cell_type": "code",
   "execution_count": 17,
   "metadata": {},
   "outputs": [],
   "source": [
    "republican_red = \"#cf1313\"\n",
    "democratic_blue = \"#116dc2\"\n",
    "chloropleth_cmap = [(0, republican_red),(0.5,\"white\"), (1, democratic_blue)]\n",
    "histogram_cmap = [(0, \"red\"),(0.4, \"red\"), (0.5,\"#c478b1\"), (0.6, \"blue\"), (1, \"blue\")]"
   ]
  },
  {
   "cell_type": "code",
   "execution_count": 18,
   "metadata": {},
   "outputs": [],
   "source": [
    "import plotly.graph_objects as go\n",
    "\n",
    "fig = go.Figure(data=go.Choropleth(\n",
    "    locations=model_outputs.index, # Spatial coordinates\n",
    "    z = model_outputs[\"Probability Harris Win\"], # Data to be color-coded\n",
    "    locationmode = 'USA-states', # set of locations match entries in `locations`\n",
    "    colorscale = chloropleth_cmap,\n",
    "    # colorbar_title = \"Probability Harris Win\",\n",
    "    text = text,\n",
    "    hoverinfo=\"text\",\n",
    "    showscale=False\n",
    "))\n",
    "\n",
    "fig.update_layout(\n",
    "    # title_text = f'2024 Electoral Forecast: Kamala Harris has a {OVERALL[\"Probability Harris Win\"].round(3)*100}% chance to win the election',\n",
    "    geo_scope='usa', # limite map scope to USA\n",
    "    title=None,  # Remove title\n",
    "    margin={\"r\":0,\"t\":0,\"l\":0,\"b\":0},  # Adjust margins to remove extra space\n",
    ")\n",
    "\n",
    "fig.write_html(\"docs/chloropleth.html\",config={'displayModeBar': False,\"responsive\": True,\"scrollZoom\":False})"
   ]
  },
  {
   "cell_type": "code",
   "execution_count": null,
   "metadata": {},
   "outputs": [],
   "source": []
  },
  {
   "cell_type": "code",
   "execution_count": 19,
   "metadata": {},
   "outputs": [],
   "source": [
    "run = [output['facts']['harris_ev'] for output in outputs]"
   ]
  },
  {
   "cell_type": "code",
   "execution_count": 20,
   "metadata": {},
   "outputs": [],
   "source": [
    "counts,bins = np.histogram(run,bins=85,range=(100,440))"
   ]
  },
  {
   "cell_type": "code",
   "execution_count": 21,
   "metadata": {},
   "outputs": [],
   "source": [
    "text = [f\"<b>Harris wins between {int(bins[i])} and {int(bins[i+1])} EV's in {count} runs \\\n",
    "        <br> out of {sum(counts)} simulations </b>\" for i,count in enumerate(counts)]"
   ]
  },
  {
   "cell_type": "code",
   "execution_count": 22,
   "metadata": {},
   "outputs": [],
   "source": [
    "fig = go.Figure(data=[go.Bar(\n",
    "    x=bins,\n",
    "    y=counts/sum(counts)*100,\n",
    "    marker={'color': bins, 'colorscale': histogram_cmap},\n",
    "    text =text,    \n",
    "    hoverinfo='text',\n",
    "    textposition = \"none\"\n",
    "    )])\n",
    "# Add titles and labels\n",
    "fig.update_layout(\n",
    "    # title='Histogram of Electoral Votes',\n",
    "    xaxis_title='Harris Electoral College Vote',\n",
    "    yaxis_title='Probability %',\n",
    ")\n",
    "fig.add_shape(\n",
    "    go.layout.Shape(\n",
    "        type='line',\n",
    "        x0=270,\n",
    "        y0=0,\n",
    "        x1=270,\n",
    "        y1=max(fig.data[0].y)*1.2,  # Adjust y1 to match the range of your data\n",
    "        line=dict(\n",
    "            color='Black',\n",
    "            width=2,\n",
    "            dash='dot',  # Dotted line\n",
    "        ),\n",
    "    )\n",
    ")\n",
    "fig.add_annotation(\n",
    "    x=270,\n",
    "    y=max(fig.data[0].y),  # Position text slightly below the top of the y-axis\n",
    "    text=\"<b>Harris wins the election<b><br>---------->\",\n",
    "    showarrow=True,\n",
    "    arrowhead=0,\n",
    "    ax=85,  # X offset for the text\n",
    "    ay=0,   # Y offset for the text\n",
    "    font=dict(size=12, color=\"Black\"),\n",
    "    align='left'\n",
    ")\n",
    "fig.update_layout(\n",
    "    paper_bgcolor='rgba(0,0,0,0)',\n",
    "    plot_bgcolor='rgba(0,0,0,0)',\n",
    ")\n",
    "\n",
    "# fig.show()\n",
    "fig.write_html(\"docs/histogram.html\",config={'displayModeBar': False,\"responsive\": True,\"scrollZoom\":False})"
   ]
  },
  {
   "cell_type": "code",
   "execution_count": 23,
   "metadata": {},
   "outputs": [],
   "source": [
    "pwin = sum([output['facts']['harris_ev']>=270 for output in outputs])/NUM_ITER\n",
    "median_ev = np.median([output['facts']['harris_ev'] for output in outputs])"
   ]
  },
  {
   "cell_type": "code",
   "execution_count": 24,
   "metadata": {},
   "outputs": [
    {
     "data": {
      "text/plain": [
       "True     8650\n",
       "False    1350\n",
       "dtype: int64"
      ]
     },
     "execution_count": 24,
     "metadata": {},
     "output_type": "execute_result"
    }
   ],
   "source": [
    "(pd.Series([output['facts']['harris_popular_vote']-output['facts']['trump_popular_vote'] for output in outputs])>0).value_counts()"
   ]
  },
  {
   "cell_type": "code",
   "execution_count": 25,
   "metadata": {},
   "outputs": [
    {
     "data": {
      "text/plain": [
       "0.5085"
      ]
     },
     "execution_count": 25,
     "metadata": {},
     "output_type": "execute_result"
    }
   ],
   "source": [
    "pwin"
   ]
  },
  {
   "cell_type": "code",
   "execution_count": 26,
   "metadata": {},
   "outputs": [
    {
     "data": {
      "text/plain": [
       "274.0"
      ]
     },
     "execution_count": 26,
     "metadata": {},
     "output_type": "execute_result"
    }
   ],
   "source": [
    "median_ev"
   ]
  },
  {
   "cell_type": "code",
   "execution_count": 27,
   "metadata": {},
   "outputs": [
    {
     "data": {
      "text/plain": [
       "PA    0.3323\n",
       "WI    0.3085\n",
       "AZ    0.1101\n",
       "GA    0.0920\n",
       "MI    0.0606\n",
       "NC    0.0357\n",
       "NV    0.0311\n",
       "TX    0.0284\n",
       "NY    0.0006\n",
       "UT    0.0004\n",
       "FL    0.0002\n",
       "RI    0.0001\n",
       "dtype: float64"
      ]
     },
     "execution_count": 27,
     "metadata": {},
     "output_type": "execute_result"
    }
   ],
   "source": [
    "tipping_points = pd.Series([output['facts']['tipping_point_state'] for output in outputs])\n",
    "tipping_points.value_counts()/tipping_points.value_counts().sum()"
   ]
  },
  {
   "cell_type": "code",
   "execution_count": null,
   "metadata": {},
   "outputs": [],
   "source": []
  },
  {
   "cell_type": "code",
   "execution_count": 28,
   "metadata": {},
   "outputs": [],
   "source": [
    "for i in range(10):# Create the choropleth map\n",
    "    fig = go.Figure(data=go.Choropleth(\n",
    "        locations=outputs[i]['df'].index,  # State codes\n",
    "        z=outputs[i]['df']['winner'].map({'Harris': 1, 'Trump': 0}),  # Numeric mapping of candidates\n",
    "        locationmode='USA-states',  # Specify that locations are state codes\n",
    "        colorscale=[[0, republican_red], [1, democratic_blue]],  # Define color scale (0 = Trump, 1 = Harris)\n",
    "        showscale=False,  # Disable the color scale bar\n",
    "        text=outputs[i]['df']['winner'],  # Hover text showing the candidate\n",
    "    ))\n",
    "\n",
    "    # Update layout for a better appearance\n",
    "    fig.update_layout(\n",
    "        # title_text=\"2024 Election Map\",\n",
    "        geo=dict(\n",
    "            scope='usa',\n",
    "            projection=go.layout.geo.Projection(type='albers usa'),\n",
    "            showlakes=True,  # Show lakes\n",
    "            lakecolor='rgb(255, 255, 255)',\n",
    "            bgcolor='rgba(0,0,0,0)',  # Set background to transparent\n",
    "        ),\n",
    "        margin=dict(l=0, r=0, t=0, b=0)  # Constrain layout with tighter margins\n",
    "    )\n",
    "\n",
    "    fig.write_html(f\"docs/assets/example_chloros/chloropleth_example_{i}.html\",config={'staticPlot': True})"
   ]
  },
  {
   "cell_type": "code",
   "execution_count": null,
   "metadata": {},
   "outputs": [],
   "source": []
  }
 ],
 "metadata": {
  "kernelspec": {
   "display_name": "Python 3",
   "language": "python",
   "name": "python3"
  },
  "language_info": {
   "codemirror_mode": {
    "name": "ipython",
    "version": 3
   },
   "file_extension": ".py",
   "mimetype": "text/x-python",
   "name": "python",
   "nbconvert_exporter": "python",
   "pygments_lexer": "ipython3",
   "version": "3.10.4"
  }
 },
 "nbformat": 4,
 "nbformat_minor": 2
}
