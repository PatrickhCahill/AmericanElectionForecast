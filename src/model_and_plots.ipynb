{
 "cells": [
  {
   "cell_type": "code",
   "execution_count": 66,
   "metadata": {},
   "outputs": [],
   "source": [
    "import pandas as pd\n",
    "import numpy as np\n",
    "from math import erf\n",
    "import matplotlib.pyplot as plt\n",
    "from sklearn.linear_model import LinearRegression\n",
    "from datetime import datetime as dt\n",
    "import os,sys\n",
    "import plotly.graph_objects as go\n",
    "from plotly.subplots import make_subplots\n",
    "\n",
    "%matplotlib inline\n",
    "NUM_ITER = 10000\n",
    "DAY_OF_SIM = dt.today() # dt.strptime(open(\"datefile.txt\",'r').read()[:-1], '%d-%m-%Y') # "
   ]
  },
  {
   "cell_type": "code",
   "execution_count": 67,
   "metadata": {},
   "outputs": [],
   "source": [
    "republican_red = \"#cf1313\"\n",
    "democratic_blue = \"#116dc2\"\n",
    "other_grey = \"#8a8a8a\"\n",
    "republican_red_alphaed = \"rgba(207, 19, 19, 0.2)\"\n",
    "democratic_blue_alphaed = \"rgba(17, 109, 194, 0.2)\"\n",
    "other_grey_alphaed = \"rgba(138, 138, 138,0.2)\"\n",
    "\n",
    "color_mapper = {\"Kamala Harris\":democratic_blue,\"Harris\":democratic_blue,\"Donald Trump\":republican_red,\"Trump\":republican_red,\"Others\":other_grey,\"Other\":other_grey}\n",
    "color_mapper_alphaed = {\"Kamala Harris\":democratic_blue_alphaed,\"Harris\":democratic_blue_alphaed,\"Donald Trump\":republican_red_alphaed,\"Trump\":republican_red_alphaed,\"Others\":other_grey_alphaed,\"Other\":other_grey_alphaed}"
   ]
  },
  {
   "cell_type": "code",
   "execution_count": 68,
   "metadata": {},
   "outputs": [],
   "source": [
    "df = pd.read_csv(\"../1976-2020-president.csv\") # Read in the election results in each state going back to 1976."
   ]
  },
  {
   "cell_type": "code",
   "execution_count": 69,
   "metadata": {},
   "outputs": [],
   "source": [
    "STARTYEAR = 0 #YEAR WHEN WE START INTERPRETING THE DATA\n",
    "ELECTIONYEAR = 2024 # YEAR WE WANT TO PREDICT\n",
    "df = df[(STARTYEAR <= df['year']) & (df['year']<ELECTIONYEAR)] # SLICE THE DATA FOR ABOVE\n"
   ]
  },
  {
   "cell_type": "code",
   "execution_count": 70,
   "metadata": {},
   "outputs": [],
   "source": [
    "df['party_simplified'] = df['party_simplified'].apply(lambda x: x if x in ['DEMOCRAT', 'REPUBLICAN'] else '3RDPARTY') # COMPRESS ALL THIRD PARTIES INTO ONE VALUE\n",
    "\n",
    "df_grouped = df.groupby(['year', 'state_po', 'party_simplified'], as_index=False).agg({'candidatevotes': 'sum'}) # \n",
    "\n",
    "state_votes = df_grouped.pivot_table(index='state_po', columns=['party_simplified','year'], values='candidatevotes', fill_value=0) # GET THE STATE VOTES BY PARTY BY YEAR\n"
   ]
  },
  {
   "cell_type": "code",
   "execution_count": 71,
   "metadata": {},
   "outputs": [],
   "source": [
    "total_votes = state_votes.sum().groupby(level='year').sum()\n",
    "total_share = state_votes.sum() / state_votes.sum().index.get_level_values('year').map(total_votes) # CONVERT TO VOTESHARE"
   ]
  },
  {
   "cell_type": "code",
   "execution_count": 72,
   "metadata": {},
   "outputs": [],
   "source": [
    "def predict(t,X,weights=None): # LINEAR REGRESSION MODEL\n",
    "    model = LinearRegression()\n",
    "    model.fit(t.reshape(-1, 1), X, sample_weight=weights)\n",
    "    m = model.coef_[0]\n",
    "    b = model.intercept_\n",
    "\n",
    "    Xhats = m*t + b\n",
    "    Xpred = m*ELECTIONYEAR + b\n",
    "    Xvar = np.sum((X-Xhats)**2) / (len(X) - 2) * 1.75\n",
    "\n",
    "    return Xpred, Xhats, Xvar"
   ]
  },
  {
   "cell_type": "code",
   "execution_count": 73,
   "metadata": {},
   "outputs": [],
   "source": [
    "diffs = lambda x: x[1:] - x[:-1]"
   ]
  },
  {
   "cell_type": "code",
   "execution_count": 74,
   "metadata": {},
   "outputs": [
    {
     "name": "stdout",
     "output_type": "stream",
     "text": [
      "-0.026251332243724335\n",
      "0.0011393461175338898\n"
     ]
    }
   ],
   "source": [
    "prior_diffs = {}\n",
    "for i,the_state_vote in state_votes.iterrows():\n",
    "    state_share = the_state_vote / the_state_vote.index.get_level_values('year').map(the_state_vote.groupby(level='year').sum()) # Convert the raw votes to percentages of the total vote in that state\n",
    "    state_diff = state_share - total_share # Get the shift compared to the national share of the vote\n",
    "\n",
    "    t = the_state_vote[\"DEMOCRAT\"].index.values # Election years included in the model\n",
    "    # tweights = np.arccos(1 - 2* ((t - t[0]) / (t - t[0])[-1])) /np.pi\n",
    "    tweights = (t-t[0])**2\n",
    "\n",
    "    other_diff_ = state_diff[\"3RDPARTY\"].values\n",
    "    other_diff_pred, other_diff_hats, other_diff_var = predict(t,other_diff_,tweights)\n",
    "    other_diff_pred_ci = 1.96 * np.sqrt(other_diff_var)\n",
    "\n",
    "\n",
    "\n",
    "    harris_diff_ = state_diff[\"DEMOCRAT\"].values\n",
    "    harris_diff_pred, harris_diff_hats, harris_diff_var = predict(t,harris_diff_,tweights)\n",
    "    harris_diff_pred_ci = 1.96 * np.sqrt(harris_diff_var)\n",
    "\n",
    "    trump_diff_ = state_diff[\"REPUBLICAN\"].values\n",
    "    trump_diff_pred, trump_diff_hats, trump_diff_var = predict(t,trump_diff_,tweights)\n",
    "    trump_diff_pred_ci = 1.96 * np.sqrt(trump_diff_var)\n",
    "\n",
    "    if i==\"AZ\":\n",
    "        scatters=[]\n",
    "        regressions=[]\n",
    "        predictions=[]\n",
    "        year_range=np.append(t, ELECTIONYEAR)\n",
    "\n",
    "        candidate_diffs = [harris_diff_,trump_diff_,other_diff_]\n",
    "        candidate_diff_hats=[harris_diff_hats,trump_diff_hats,other_diff_hats,]\n",
    "        candidate_piff_preds=[harris_diff_pred,trump_diff_pred,other_diff_pred]\n",
    "        candidate_cis=[harris_diff_pred_ci,trump_diff_pred_ci,other_diff_pred_ci]\n",
    "        for i,candidate in enumerate([\"Harris\",\"Trump\",\"Other\"]):\n",
    "            previous_scatter = go.Scatter(\n",
    "                x=t,\n",
    "                y=candidate_diffs[i],\n",
    "                mode='markers',\n",
    "                marker=dict(color=color_mapper[candidate],size=6),\n",
    "                name='Other Scatter'\n",
    "            )\n",
    "            regression_line = go.Scatter(\n",
    "                x=year_range,\n",
    "                y=np.append(candidate_diff_hats[i], candidate_piff_preds[i]),\n",
    "                mode='lines',\n",
    "                line=dict(color=color_mapper[candidate]),\n",
    "                name='Other Line'\n",
    "            )\n",
    "\n",
    "            trace_other_pred = go.Scatter(\n",
    "                x=[ELECTIONYEAR],\n",
    "                y=[candidate_piff_preds[i]],\n",
    "                mode='markers',\n",
    "                marker=dict(color=color_mapper[candidate], symbol='star',size=6),\n",
    "                name='Other Prediction'\n",
    "            )\n",
    "\n",
    "            confidence_interval = go.Scatter(\n",
    "                x=np.concatenate([year_range, year_range[::-1]]),\n",
    "                y=np.concatenate([np.append(candidate_diff_hats[i], candidate_piff_preds[i]) + candidate_cis[i],(np.append(candidate_diff_hats[i], candidate_piff_preds[i]) - candidate_cis[i])[::-1]]),\n",
    "                fill='toself',\n",
    "                fillcolor=color_mapper_alphaed[candidate],\n",
    "                line=dict(color='rgba(255, 255, 255, 0)'),  # No outline\n",
    "                hoverinfo=\"skip\",\n",
    "                showlegend=False,\n",
    "                name='Confidence Interval'\n",
    "            )\n",
    "            scatters.append(previous_scatter)\n",
    "            regressions.append(regression_line)\n",
    "            regressions.append(confidence_interval)\n",
    "            predictions.append(trace_other_pred)\n",
    "        print(harris_diff_pred)\n",
    "        print(harris_diff_var)\n",
    "        fig = go.Figure(data=scatters)\n",
    "        fig.update_yaxes(range=[-0.15, 0.15],tickvals=[-0.15,-0.075,0,0.075,0.15],ticktext=[\"-15%\",\"-7.5%\",\"0%\",\"7.5%\",\"15%\"])\n",
    "        fig.update_layout(showlegend=False,dragmode=False,paper_bgcolor='rgba(0,0,0,0)',plot_bgcolor='rgba(0,0,0,0)',margin={\"r\":0,\"t\":0,\"l\":0,\"b\":0})\n",
    "        # fig.write_html(f\"../docs/assets/AZ_evolve_scatter.html\",config={'displayModeBar': False,\"responsive\": True,\"scrollZoom\":False})\n",
    "    \n",
    "        fig = go.Figure(data=scatters+regressions)\n",
    "        fig.update_yaxes(range=[-0.15, 0.15],tickvals=[-0.15,-0.075,0,0.075,0.15],ticktext=[\"-15%\",\"-7.5%\",\"0%\",\"7.5%\",\"15%\"])\n",
    "        fig.update_layout(showlegend=False,dragmode=False,paper_bgcolor='rgba(0,0,0,0)',plot_bgcolor='rgba(0,0,0,0)',margin={\"r\":0,\"t\":0,\"l\":0,\"b\":0})\n",
    "        # fig.write_html(f\"../docs/assets/AZ_evolve_regression.html\",config={'displayModeBar': False,\"responsive\": True,\"scrollZoom\":False})\n",
    "\n",
    "        fig = go.Figure(data=scatters+regressions+predictions)\n",
    "        fig.update_yaxes(range=[-0.15, 0.15],tickvals=[-0.15,-0.075,0,0.075,0.15],ticktext=[\"-15%\",\"-7.5%\",\"0%\",\"7.5%\",\"15%\"])\n",
    "        fig.update_layout(showlegend=False,dragmode=False,paper_bgcolor='rgba(0,0,0,0)',plot_bgcolor='rgba(0,0,0,0)',margin={\"r\":0,\"t\":0,\"l\":0,\"b\":0})\n",
    "        # fig.write_html(f\"../docs/assets/AZ_evolve.html\",config={'displayModeBar': False,\"responsive\": True,\"scrollZoom\":False})\n",
    "\n",
    "    prior_diffs[the_state_vote.name] = {\n",
    "        \"other_diff\":other_diff_pred,\n",
    "        \"other_var\":other_diff_var,\n",
    "        \"harris_diff\" :harris_diff_pred,\n",
    "        \"harris_var\": harris_diff_var,\n",
    "        \"trump_diff\": trump_diff_pred,\n",
    "        \"trump_var\":trump_diff_var,    }\n",
    "prior_diffs = pd.DataFrame(data=prior_diffs).T"
   ]
  },
  {
   "cell_type": "code",
   "execution_count": 75,
   "metadata": {},
   "outputs": [],
   "source": [
    "national_vals = pd.read_csv(\"../polling_averages/National.csv\",index_col='date')\n",
    "todays_nat_polls = national_vals.loc[DAY_OF_SIM.strftime('%Y-%m-%d')]\n",
    "state_mapper = pd.read_csv(\"../state_mapper.csv\",index_col='state').to_dict()['code']\n",
    "\n",
    "poll_other = todays_nat_polls[\"other_mean\"]\n",
    "poll_dem = todays_nat_polls[\"harris_mean\"]\n",
    "poll_rep = todays_nat_polls[\"trump_mean\"]\n",
    "\n",
    "post_preds = prior_diffs[['other_diff','harris_diff','trump_diff']].copy()\n",
    "post_preds['other_diff'] += poll_other\n",
    "post_preds['harris_diff'] += poll_dem\n",
    "post_preds['trump_diff'] += poll_rep\n",
    "post_preds.rename({'other_diff':'other_vote','harris_diff':'harris_vote','trump_diff':'trump_vote'},axis=1,inplace=True)\n",
    "\n",
    "\n",
    "post_vars = prior_diffs[['other_var','harris_var','trump_var']].copy()\n",
    "post_vars['other_var'] = post_vars['other_var']*post_preds['other_vote'] + todays_nat_polls[\"other_var\"]\n",
    "post_vars['trump_var'] = post_vars['trump_var'] + todays_nat_polls[\"trump_var\"]\n",
    "post_vars['harris_var'] = post_vars['harris_var'] + todays_nat_polls[\"harris_var\"]\n",
    "\n",
    "\n",
    "for state_avgs in os.listdir(\"../polling_averages\"):\n",
    "    if state_avgs[:-4] in state_mapper.keys():\n",
    "        state_avgs_polls = pd.read_csv(f\"../polling_averages/{state_avgs}\",index_col='date')\n",
    "        if state_avgs_polls.shape[0]==0:\n",
    "            continue\n",
    "        todays_state_polls = state_avgs_polls.loc[DAY_OF_SIM.strftime('%Y-%m-%d')] # \n",
    "\n",
    "    \n",
    "        pre_poll_preds = post_preds.loc[state_mapper[state_avgs[:-4]]][[\"harris_vote\",\"trump_vote\",\"other_vote\"]].copy().values\n",
    "        pre_poll_vars = post_vars.loc[state_mapper[state_avgs[:-4]]][[\"harris_var\",\"trump_var\",\"other_var\"]].copy().values\n",
    "\n",
    "        pollmeans = todays_state_polls[[\"harris_mean\",\"trump_mean\",\"other_mean\"]].values\n",
    "        pollvars = todays_state_polls[[\"harris_var\",\"trump_var\",\"other_var\"]].values\n",
    "\n",
    "        post_poll_preds = (pre_poll_preds/pre_poll_vars + pollmeans/pollvars) / (1/pre_poll_vars + 1/pollvars)\n",
    "        post_poll_vars = 1 / (1/pre_poll_vars + 1/pollvars)\n",
    "\n",
    "        post_preds.loc[state_mapper[state_avgs[:-4]],'harris_vote'] = post_poll_preds[0]\n",
    "        post_preds.loc[state_mapper[state_avgs[:-4]],'trump_vote'] = post_poll_preds[1]\n",
    "        post_preds.loc[state_mapper[state_avgs[:-4]],'other_vote'] = post_poll_preds[2]\n",
    "\n",
    "        post_vars.loc[state_mapper[state_avgs[:-4]],'harris_var'] = post_poll_vars[0]\n",
    "        post_vars.loc[state_mapper[state_avgs[:-4]],'trump_var'] = post_poll_vars[1]\n",
    "        post_vars.loc[state_mapper[state_avgs[:-4]],'other_var'] = post_poll_vars[2]\n",
    "\n"
   ]
  },
  {
   "cell_type": "code",
   "execution_count": 76,
   "metadata": {},
   "outputs": [],
   "source": [
    "# Assume 0.5% random walk each day. Move the variance depending on the number of days remaining.\n",
    "post_vars = post_vars + post_preds.values*((dt.strptime(\"2024-11-05\",'%Y-%m-%d') - DAY_OF_SIM).days * 0.005**2 +0.003**2)"
   ]
  },
  {
   "cell_type": "code",
   "execution_count": 77,
   "metadata": {},
   "outputs": [],
   "source": [
    "electoralvotes = {\n",
    "    \"AL\":9,\n",
    "    \"AK\":3,\n",
    "    \"AZ\":11,\n",
    "    \"AR\":6,\n",
    "    \"CA\":54,\n",
    "    \"CO\":10,\n",
    "    \"CT\":7,\n",
    "    \"DC\":3,\n",
    "    \"DE\":3,\n",
    "    \"FL\":30,\n",
    "    \"GA\":16,\n",
    "    \"HI\":4,\n",
    "    \"ID\":4,\n",
    "    \"IL\":19,\n",
    "    \"IN\":11,\n",
    "    \"IA\":6,\n",
    "    \"KS\":6,\n",
    "    \"KY\":8,\n",
    "    \"LA\":8,\n",
    "    \"ME\":4,\n",
    "    \"MD\":10,\n",
    "    \"MA\":11,\n",
    "    \"MI\":15,\n",
    "    \"MN\":10,\n",
    "    \"MS\":6,\n",
    "    \"MO\":10,\n",
    "    \"MT\":4,\n",
    "    \"NE\":5,\n",
    "    \"NV\":6,\n",
    "    \"NH\":4,\n",
    "    \"NJ\":14,\n",
    "    \"NM\":5,\n",
    "    \"NY\":28,\n",
    "    \"NC\":16,\n",
    "    \"ND\":3,\n",
    "    \"OH\":17,\n",
    "    \"OK\":7,\n",
    "    \"OR\":8,\n",
    "    \"PA\":19,\n",
    "    \"RI\":4,\n",
    "    \"SC\":9,\n",
    "    \"SD\":3,\n",
    "    \"TN\":11,\n",
    "    \"TX\":40,\n",
    "    \"UT\":6,\n",
    "    \"VT\":3,\n",
    "    \"VA\":13,\n",
    "    \"WA\":12,\n",
    "    \"WV\":4,\n",
    "    \"WI\":10,\n",
    "    \"WY\":3}\t\n"
   ]
  },
  {
   "cell_type": "code",
   "execution_count": 78,
   "metadata": {},
   "outputs": [],
   "source": [
    "def to_cov(row,column):\n",
    "    return row * np.sqrt(column.loc[row.name]) * np.sqrt(column)"
   ]
  },
  {
   "cell_type": "code",
   "execution_count": 79,
   "metadata": {},
   "outputs": [],
   "source": [
    "correlation_factor = 0.5 # How correlated do we expect the previous correlations to predict the next correlations. Defaults to 0.5\n",
    "trump_cov = state_votes['REPUBLICAN'].T.corr()\n",
    "trump_cov = np.eye(trump_cov.shape[0])*(1-correlation_factor) + trump_cov*correlation_factor\n",
    "trump_cov = trump_cov.apply(lambda row: to_cov(row,post_vars['trump_var']))\n",
    "\n",
    "\n",
    "harris_cov = state_votes['DEMOCRAT'].T.corr()\n",
    "harris_cov = np.eye(harris_cov.shape[0])*(1-correlation_factor) + harris_cov*correlation_factor\n",
    "harris_cov = harris_cov.apply(lambda row: to_cov(row,post_vars['harris_var']))\n",
    "\n",
    "oth_cov = state_votes['3RDPARTY'].T.corr()\n",
    "oth_cov = np.eye(oth_cov.shape[0])*(1-correlation_factor) + oth_cov*correlation_factor\n",
    "oth_cov = oth_cov.apply(lambda row: to_cov(row,post_vars['other_var']))"
   ]
  },
  {
   "cell_type": "code",
   "execution_count": 80,
   "metadata": {},
   "outputs": [],
   "source": [
    "outputs = [] # SIMULATE ALL THE ELECTION RESULTS\n",
    "for _ in range(NUM_ITER):\n",
    "    election = pd.DataFrame(data = [np.clip(np.random.multivariate_normal(post_preds[\"trump_vote\"],trump_cov),0,1),\n",
    "                                    np.clip(np.random.multivariate_normal(post_preds[\"harris_vote\"],harris_cov),0,1),\n",
    "                                    np.clip(np.random.multivariate_normal(post_preds[\"other_vote\"],oth_cov),0,1)\n",
    "                            ], columns=trump_cov.columns,index=[\"trump_share\",\"harris_share\",\"oth_share\"]).T\n",
    "    \n",
    "    harris_popular_vote = np.average(election['harris_share'],weights=state_votes.T.loc[(slice(None), ELECTIONYEAR-4), :].droplevel('year').sum())\n",
    "    trump_popular_vote = np.average(election['trump_share'],weights=state_votes.T.loc[(slice(None), ELECTIONYEAR-4), :].droplevel('year').sum())\n",
    "    oth_popular_vote = np.average(election['oth_share'],weights=state_votes.T.loc[(slice(None), ELECTIONYEAR-4), :].droplevel('year').sum())\n",
    "    \n",
    "    election['margin']=election[\"harris_share\"] - election[\"trump_share\"]\n",
    "    election.sort_values(by='margin',ascending=False,inplace=True)\n",
    "\n",
    "    election['winner']=[\"Harris\"if res else \"Trump\" for res in election['margin']>0 ]\n",
    "\n",
    "    election[\"Cummulative Trump EV\"] = 0\n",
    "    election[\"Cummulative Harris EV\"] = 0\n",
    "\n",
    "\n",
    "\n",
    "    harris_ev = 0\n",
    "    trump_ev = 0\n",
    "    other_ev = 0\n",
    "\n",
    "\n",
    "    for state_name, result in election.iterrows():\n",
    "        if result['winner']==\"Harris\":\n",
    "            harris_ev += electoralvotes[state_name]\n",
    "            election.loc[state_name,\"Cummulative Harris EV\"] = harris_ev\n",
    "\n",
    "    election.sort_values(by='margin',ascending=True,inplace=True)\n",
    "    for state_name, result in election.iterrows():\n",
    "        if result['winner']==\"Trump\":\n",
    "            trump_ev += electoralvotes[state_name]\n",
    "            election.loc[state_name,\"Cummulative Trump EV\"] = trump_ev\n",
    "\n",
    "    # Check if Electoral Vote Tie\n",
    "    if (election[[\"Cummulative Harris EV\",\"Cummulative Trump EV\"]]==269).any().all():\n",
    "        tipping_point_state = election[(election[[\"Cummulative Harris EV\",\"Cummulative Trump EV\"]]==269).any(axis=1)]['margin'].abs().idxmin()\n",
    "    else:\n",
    "        tipping_point_state = election[(election[[\"Cummulative Harris EV\",\"Cummulative Trump EV\"]]>= 270).any(axis=1)][[\"Cummulative Harris EV\",\"Cummulative Trump EV\"]].sum(axis=1).idxmin()\n",
    " \n",
    "\n",
    "\n",
    "    output_df = election[[\"trump_share\",\"harris_share\",\"oth_share\",\"winner\"]]\n",
    "    output = {\n",
    "        \"df\":output_df,\n",
    "        \"facts\":{\n",
    "            \"harris_popular_vote\":harris_popular_vote,\n",
    "            \"trump_popular_vote\":trump_popular_vote,\n",
    "            \"oth_popular_vote\":oth_popular_vote,\n",
    "            \"tipping_point_state\":tipping_point_state,\n",
    "            \"harris_ev\":harris_ev\n",
    "        }\n",
    "    }\n",
    "    outputs.append(output)"
   ]
  },
  {
   "cell_type": "code",
   "execution_count": 81,
   "metadata": {},
   "outputs": [],
   "source": [
    "combined_df = pd.concat([output['df'] for output in outputs],axis=0)\n",
    "median_df = combined_df[[\"trump_share\",\t\"harris_share\",\"oth_share\"]].groupby(level=0).median()"
   ]
  },
  {
   "cell_type": "code",
   "execution_count": 82,
   "metadata": {},
   "outputs": [],
   "source": [
    "def ensure_harris(counts):\n",
    "    if \"Harris\" not in counts:\n",
    "        counts[\"Harris\"] = 0\n",
    "    return counts\n",
    "state_probs = combined_df.groupby(combined_df.index)[\"winner\"].apply(lambda x: x.value_counts())\n",
    "state_probs = state_probs.groupby(level=0).apply(ensure_harris)\n",
    "state_probs = state_probs.reset_index(level=1, drop=True).unstack(fill_value=0).drop('',axis=1)"
   ]
  },
  {
   "cell_type": "code",
   "execution_count": 83,
   "metadata": {},
   "outputs": [],
   "source": [
    "model_outputs = {}\n",
    "for i,row in median_df.iterrows():\n",
    "    p_harris_win = state_probs.loc[i,\"Harris\"] / state_probs.loc[i].sum()\n",
    "    harris_margin_median = row[\"harris_share\"] - row[\"trump_share\"]\n",
    "\n",
    "\n",
    "    model_outputs[i] = {\n",
    "        \"Probability Harris Win\":p_harris_win,\n",
    "        \"Median Harris Margin\":harris_margin_median,\n",
    "        \"Harris Voteshare\":row[\"harris_share\"],\n",
    "        \"Trump Voteshare\":row[\"trump_share\"],\n",
    "        \"Other Voteshare\":row[\"oth_share\"],\n",
    "        \"Total Number of Votes\":state_votes.T.loc[(slice(None), ELECTIONYEAR-4), :].droplevel('year').sum()[i],\n",
    "        \"EV\":electoralvotes[i]\n",
    "    }\n",
    "model_outputs = pd.DataFrame(data = model_outputs).T"
   ]
  },
  {
   "cell_type": "code",
   "execution_count": 84,
   "metadata": {},
   "outputs": [],
   "source": [
    "text = model_outputs.apply(lambda row:\n",
    "                           f\" <b><i>{df[['state','state_po']].set_index('state_po').to_dict()['state'][row.name]}</i> {int(row['EV'])} EV's</b> \\\n",
    "                           <br><i>Probability Harris Wins</i>: <b>{np.round(row['Probability Harris Win']*100,1)}%</b> \\\n",
    "                           <br><i>Predicted Harris Voteshare</i>: <b>{np.round(row['Harris Voteshare']*100,1)}%</b> \\\n",
    "                            <br><i>Predicted Trump Voteshare</i>: <b>{np.round(row['Trump Voteshare']*100,1)}%</b> \\\n",
    "                           <br><i>Predicted Other Voteshare</i>: <b>{np.round(row['Other Voteshare']*100,1)}%</b> \\\n",
    "                            \",axis=1)"
   ]
  },
  {
   "cell_type": "code",
   "execution_count": 85,
   "metadata": {},
   "outputs": [],
   "source": [
    "republican_red = \"#cf1313\"\n",
    "democratic_blue = \"#116dc2\"\n",
    "chloropleth_cmap = [(0, republican_red),(0.5,\"#fef7ff\"), (1, democratic_blue)]\n",
    "histogram_cmap = [(0, republican_red),(0.4, republican_red), (0.5,\"#c478b1\"), (0.6, democratic_blue), (1, democratic_blue)]"
   ]
  },
  {
   "cell_type": "code",
   "execution_count": 86,
   "metadata": {},
   "outputs": [],
   "source": [
    "fig = go.Figure(data=go.Choropleth(\n",
    "    locations=model_outputs.index, # Spatial coordinates\n",
    "    z = model_outputs[\"Probability Harris Win\"], # Data to be color-coded\n",
    "    locationmode = 'USA-states', # set of locations match entries in `locations`\n",
    "    colorscale = chloropleth_cmap,\n",
    "    # colorbar_title = \"Probability Harris Win\",\n",
    "    text = text,\n",
    "    hoverinfo=\"text\",\n",
    "    showscale=False\n",
    "))\n",
    "\n",
    "fig.update_layout(\n",
    "    # title_text = f'2024 Electoral Forecast: Kamala Harris has a {OVERALL[\"Probability Harris Win\"].round(3)*100}% chance to win the election',\n",
    "    geo_scope='usa', # limite map scope to USA\n",
    "    title=None,  # Remove title\n",
    ")\n",
    "fig.update_layout(\n",
    "    dragmode=False,\n",
    "    paper_bgcolor='rgba(0,0,0,0)',\n",
    "    plot_bgcolor='rgba(0,0,0,0)',\n",
    "    margin={\"r\":0,\"t\":0,\"l\":0,\"b\":0},  # Adjust margins to remove extra space\n",
    "\n",
    ")\n",
    "# fig.add_trace(go.Scattergeo(\n",
    "#     locationmode='USA-states',\n",
    "#     locations=model_outputs.index, # Spatial coordinates\n",
    "\n",
    "#     text=[f'<a href=\"https://plot.ly/\"> </a>' for state in model_outputs.index],\n",
    "#     mode='text',\n",
    "#     textposition='middle center',\n",
    "#     showlegend=False,\n",
    "#     hoverinfo='none'\n",
    "# ))\n",
    "# fig.show()\n",
    "fig.write_html(\"../docs/assets/chloropleth.html\",config={'displayModeBar': False,\"responsive\": True,\"scrollZoom\":False})"
   ]
  },
  {
   "cell_type": "code",
   "execution_count": 87,
   "metadata": {},
   "outputs": [],
   "source": [
    "run = np.array([output['facts']['harris_ev'] for output in outputs])\n",
    "harris_margins = 2*run - 538"
   ]
  },
  {
   "cell_type": "code",
   "execution_count": 88,
   "metadata": {},
   "outputs": [],
   "source": [
    "# counts,bins = np.histogram(run,bins=85,range=(100,440))\n",
    "counts,bins = np.histogram(harris_margins,bins=max(abs(min(harris_margins)),abs(max(harris_margins))), range=(-max(abs(min(harris_margins)),abs(max(harris_margins))),max(abs(min(harris_margins)),abs(max(harris_margins)))))\n",
    "cumulative = np.cumsum(counts) / sum(counts)\n"
   ]
  },
  {
   "cell_type": "code",
   "execution_count": 89,
   "metadata": {},
   "outputs": [],
   "source": [
    "hist_individual_text = []\n",
    "hist_cumsum_text = []\n",
    "for i,count in enumerate(counts):\n",
    "    harris_res = int(bins[i])//2 + 269\n",
    "    trump_res = -int(bins[i])//2 + 269\n",
    "    if trump_res > harris_res:\n",
    "        hist_individual_text.append(\n",
    "            f\"<b>Trump wins the election with <i>{trump_res}</i> EV's to \\\n",
    "            <br> Harris's <i>{harris_res}</i> EV's in {count} runs \\\n",
    "        <br> out of {sum(counts)} simulations </b>\"\n",
    "        )\n",
    "        \n",
    "        # hist_cumsum_text.append(f\"<b> Trump wins at least {trump_res} EV's in {np.round(cumulative[i]*100,1)}% of {sum(counts)} simulations </b>\")\n",
    "    elif trump_res < harris_res:\n",
    "        hist_individual_text.append(\n",
    "            f\"<b>Harris wins the election with <i>{harris_res}</i> EV's to \\\n",
    "            <br> Trump's <i>{trump_res}</i> EV's in {count} runs \\\n",
    "        <br> out of {sum(counts)} simulations </b>\"\n",
    "        )\n",
    "        # hist_cumsum_text.append(f\"<b> Harris wins at least {harris_res} EV's in {np.round(100-cumulative[i]*100,1)}% of {sum(counts)} simulations </b>\")\n",
    "    else:\n",
    "        hist_individual_text.append(\n",
    "            f\"<b> An electoral college tie! 269-269 to both candidates occurs \\\n",
    "            <br> in {count} runs out of {sum(counts)} simulations </b>\")\n",
    "    hist_cumsum_text.append(f\"<b> Harris wins at least {harris_res+1} EV's in {np.round(100-cumulative[i]*100,1)}% of {sum(counts)} simulations </b>\")\n",
    "  \n",
    "\n"
   ]
  },
  {
   "cell_type": "code",
   "execution_count": 90,
   "metadata": {},
   "outputs": [],
   "source": [
    "\n",
    "\n",
    "fig = make_subplots(specs=[[{\"secondary_y\": True}]])\n",
    "\n",
    "fig.add_trace(go.Bar(\n",
    "    x=bins,\n",
    "    y=counts/sum(counts)*100,\n",
    "    marker={'color': bins, 'colorscale': histogram_cmap},\n",
    "    # text =hist_individual_text,    \n",
    "    hoverinfo='skip',\n",
    "    textposition = \"none\",\n",
    "    name='Probability %'\n",
    "    ),\n",
    "        secondary_y=False,\n",
    ")\n",
    "\n",
    "fig.add_trace(go.Scatter(\n",
    "    x=bins,\n",
    "    y=cumulative,\n",
    "    mode='markers+lines',\n",
    "    name='Smoothed Cumulative Distribution',\n",
    "    line={'color': 'black', 'width': 0},\n",
    "    marker={'color': bins, 'colorscale': histogram_cmap,\"size\":3},\n",
    "    text =hist_cumsum_text,    \n",
    "    hoverinfo='text',\n",
    "),\n",
    "    secondary_y=True\n",
    ")\n",
    "fig.update_layout(\n",
    "    xaxis_title='Harris Electoral College Vote',\n",
    ")\n",
    "fig.update_yaxes(title_text=\"<b>Probability %</b>\", secondary_y=False,range=[0,max(fig.data[0].y)*1.2])\n",
    "fig.update_yaxes(title_text=\"<b> Cumulative Probability %</b>\", secondary_y=True, range=[0,1.05],\n",
    "                 tickvals=[0,0.2,0.4,0.6,0.8,1],\n",
    "                 ticktext=[0,20,40,60,80,100])\n",
    "\n",
    "\n",
    "# fig.add_shape(go.layout.Shape(\n",
    "#         xref=\"x\",\n",
    "#         yref=\"y1\",\n",
    "#         type='line',\n",
    "#         x0=0,\n",
    "#         y0=0,\n",
    "#         x1=0,\n",
    "#         y1=max(fig.data[0].y)*1.2,  # Adjust y1 to match the range of your data\n",
    "#         line={'color': 'Black', 'width': 2, 'dash': 'dot'},\n",
    "#     ),\n",
    "#     )\n",
    "# fig.add_annotation(\n",
    "#     xref=\"x\",\n",
    "#     yref=\"y1\",\n",
    "#     x=80,\n",
    "#     y=max(fig.data[0].y)*1.1,  # Position text slightly below the top of the y-axis\n",
    "#     text=\"<b>Harris wins the election</b><br>---------->\",\n",
    "#     showarrow=False,\n",
    "#     arrowhead=0,\n",
    "#     font=dict(size=12, color=\"Black\"),\n",
    "#     align='left',\n",
    "# )\n",
    "fig.add_trace(go.Scatter(\n",
    "    x=[0, 0],  # Line at x=0\n",
    "    y=[0, max(fig.data[0].y)],  # Extend from y=0 to y=1\n",
    "    mode=\"lines+text\",\n",
    "    line={'color': 'Black', 'width': 2, 'dash': 'dot'},\n",
    "    text=[\"\",\"  <b>Harris wins the election</b><br>  ------------------>\"],  # Annotation text\n",
    "    textposition=\"bottom right\",  # Positioning the text at the top right of the line\n",
    "    showlegend=False,  # Hide the legend entry\n",
    "    hoverinfo='skip'\n",
    "),  secondary_y=False\n",
    ")\n",
    "# fig.add_trace(go.Scatter(\n",
    "#     x=[0, 0],  # Line at x=0\n",
    "#     y=[0, max(fig.data[0].y)],  # Extend from y=0 to y=1\n",
    "#     mode=\"lines+text\",\n",
    "#     line={'color': 'Black', 'width': 2, 'dash': 'dot'},\n",
    "#     text=[\"\",\"  <b>Harris wins the election</b><br>  ---------->\"],  # Annotation text\n",
    "#     textposition=\"bottom right\",  # Positioning the text at the top right of the line\n",
    "#     showlegend=False  # Hide the legend entry\n",
    "# ),  secondary_y=False\n",
    "# )\n",
    "\n",
    "\n",
    "# ox = bins[np.where(cumulative>=0.5)[0][0]]\n",
    "# oy = 0.5\n",
    "# rx = 8\n",
    "# ry = 1.3*rx/(max(abs(min(harris_margins)),abs(max(harris_margins))))\n",
    "# fig.add_shape(\n",
    "#     go.layout.Shape(\n",
    "#         xref=\"x\",\n",
    "#         yref=\"y2\",  # y2 refers to the second y-axis\n",
    "#         type='circle',\n",
    "#         x0= ox-rx,\n",
    "#         y0=oy+ry,\n",
    "#         x1=ox+rx,\n",
    "#         y1=oy-ry,  # Adjust y1 to match the range of your data\n",
    "#         line=dict(\n",
    "#             color='Black',\n",
    "#             width=2,\n",
    "#             dash='solid',  # Dotted line\n",
    "#         ),\n",
    "        \n",
    "#     )\n",
    "# )\n",
    "# fig.add_annotation(\n",
    "#     xref=\"x\",\n",
    "#     yref=\"y2\",\n",
    "#     x=ox+65,\n",
    "#     y=oy,  # Position text slightly below the top of the y-axis\n",
    "#     text=\"<b>Median outcome </b>\",\n",
    "#     showarrow=False,\n",
    "#     arrowhead=0,\n",
    "#     font=dict(size=12, color=\"Black\"),\n",
    "#     align='left',\n",
    "\n",
    "# )\n",
    "\n",
    "\n",
    "fig.update_layout(\n",
    "    dragmode=False,\n",
    "    paper_bgcolor='rgba(0,0,0,0)',\n",
    "    plot_bgcolor='rgba(0,0,0,0)',\n",
    "    margin={\"r\":0,\"t\":0,\"l\":0,\"b\":0},  # Adjust margins to remove extra space\n",
    "\n",
    ")\n",
    "fig.update_layout(\n",
    "    xaxis=dict(range=[-max(abs(min(harris_margins)),abs(max(harris_margins))),max(abs(min(harris_margins)),abs(max(harris_margins)))],\n",
    "        tickvals=[-300, -200, -100, -50, 0, 50, 100, 200, 300],  # Custom tick values\n",
    "        ticktext=[\"R +300\", \"R +200\", \"R +100\", \"R +50\",\"0\", \"D +50\",\"D +100\",\"D +200\", \"D +300\"],  # Custom tick labels\n",
    "    ),\n",
    "    hovermode=\"x\",\n",
    "    showlegend=False\n",
    ")\n",
    "\n",
    "# fig.show()\n",
    "fig.write_html(\"../docs/assets/histogram.html\",config={'displayModeBar': False,\"responsive\": True,\"scrollZoom\":False})"
   ]
  },
  {
   "cell_type": "code",
   "execution_count": 91,
   "metadata": {},
   "outputs": [],
   "source": [
    "ex_vote_text = []\n",
    "\n",
    "for output in outputs:\n",
    "    if output['facts']['harris_ev']>270:\n",
    "        ex_vote_text.append(f\"<b>Harris wins with {output['facts']['harris_ev']} EV's. \\\n",
    "                    <br>Harris wins {np.round(output['facts']['harris_popular_vote']*100,1)}% of the vote to \\\n",
    "                    <br>Trump's {np.round(output['facts']['trump_popular_vote']*100,1)}%\")\n",
    "    elif output['facts']['harris_ev']<269:\n",
    "        ex_vote_text.append(f\"<b>Trump wins with {538 - output['facts']['harris_ev']} EV's. \\\n",
    "            <br>Trump wins {np.round(output['facts']['trump_popular_vote']*100,1)}% of the vote to \\\n",
    "            <br>Harris's {np.round(output['facts']['harris_popular_vote']*100,1)}%\")\n",
    "    else:\n",
    "        ex_vote_text.append(f\"<b>269 - 269: Electoral college tie. \\\n",
    "            <br>Trump wins {np.round(output['facts']['trump_popular_vote']*100,1)}% of the vote to \\\n",
    "            <br>Harris's {np.round(output['facts']['harris_popular_vote']*100,1)}%\")"
   ]
  },
  {
   "cell_type": "code",
   "execution_count": 92,
   "metadata": {},
   "outputs": [],
   "source": [
    "vote_margin = np.array([output['facts']['trump_popular_vote']-output['facts']['harris_popular_vote'] for output in outputs])[:1000]\n",
    "ev_margin = 2*np.array([output['facts']['harris_ev'] for output in outputs])[:1000] - 538\n",
    "color = np.where(ev_margin == 0, 'gray', np.where(ev_margin > 0, democratic_blue, republican_red))\n",
    "alpha = np.where(\n",
    "    ((ev_margin > 0) & (vote_margin > 0)) | ((ev_margin < 0) & (vote_margin < 0)), 0.4, 1.0\n",
    ")\n",
    "\n",
    "# Create scatter plot\n",
    "fig = go.Figure(data=go.Scatter(\n",
    "    y=vote_margin,\n",
    "    x=ev_margin,\n",
    "    mode='markers',\n",
    "    marker=dict(\n",
    "        color=color,  # Color based on the condition\n",
    "        opacity=alpha,  # Opacity based on the condition\n",
    "        size=8,  # Marker size (adjust as needed)\n",
    "        line=dict(width=1, color='white')  # Add white border to markers\n",
    "    ),\n",
    "    text =ex_vote_text,    \n",
    "    hoverinfo='text',\n",
    "    # textposition = \"none\"\n",
    "))\n",
    "\n",
    "# Customize layout\n",
    "fig.update_layout(\n",
    "    yaxis=dict(range=[-round(max(abs(vote_margin)),2) - 0.05, round(max(abs(vote_margin)),2) + 0.05],\n",
    "        tickvals=[-0.2, -0.1, -0.05, 0, 0.05, 0.1, 0.2],  # Custom tick values\n",
    "        ticktext=[\"D +20\", \"D +10\", \"D +5\",\"0\", \"R +5\",\"R +10\",\"R +20\"],  # Custom tick labels\n",
    "        showgrid=False,\n",
    "        zeroline=True,  # Add a line at y=0 (major x-axis)\n",
    "        zerolinecolor='black',  # Set the color of the x-axis line\n",
    "        zerolinewidth=2  # Set the width of the x-axis line\n",
    "    ),    \n",
    "    \n",
    "    xaxis=dict(range=[-400, 400],\n",
    "        tickvals=[400, 200, 100, 0, -100, -200, -400],  # Custom tick values\n",
    "        ticktext=[\"D +400\", \"D +200\", \"D +100\",\"0\", \"R +100\",\"R +200\",\"R +400\"],  # Custom tick labels\n",
    "        showgrid=False,\n",
    "        zeroline=True,  # Add a line at y=0 (major x-axis)\n",
    "        zerolinecolor='black',  # Set the color of the x-axis line\n",
    "        zerolinewidth=2  # Set the width of the x-axis line\n",
    "    ),        \n",
    "    # width=600,  # Width of the plot\n",
    "    # height=600,  # Height of the plot (same as width to make it square)\n",
    ")\n",
    "fig.update_layout(\n",
    "    dragmode=False,\n",
    "    paper_bgcolor='rgba(0,0,0,0)',\n",
    "    plot_bgcolor='rgba(0,0,0,0)',\n",
    ")\n",
    "\n",
    "# Show the plot\n",
    "fig.write_html(\"../docs/assets/ev_vote.html\",config={'displayModeBar': False,\"responsive\": True,\"scrollZoom\":False})"
   ]
  },
  {
   "cell_type": "code",
   "execution_count": 93,
   "metadata": {},
   "outputs": [],
   "source": [
    "tipping_points = pd.Series([output['facts']['tipping_point_state'] for output in outputs])\n",
    "tipping_points_chances = (tipping_points.value_counts()/tipping_points.value_counts().sum())"
   ]
  },
  {
   "cell_type": "code",
   "execution_count": 94,
   "metadata": {},
   "outputs": [],
   "source": [
    "model_outputs['tipping_point_chance'] = tipping_points_chances\n",
    "model_outputs['tipping_point_chance'] = model_outputs['tipping_point_chance'].fillna(0)"
   ]
  },
  {
   "cell_type": "code",
   "execution_count": 95,
   "metadata": {},
   "outputs": [],
   "source": [
    "model_outputs.index.name='state'"
   ]
  },
  {
   "cell_type": "code",
   "execution_count": 96,
   "metadata": {},
   "outputs": [],
   "source": [
    "model_outputs.to_csv(\"../docs/model_data/state_outputs.csv\")"
   ]
  },
  {
   "cell_type": "code",
   "execution_count": 97,
   "metadata": {},
   "outputs": [],
   "source": [
    "facts_df = pd.read_csv(\"../facts.csv\",parse_dates=['date'],date_parser=lambda x: dt.strptime(x[:10], '%Y-%m-%d'),index_col='date')"
   ]
  },
  {
   "cell_type": "code",
   "execution_count": 98,
   "metadata": {},
   "outputs": [],
   "source": [
    "def median_stats(X)->tuple:\n",
    "    Xsorted = np.sort(X)\n",
    "    ci_lower_index = np.floor(len(Xsorted)/2 - 1.96*np.sqrt(len(Xsorted)/4)).astype(int)\n",
    "    ci_upper_index = np.ceil(len(Xsorted)/2 + 1.96*np.sqrt(len(Xsorted)/4)).astype(int)\n",
    "    print(ci_lower_index)\n",
    "    the_median = np.median(X)\n",
    "    return the_median, Xsorted[ci_lower_index], Xsorted[ci_upper_index]\n",
    "def mean_stats(X)->tuple:\n",
    "    themean = np.mean(X)\n",
    "    return themean, themean-1.96*np.std(X), themean+1.96*np.std(X)"
   ]
  },
  {
   "cell_type": "code",
   "execution_count": 99,
   "metadata": {},
   "outputs": [],
   "source": [
    "harris_mean_stats = mean_stats([output['facts']['harris_ev'] for output in outputs])\n",
    "trump_mean_stats = mean_stats([538-output['facts']['harris_ev'] for output in outputs])\n",
    "harrispwin = sum([output['facts']['harris_ev']>=270 for output in outputs])/NUM_ITER\n",
    "trumppwin = sum([output['facts']['harris_ev']<269 for output in outputs])/NUM_ITER\n",
    "evtie = sum([output['facts']['harris_ev']==269 for output in outputs])/NUM_ITER\n",
    "\n",
    "harris_popular_vote_stats = mean_stats([output['facts']['harris_popular_vote'] for output in outputs])\n",
    "trump_popular_vote_stats = mean_stats([output['facts']['trump_popular_vote'] for output in outputs])\n",
    "other_popular_vote = mean_stats([1 - output['facts']['trump_popular_vote']-output['facts']['harris_popular_vote'] for output in outputs])\n",
    "\n",
    "electoral_college_gap = []\n",
    "ev_popular_split = []\n",
    "for output in outputs:\n",
    "    harris_popular_margin = output['facts']['harris_popular_vote']- output['facts']['trump_popular_vote']\n",
    "    tipping_point_margin = output['df'].loc[output['facts']['tipping_point_state'],'harris_share'] - output['df'].loc[output['facts']['tipping_point_state'],'trump_share']\n",
    "    electoral_college_gap.append(tipping_point_margin - harris_popular_margin)\n",
    "\n",
    "    if output['facts']['harris_ev']>=270 and harris_popular_margin<0:\n",
    "        ev_popular_split.append(\"harris\")\n",
    "    elif output['facts']['harris_ev']<269 and harris_popular_margin>0:\n",
    "        ev_popular_split.append('trump')\n",
    "    else:\n",
    "        ev_popular_split.append('aligned')\n",
    "electoral_college_gap_stats = mean_stats(electoral_college_gap)\n",
    "ev_popular_split_stats = pd.Series(ev_popular_split).value_counts()/len(ev_popular_split)\n",
    "\n"
   ]
  },
  {
   "cell_type": "code",
   "execution_count": 100,
   "metadata": {},
   "outputs": [],
   "source": [
    "popvote_facts = list(np.unique([np.argmax((output['facts']['harris_popular_vote'],output['facts']['trump_popular_vote'],output['facts']['oth_popular_vote'])) for output in outputs],return_counts=True))\n",
    "popvote_facts[1] = popvote_facts[1]/np.sum(popvote_facts[1])\n",
    "if 2 not in popvote_facts[0]:\n",
    "    popvote_facts[0] = np.append(popvote_facts[0],2)\n",
    "    popvote_facts[1] = np.append(popvote_facts[1],0)"
   ]
  },
  {
   "cell_type": "code",
   "execution_count": 101,
   "metadata": {},
   "outputs": [],
   "source": [
    "facts_df.loc[DAY_OF_SIM] = pd.Series(data={\n",
    "    'harris_mean_ev':harris_mean_stats[0],\n",
    "    'harris_mean_ev_lower':harris_mean_stats[1],\n",
    "    'harris_mean_ev_upper':harris_mean_stats[2],\n",
    "    'trump_mean_ev':trump_mean_stats[0],\n",
    "    'trump_mean_ev_lower':trump_mean_stats[1],\n",
    "    'trump_mean_ev_upper':trump_mean_stats[2],\n",
    "    'harris_ev_prob':harrispwin,\n",
    "    'trump_ev_prob':trumppwin,\n",
    "    'ev_tie_prob':evtie,\n",
    "    'harris_mean_popular_vote':harris_popular_vote_stats[0],\n",
    "    'harris_mean_popular_vote_lower':harris_popular_vote_stats[1],\n",
    "    'harris_mean_popular_vote_upper':harris_popular_vote_stats[2],\n",
    "    \n",
    "    'trump_mean_popular_vote':trump_popular_vote_stats[0],\n",
    "    'trump_mean_popular_vote_lower':trump_popular_vote_stats[1],\n",
    "    'trump_mean_popular_vote_upper':trump_popular_vote_stats[2],\n",
    "    \n",
    "    'other_mean_popular_vote':other_popular_vote[0],\n",
    "    'other_mean_popular_vote_lower':other_popular_vote[1],\n",
    "    'other_mean_popular_vote_upper':other_popular_vote[2],\n",
    "    \n",
    "    'harris_popular_prob':popvote_facts[1][0],\n",
    "    'trump_popular_prob':popvote_facts[1][1],\n",
    "    'other_popular_prob':popvote_facts[1][2],\n",
    "\n",
    "    'electoral_college_gap':electoral_college_gap_stats[0],\n",
    "    'electoral_college_gap_lower':electoral_college_gap_stats[1],\n",
    "    'electoral_college_gap_upper':electoral_college_gap_stats[2],\n",
    "    'ev_popular_split_for_trump_prob': ev_popular_split_stats['trump'],\n",
    "    'ev_popular_split_for_harris_prob': ev_popular_split_stats['harris'] \n",
    "\n",
    "})"
   ]
  },
  {
   "cell_type": "code",
   "execution_count": 102,
   "metadata": {},
   "outputs": [],
   "source": [
    "facts_df.to_csv(\"../facts.csv\", date_format='%Y-%m-%d')"
   ]
  },
  {
   "cell_type": "code",
   "execution_count": 103,
   "metadata": {},
   "outputs": [
    {
     "data": {
      "text/html": [
       "<div>\n",
       "<style scoped>\n",
       "    .dataframe tbody tr th:only-of-type {\n",
       "        vertical-align: middle;\n",
       "    }\n",
       "\n",
       "    .dataframe tbody tr th {\n",
       "        vertical-align: top;\n",
       "    }\n",
       "\n",
       "    .dataframe thead th {\n",
       "        text-align: right;\n",
       "    }\n",
       "</style>\n",
       "<table border=\"1\" class=\"dataframe\">\n",
       "  <thead>\n",
       "    <tr style=\"text-align: right;\">\n",
       "      <th></th>\n",
       "      <th>trump_share</th>\n",
       "      <th>harris_share</th>\n",
       "      <th>oth_share</th>\n",
       "      <th>winner</th>\n",
       "    </tr>\n",
       "    <tr>\n",
       "      <th>state_po</th>\n",
       "      <th></th>\n",
       "      <th></th>\n",
       "      <th></th>\n",
       "      <th></th>\n",
       "    </tr>\n",
       "  </thead>\n",
       "  <tbody>\n",
       "    <tr>\n",
       "      <th>WV</th>\n",
       "      <td>0.860646</td>\n",
       "      <td>0.203895</td>\n",
       "      <td>0.051110</td>\n",
       "      <td>Trump</td>\n",
       "    </tr>\n",
       "    <tr>\n",
       "      <th>WY</th>\n",
       "      <td>0.809672</td>\n",
       "      <td>0.238807</td>\n",
       "      <td>0.090510</td>\n",
       "      <td>Trump</td>\n",
       "    </tr>\n",
       "    <tr>\n",
       "      <th>AR</th>\n",
       "      <td>0.765570</td>\n",
       "      <td>0.310116</td>\n",
       "      <td>0.069011</td>\n",
       "      <td>Trump</td>\n",
       "    </tr>\n",
       "    <tr>\n",
       "      <th>OK</th>\n",
       "      <td>0.732185</td>\n",
       "      <td>0.290010</td>\n",
       "      <td>0.051155</td>\n",
       "      <td>Trump</td>\n",
       "    </tr>\n",
       "    <tr>\n",
       "      <th>ID</th>\n",
       "      <td>0.716961</td>\n",
       "      <td>0.282677</td>\n",
       "      <td>0.047875</td>\n",
       "      <td>Trump</td>\n",
       "    </tr>\n",
       "    <tr>\n",
       "      <th>SD</th>\n",
       "      <td>0.738625</td>\n",
       "      <td>0.320258</td>\n",
       "      <td>0.049335</td>\n",
       "      <td>Trump</td>\n",
       "    </tr>\n",
       "    <tr>\n",
       "      <th>TN</th>\n",
       "      <td>0.653929</td>\n",
       "      <td>0.260536</td>\n",
       "      <td>0.050474</td>\n",
       "      <td>Trump</td>\n",
       "    </tr>\n",
       "    <tr>\n",
       "      <th>KY</th>\n",
       "      <td>0.677243</td>\n",
       "      <td>0.289208</td>\n",
       "      <td>0.045515</td>\n",
       "      <td>Trump</td>\n",
       "    </tr>\n",
       "    <tr>\n",
       "      <th>UT</th>\n",
       "      <td>0.658508</td>\n",
       "      <td>0.320420</td>\n",
       "      <td>0.122748</td>\n",
       "      <td>Trump</td>\n",
       "    </tr>\n",
       "    <tr>\n",
       "      <th>ND</th>\n",
       "      <td>0.670811</td>\n",
       "      <td>0.350434</td>\n",
       "      <td>0.075029</td>\n",
       "      <td>Trump</td>\n",
       "    </tr>\n",
       "    <tr>\n",
       "      <th>MO</th>\n",
       "      <td>0.649369</td>\n",
       "      <td>0.343292</td>\n",
       "      <td>0.046813</td>\n",
       "      <td>Trump</td>\n",
       "    </tr>\n",
       "    <tr>\n",
       "      <th>AL</th>\n",
       "      <td>0.587778</td>\n",
       "      <td>0.300379</td>\n",
       "      <td>0.037571</td>\n",
       "      <td>Trump</td>\n",
       "    </tr>\n",
       "    <tr>\n",
       "      <th>MT</th>\n",
       "      <td>0.668052</td>\n",
       "      <td>0.413456</td>\n",
       "      <td>0.054293</td>\n",
       "      <td>Trump</td>\n",
       "    </tr>\n",
       "    <tr>\n",
       "      <th>LA</th>\n",
       "      <td>0.596925</td>\n",
       "      <td>0.344238</td>\n",
       "      <td>0.047207</td>\n",
       "      <td>Trump</td>\n",
       "    </tr>\n",
       "    <tr>\n",
       "      <th>NE</th>\n",
       "      <td>0.654160</td>\n",
       "      <td>0.437063</td>\n",
       "      <td>0.050955</td>\n",
       "      <td>Trump</td>\n",
       "    </tr>\n",
       "    <tr>\n",
       "      <th>IN</th>\n",
       "      <td>0.602725</td>\n",
       "      <td>0.417832</td>\n",
       "      <td>0.045642</td>\n",
       "      <td>Trump</td>\n",
       "    </tr>\n",
       "    <tr>\n",
       "      <th>AK</th>\n",
       "      <td>0.596683</td>\n",
       "      <td>0.416734</td>\n",
       "      <td>0.065799</td>\n",
       "      <td>Trump</td>\n",
       "    </tr>\n",
       "    <tr>\n",
       "      <th>SC</th>\n",
       "      <td>0.679970</td>\n",
       "      <td>0.517599</td>\n",
       "      <td>0.042165</td>\n",
       "      <td>Trump</td>\n",
       "    </tr>\n",
       "    <tr>\n",
       "      <th>OH</th>\n",
       "      <td>0.531291</td>\n",
       "      <td>0.409217</td>\n",
       "      <td>0.032453</td>\n",
       "      <td>Trump</td>\n",
       "    </tr>\n",
       "    <tr>\n",
       "      <th>MS</th>\n",
       "      <td>0.560871</td>\n",
       "      <td>0.446738</td>\n",
       "      <td>0.035360</td>\n",
       "      <td>Trump</td>\n",
       "    </tr>\n",
       "    <tr>\n",
       "      <th>KS</th>\n",
       "      <td>0.591428</td>\n",
       "      <td>0.481096</td>\n",
       "      <td>0.036256</td>\n",
       "      <td>Trump</td>\n",
       "    </tr>\n",
       "    <tr>\n",
       "      <th>IA</th>\n",
       "      <td>0.523277</td>\n",
       "      <td>0.473169</td>\n",
       "      <td>0.055612</td>\n",
       "      <td>Trump</td>\n",
       "    </tr>\n",
       "    <tr>\n",
       "      <th>GA</th>\n",
       "      <td>0.523634</td>\n",
       "      <td>0.493353</td>\n",
       "      <td>0.040054</td>\n",
       "      <td>Trump</td>\n",
       "    </tr>\n",
       "    <tr>\n",
       "      <th>FL</th>\n",
       "      <td>0.531968</td>\n",
       "      <td>0.501835</td>\n",
       "      <td>0.033784</td>\n",
       "      <td>Trump</td>\n",
       "    </tr>\n",
       "    <tr>\n",
       "      <th>NV</th>\n",
       "      <td>0.520755</td>\n",
       "      <td>0.496977</td>\n",
       "      <td>0.034866</td>\n",
       "      <td>Trump</td>\n",
       "    </tr>\n",
       "    <tr>\n",
       "      <th>TX</th>\n",
       "      <td>0.559341</td>\n",
       "      <td>0.540045</td>\n",
       "      <td>0.032759</td>\n",
       "      <td>Trump</td>\n",
       "    </tr>\n",
       "    <tr>\n",
       "      <th>VA</th>\n",
       "      <td>0.510968</td>\n",
       "      <td>0.492006</td>\n",
       "      <td>0.066741</td>\n",
       "      <td>Trump</td>\n",
       "    </tr>\n",
       "    <tr>\n",
       "      <th>AZ</th>\n",
       "      <td>0.525070</td>\n",
       "      <td>0.511766</td>\n",
       "      <td>0.032522</td>\n",
       "      <td>Trump</td>\n",
       "    </tr>\n",
       "    <tr>\n",
       "      <th>NC</th>\n",
       "      <td>0.530785</td>\n",
       "      <td>0.530084</td>\n",
       "      <td>0.053249</td>\n",
       "      <td>Trump</td>\n",
       "    </tr>\n",
       "    <tr>\n",
       "      <th>PA</th>\n",
       "      <td>0.493546</td>\n",
       "      <td>0.516841</td>\n",
       "      <td>0.029374</td>\n",
       "      <td>Harris</td>\n",
       "    </tr>\n",
       "    <tr>\n",
       "      <th>MI</th>\n",
       "      <td>0.493968</td>\n",
       "      <td>0.524854</td>\n",
       "      <td>0.043155</td>\n",
       "      <td>Harris</td>\n",
       "    </tr>\n",
       "    <tr>\n",
       "      <th>MN</th>\n",
       "      <td>0.497049</td>\n",
       "      <td>0.550684</td>\n",
       "      <td>0.056083</td>\n",
       "      <td>Harris</td>\n",
       "    </tr>\n",
       "    <tr>\n",
       "      <th>WI</th>\n",
       "      <td>0.459693</td>\n",
       "      <td>0.526776</td>\n",
       "      <td>0.042264</td>\n",
       "      <td>Harris</td>\n",
       "    </tr>\n",
       "    <tr>\n",
       "      <th>NM</th>\n",
       "      <td>0.479343</td>\n",
       "      <td>0.547274</td>\n",
       "      <td>0.068500</td>\n",
       "      <td>Harris</td>\n",
       "    </tr>\n",
       "    <tr>\n",
       "      <th>NH</th>\n",
       "      <td>0.444889</td>\n",
       "      <td>0.528964</td>\n",
       "      <td>0.044606</td>\n",
       "      <td>Harris</td>\n",
       "    </tr>\n",
       "    <tr>\n",
       "      <th>ME</th>\n",
       "      <td>0.429368</td>\n",
       "      <td>0.564183</td>\n",
       "      <td>0.054491</td>\n",
       "      <td>Harris</td>\n",
       "    </tr>\n",
       "    <tr>\n",
       "      <th>OR</th>\n",
       "      <td>0.439323</td>\n",
       "      <td>0.586554</td>\n",
       "      <td>0.061391</td>\n",
       "      <td>Harris</td>\n",
       "    </tr>\n",
       "    <tr>\n",
       "      <th>RI</th>\n",
       "      <td>0.398895</td>\n",
       "      <td>0.547117</td>\n",
       "      <td>0.035684</td>\n",
       "      <td>Harris</td>\n",
       "    </tr>\n",
       "    <tr>\n",
       "      <th>CO</th>\n",
       "      <td>0.441181</td>\n",
       "      <td>0.628765</td>\n",
       "      <td>0.069265</td>\n",
       "      <td>Harris</td>\n",
       "    </tr>\n",
       "    <tr>\n",
       "      <th>DE</th>\n",
       "      <td>0.366607</td>\n",
       "      <td>0.563881</td>\n",
       "      <td>0.039387</td>\n",
       "      <td>Harris</td>\n",
       "    </tr>\n",
       "    <tr>\n",
       "      <th>NJ</th>\n",
       "      <td>0.389034</td>\n",
       "      <td>0.603663</td>\n",
       "      <td>0.030156</td>\n",
       "      <td>Harris</td>\n",
       "    </tr>\n",
       "    <tr>\n",
       "      <th>WA</th>\n",
       "      <td>0.381476</td>\n",
       "      <td>0.599747</td>\n",
       "      <td>0.063044</td>\n",
       "      <td>Harris</td>\n",
       "    </tr>\n",
       "    <tr>\n",
       "      <th>NY</th>\n",
       "      <td>0.357112</td>\n",
       "      <td>0.588589</td>\n",
       "      <td>0.080037</td>\n",
       "      <td>Harris</td>\n",
       "    </tr>\n",
       "    <tr>\n",
       "      <th>CT</th>\n",
       "      <td>0.365141</td>\n",
       "      <td>0.610131</td>\n",
       "      <td>0.029774</td>\n",
       "      <td>Harris</td>\n",
       "    </tr>\n",
       "    <tr>\n",
       "      <th>MD</th>\n",
       "      <td>0.389502</td>\n",
       "      <td>0.671328</td>\n",
       "      <td>0.042772</td>\n",
       "      <td>Harris</td>\n",
       "    </tr>\n",
       "    <tr>\n",
       "      <th>CA</th>\n",
       "      <td>0.344866</td>\n",
       "      <td>0.629496</td>\n",
       "      <td>0.047313</td>\n",
       "      <td>Harris</td>\n",
       "    </tr>\n",
       "    <tr>\n",
       "      <th>IL</th>\n",
       "      <td>0.358618</td>\n",
       "      <td>0.667528</td>\n",
       "      <td>0.056823</td>\n",
       "      <td>Harris</td>\n",
       "    </tr>\n",
       "    <tr>\n",
       "      <th>VT</th>\n",
       "      <td>0.306455</td>\n",
       "      <td>0.671508</td>\n",
       "      <td>0.063571</td>\n",
       "      <td>Harris</td>\n",
       "    </tr>\n",
       "    <tr>\n",
       "      <th>MA</th>\n",
       "      <td>0.307516</td>\n",
       "      <td>0.746606</td>\n",
       "      <td>0.054272</td>\n",
       "      <td>Harris</td>\n",
       "    </tr>\n",
       "    <tr>\n",
       "      <th>HI</th>\n",
       "      <td>0.260282</td>\n",
       "      <td>0.762751</td>\n",
       "      <td>0.081609</td>\n",
       "      <td>Harris</td>\n",
       "    </tr>\n",
       "    <tr>\n",
       "      <th>DC</th>\n",
       "      <td>0.000000</td>\n",
       "      <td>0.953232</td>\n",
       "      <td>0.048888</td>\n",
       "      <td>Harris</td>\n",
       "    </tr>\n",
       "  </tbody>\n",
       "</table>\n",
       "</div>"
      ],
      "text/plain": [
       "          trump_share  harris_share  oth_share  winner\n",
       "state_po                                              \n",
       "WV           0.860646      0.203895   0.051110   Trump\n",
       "WY           0.809672      0.238807   0.090510   Trump\n",
       "AR           0.765570      0.310116   0.069011   Trump\n",
       "OK           0.732185      0.290010   0.051155   Trump\n",
       "ID           0.716961      0.282677   0.047875   Trump\n",
       "SD           0.738625      0.320258   0.049335   Trump\n",
       "TN           0.653929      0.260536   0.050474   Trump\n",
       "KY           0.677243      0.289208   0.045515   Trump\n",
       "UT           0.658508      0.320420   0.122748   Trump\n",
       "ND           0.670811      0.350434   0.075029   Trump\n",
       "MO           0.649369      0.343292   0.046813   Trump\n",
       "AL           0.587778      0.300379   0.037571   Trump\n",
       "MT           0.668052      0.413456   0.054293   Trump\n",
       "LA           0.596925      0.344238   0.047207   Trump\n",
       "NE           0.654160      0.437063   0.050955   Trump\n",
       "IN           0.602725      0.417832   0.045642   Trump\n",
       "AK           0.596683      0.416734   0.065799   Trump\n",
       "SC           0.679970      0.517599   0.042165   Trump\n",
       "OH           0.531291      0.409217   0.032453   Trump\n",
       "MS           0.560871      0.446738   0.035360   Trump\n",
       "KS           0.591428      0.481096   0.036256   Trump\n",
       "IA           0.523277      0.473169   0.055612   Trump\n",
       "GA           0.523634      0.493353   0.040054   Trump\n",
       "FL           0.531968      0.501835   0.033784   Trump\n",
       "NV           0.520755      0.496977   0.034866   Trump\n",
       "TX           0.559341      0.540045   0.032759   Trump\n",
       "VA           0.510968      0.492006   0.066741   Trump\n",
       "AZ           0.525070      0.511766   0.032522   Trump\n",
       "NC           0.530785      0.530084   0.053249   Trump\n",
       "PA           0.493546      0.516841   0.029374  Harris\n",
       "MI           0.493968      0.524854   0.043155  Harris\n",
       "MN           0.497049      0.550684   0.056083  Harris\n",
       "WI           0.459693      0.526776   0.042264  Harris\n",
       "NM           0.479343      0.547274   0.068500  Harris\n",
       "NH           0.444889      0.528964   0.044606  Harris\n",
       "ME           0.429368      0.564183   0.054491  Harris\n",
       "OR           0.439323      0.586554   0.061391  Harris\n",
       "RI           0.398895      0.547117   0.035684  Harris\n",
       "CO           0.441181      0.628765   0.069265  Harris\n",
       "DE           0.366607      0.563881   0.039387  Harris\n",
       "NJ           0.389034      0.603663   0.030156  Harris\n",
       "WA           0.381476      0.599747   0.063044  Harris\n",
       "NY           0.357112      0.588589   0.080037  Harris\n",
       "CT           0.365141      0.610131   0.029774  Harris\n",
       "MD           0.389502      0.671328   0.042772  Harris\n",
       "CA           0.344866      0.629496   0.047313  Harris\n",
       "IL           0.358618      0.667528   0.056823  Harris\n",
       "VT           0.306455      0.671508   0.063571  Harris\n",
       "MA           0.307516      0.746606   0.054272  Harris\n",
       "HI           0.260282      0.762751   0.081609  Harris\n",
       "DC           0.000000      0.953232   0.048888  Harris"
      ]
     },
     "execution_count": 103,
     "metadata": {},
     "output_type": "execute_result"
    }
   ],
   "source": [
    "outputs[0]['df']"
   ]
  },
  {
   "cell_type": "code",
   "execution_count": 104,
   "metadata": {},
   "outputs": [],
   "source": [
    "fl = np.array([output['df'].loc['FL','harris_share'] for output in outputs])"
   ]
  },
  {
   "cell_type": "code",
   "execution_count": 105,
   "metadata": {},
   "outputs": [],
   "source": [
    "def kde(x,fl):\n",
    "    h=np.std(fl)\n",
    "    def gauss(z):\n",
    "        return np.vectorize(lambda w: np.exp(-0.5 * w**2)/np.sqrt(2*np.pi))(z)\n",
    "    \n",
    "    return np.mean(gauss((x-fl)/h))\n",
    "         \n",
    "x = np.linspace(0,1,101)\n",
    "ds = np.vectorize(lambda x: kde(x,fl))(x)\n",
    "ds = ds/np.sum(ds)"
   ]
  },
  {
   "cell_type": "code",
   "execution_count": 106,
   "metadata": {},
   "outputs": [],
   "source": [
    "xlower = np.where(np.cumsum(ds)>0.1)[0][0]\n",
    "xupper = np.where(np.cumsum(ds)<=0.9)[0][-1]"
   ]
  },
  {
   "cell_type": "code",
   "execution_count": 107,
   "metadata": {},
   "outputs": [
    {
     "data": {
      "application/vnd.plotly.v1+json": {
       "config": {
        "plotlyServerURL": "https://plot.ly"
       },
       "data": [
        {
         "fill": "tozeroy",
         "line": {
          "color": "blue"
         },
         "mode": "lines",
         "name": "In Range",
         "type": "scatter",
         "x": [
          0.39,
          0.4,
          0.41000000000000003,
          0.42,
          0.43,
          0.44,
          0.45,
          0.46,
          0.47000000000000003,
          0.48,
          0.49
         ],
         "y": [
          0.03797371874338655,
          0.05045548894846902,
          0.06355214912458093,
          0.07586803241496363,
          0.0858036972405767,
          0.09188552144890007,
          0.09312894892333995,
          0.08930982906653062,
          0.08103567193520933,
          0.06958379857438331,
          0.056568589276032664
         ]
        },
        {
         "fill": "tozeroy",
         "line": {
          "color": "grey"
         },
         "mode": "lines",
         "name": "Out of Range",
         "type": "scatter",
         "x": [
          0,
          0.01,
          0.02,
          0.03,
          0.04,
          0.05,
          0.06,
          0.07,
          0.08,
          0.09,
          0.1,
          0.11,
          0.12,
          0.13,
          0.14,
          0.15,
          0.16,
          0.17,
          0.18,
          0.19,
          0.2,
          0.21,
          0.22,
          0.23,
          0.24,
          0.25,
          0.26,
          0.27,
          0.28,
          0.29,
          0.3,
          0.31,
          0.32,
          0.33,
          0.34,
          0.35000000000000003,
          0.36,
          0.37,
          0.38,
          0.39
         ],
         "y": [
          1.2678699308410864e-30,
          4.1798600775865184e-29,
          1.2368901738730513e-27,
          3.2856440603809007e-26,
          7.835614982677068e-25,
          1.677794623699469e-23,
          3.2260842785824524e-22,
          5.57123924151735e-21,
          8.642657917359501e-20,
          1.2046412056209548e-18,
          1.5090290348368457e-17,
          1.6994402991949958e-16,
          1.7212851320851013e-15,
          1.5687324645646615e-14,
          1.287234001104009e-13,
          9.51725288460847e-13,
          6.346528741290273e-12,
          3.82189577461869e-11,
          2.0818485729909696e-10,
          1.0279469852481706e-9,
          4.613643772452404e-9,
          1.8889367972468163e-8,
          7.086854972146716e-8,
          2.4500042208343574e-7,
          7.855794668711936e-7,
          0.0000023530010061065083,
          0.00000663021687015656,
          0.00001768193858898158,
          0.00004481483592456386,
          0.00010813645343250999,
          0.00024832545276962255,
          0.0005417710106977462,
          0.001120513127442116,
          0.002192942441880006,
          0.0040566172507363035,
          0.007090727323334358,
          0.011715280815651865,
          0.018309089524786847,
          0.02708963408457832,
          0.03797371874338655
         ]
        },
        {
         "fill": "tozeroy",
         "line": {
          "color": "grey"
         },
         "mode": "lines",
         "name": "Out of Range",
         "type": "scatter",
         "x": [
          0.49,
          0.5,
          0.51,
          0.52,
          0.53,
          0.54,
          0.55,
          0.56,
          0.5700000000000001,
          0.58,
          0.59,
          0.6,
          0.61,
          0.62,
          0.63,
          0.64,
          0.65,
          0.66,
          0.67,
          0.68,
          0.6900000000000001,
          0.7000000000000001,
          0.71,
          0.72,
          0.73,
          0.74,
          0.75,
          0.76,
          0.77,
          0.78,
          0.79,
          0.8,
          0.81,
          0.8200000000000001,
          0.8300000000000001,
          0.84,
          0.85,
          0.86,
          0.87,
          0.88,
          0.89,
          0.9,
          0.91,
          0.92,
          0.93,
          0.9400000000000001,
          0.9500000000000001,
          0.96,
          0.97,
          0.98,
          0.99,
          1
         ],
         "y": [
          0.056568589276032664,
          0.0435626716090801,
          0.031796830750679475,
          0.022010705619118144,
          0.014457359425324761,
          0.009014404146846523,
          0.005337314940133779,
          0.003001428942829702,
          0.0016029660904927259,
          0.0008126284284600367,
          0.00039058630322115874,
          0.00017762271431003365,
          0.00007619192554564153,
          0.000030706709990538516,
          0.000011573973745331816,
          0.0000040602023463939655,
          0.0000013193235687672494,
          3.953331692300655e-7,
          1.0881003217447235e-7,
          2.7415374999994436e-8,
          6.305197810011917e-9,
          1.3205406810870839e-9,
          2.5136254634251074e-10,
          4.341481352269903e-11,
          6.794749056711598e-12,
          9.6251771300032e-13,
          1.232872497601449e-13,
          1.4267023365454732e-14,
          1.4904993553723141e-15,
          1.4048437386992384e-16,
          1.1938985182686632e-17,
          9.143687142720896e-19,
          6.307884540439277e-20,
          3.918034294381638e-21,
          2.1903133093413977e-22,
          1.1016538407471974e-23,
          4.983642931604666e-25,
          2.0271542732772836e-26,
          7.412287345708901e-28,
          2.435801258587549e-29,
          7.192243739367894e-31,
          1.907822484293728e-32,
          4.5455776125130566e-34,
          9.726395773581346e-36,
          1.8688208697709878e-37,
          3.2239157454193415e-39,
          4.992901364480068e-41,
          6.941185810299757e-43,
          8.661405169367214e-45,
          9.70026767303649e-47,
          9.74967334725968e-49,
          8.793888083061441e-51
         ]
        }
       ],
       "layout": {
        "template": {
         "data": {
          "bar": [
           {
            "error_x": {
             "color": "#2a3f5f"
            },
            "error_y": {
             "color": "#2a3f5f"
            },
            "marker": {
             "line": {
              "color": "#E5ECF6",
              "width": 0.5
             },
             "pattern": {
              "fillmode": "overlay",
              "size": 10,
              "solidity": 0.2
             }
            },
            "type": "bar"
           }
          ],
          "barpolar": [
           {
            "marker": {
             "line": {
              "color": "#E5ECF6",
              "width": 0.5
             },
             "pattern": {
              "fillmode": "overlay",
              "size": 10,
              "solidity": 0.2
             }
            },
            "type": "barpolar"
           }
          ],
          "carpet": [
           {
            "aaxis": {
             "endlinecolor": "#2a3f5f",
             "gridcolor": "white",
             "linecolor": "white",
             "minorgridcolor": "white",
             "startlinecolor": "#2a3f5f"
            },
            "baxis": {
             "endlinecolor": "#2a3f5f",
             "gridcolor": "white",
             "linecolor": "white",
             "minorgridcolor": "white",
             "startlinecolor": "#2a3f5f"
            },
            "type": "carpet"
           }
          ],
          "choropleth": [
           {
            "colorbar": {
             "outlinewidth": 0,
             "ticks": ""
            },
            "type": "choropleth"
           }
          ],
          "contour": [
           {
            "colorbar": {
             "outlinewidth": 0,
             "ticks": ""
            },
            "colorscale": [
             [
              0,
              "#0d0887"
             ],
             [
              0.1111111111111111,
              "#46039f"
             ],
             [
              0.2222222222222222,
              "#7201a8"
             ],
             [
              0.3333333333333333,
              "#9c179e"
             ],
             [
              0.4444444444444444,
              "#bd3786"
             ],
             [
              0.5555555555555556,
              "#d8576b"
             ],
             [
              0.6666666666666666,
              "#ed7953"
             ],
             [
              0.7777777777777778,
              "#fb9f3a"
             ],
             [
              0.8888888888888888,
              "#fdca26"
             ],
             [
              1,
              "#f0f921"
             ]
            ],
            "type": "contour"
           }
          ],
          "contourcarpet": [
           {
            "colorbar": {
             "outlinewidth": 0,
             "ticks": ""
            },
            "type": "contourcarpet"
           }
          ],
          "heatmap": [
           {
            "colorbar": {
             "outlinewidth": 0,
             "ticks": ""
            },
            "colorscale": [
             [
              0,
              "#0d0887"
             ],
             [
              0.1111111111111111,
              "#46039f"
             ],
             [
              0.2222222222222222,
              "#7201a8"
             ],
             [
              0.3333333333333333,
              "#9c179e"
             ],
             [
              0.4444444444444444,
              "#bd3786"
             ],
             [
              0.5555555555555556,
              "#d8576b"
             ],
             [
              0.6666666666666666,
              "#ed7953"
             ],
             [
              0.7777777777777778,
              "#fb9f3a"
             ],
             [
              0.8888888888888888,
              "#fdca26"
             ],
             [
              1,
              "#f0f921"
             ]
            ],
            "type": "heatmap"
           }
          ],
          "heatmapgl": [
           {
            "colorbar": {
             "outlinewidth": 0,
             "ticks": ""
            },
            "colorscale": [
             [
              0,
              "#0d0887"
             ],
             [
              0.1111111111111111,
              "#46039f"
             ],
             [
              0.2222222222222222,
              "#7201a8"
             ],
             [
              0.3333333333333333,
              "#9c179e"
             ],
             [
              0.4444444444444444,
              "#bd3786"
             ],
             [
              0.5555555555555556,
              "#d8576b"
             ],
             [
              0.6666666666666666,
              "#ed7953"
             ],
             [
              0.7777777777777778,
              "#fb9f3a"
             ],
             [
              0.8888888888888888,
              "#fdca26"
             ],
             [
              1,
              "#f0f921"
             ]
            ],
            "type": "heatmapgl"
           }
          ],
          "histogram": [
           {
            "marker": {
             "pattern": {
              "fillmode": "overlay",
              "size": 10,
              "solidity": 0.2
             }
            },
            "type": "histogram"
           }
          ],
          "histogram2d": [
           {
            "colorbar": {
             "outlinewidth": 0,
             "ticks": ""
            },
            "colorscale": [
             [
              0,
              "#0d0887"
             ],
             [
              0.1111111111111111,
              "#46039f"
             ],
             [
              0.2222222222222222,
              "#7201a8"
             ],
             [
              0.3333333333333333,
              "#9c179e"
             ],
             [
              0.4444444444444444,
              "#bd3786"
             ],
             [
              0.5555555555555556,
              "#d8576b"
             ],
             [
              0.6666666666666666,
              "#ed7953"
             ],
             [
              0.7777777777777778,
              "#fb9f3a"
             ],
             [
              0.8888888888888888,
              "#fdca26"
             ],
             [
              1,
              "#f0f921"
             ]
            ],
            "type": "histogram2d"
           }
          ],
          "histogram2dcontour": [
           {
            "colorbar": {
             "outlinewidth": 0,
             "ticks": ""
            },
            "colorscale": [
             [
              0,
              "#0d0887"
             ],
             [
              0.1111111111111111,
              "#46039f"
             ],
             [
              0.2222222222222222,
              "#7201a8"
             ],
             [
              0.3333333333333333,
              "#9c179e"
             ],
             [
              0.4444444444444444,
              "#bd3786"
             ],
             [
              0.5555555555555556,
              "#d8576b"
             ],
             [
              0.6666666666666666,
              "#ed7953"
             ],
             [
              0.7777777777777778,
              "#fb9f3a"
             ],
             [
              0.8888888888888888,
              "#fdca26"
             ],
             [
              1,
              "#f0f921"
             ]
            ],
            "type": "histogram2dcontour"
           }
          ],
          "mesh3d": [
           {
            "colorbar": {
             "outlinewidth": 0,
             "ticks": ""
            },
            "type": "mesh3d"
           }
          ],
          "parcoords": [
           {
            "line": {
             "colorbar": {
              "outlinewidth": 0,
              "ticks": ""
             }
            },
            "type": "parcoords"
           }
          ],
          "pie": [
           {
            "automargin": true,
            "type": "pie"
           }
          ],
          "scatter": [
           {
            "fillpattern": {
             "fillmode": "overlay",
             "size": 10,
             "solidity": 0.2
            },
            "type": "scatter"
           }
          ],
          "scatter3d": [
           {
            "line": {
             "colorbar": {
              "outlinewidth": 0,
              "ticks": ""
             }
            },
            "marker": {
             "colorbar": {
              "outlinewidth": 0,
              "ticks": ""
             }
            },
            "type": "scatter3d"
           }
          ],
          "scattercarpet": [
           {
            "marker": {
             "colorbar": {
              "outlinewidth": 0,
              "ticks": ""
             }
            },
            "type": "scattercarpet"
           }
          ],
          "scattergeo": [
           {
            "marker": {
             "colorbar": {
              "outlinewidth": 0,
              "ticks": ""
             }
            },
            "type": "scattergeo"
           }
          ],
          "scattergl": [
           {
            "marker": {
             "colorbar": {
              "outlinewidth": 0,
              "ticks": ""
             }
            },
            "type": "scattergl"
           }
          ],
          "scattermapbox": [
           {
            "marker": {
             "colorbar": {
              "outlinewidth": 0,
              "ticks": ""
             }
            },
            "type": "scattermapbox"
           }
          ],
          "scatterpolar": [
           {
            "marker": {
             "colorbar": {
              "outlinewidth": 0,
              "ticks": ""
             }
            },
            "type": "scatterpolar"
           }
          ],
          "scatterpolargl": [
           {
            "marker": {
             "colorbar": {
              "outlinewidth": 0,
              "ticks": ""
             }
            },
            "type": "scatterpolargl"
           }
          ],
          "scatterternary": [
           {
            "marker": {
             "colorbar": {
              "outlinewidth": 0,
              "ticks": ""
             }
            },
            "type": "scatterternary"
           }
          ],
          "surface": [
           {
            "colorbar": {
             "outlinewidth": 0,
             "ticks": ""
            },
            "colorscale": [
             [
              0,
              "#0d0887"
             ],
             [
              0.1111111111111111,
              "#46039f"
             ],
             [
              0.2222222222222222,
              "#7201a8"
             ],
             [
              0.3333333333333333,
              "#9c179e"
             ],
             [
              0.4444444444444444,
              "#bd3786"
             ],
             [
              0.5555555555555556,
              "#d8576b"
             ],
             [
              0.6666666666666666,
              "#ed7953"
             ],
             [
              0.7777777777777778,
              "#fb9f3a"
             ],
             [
              0.8888888888888888,
              "#fdca26"
             ],
             [
              1,
              "#f0f921"
             ]
            ],
            "type": "surface"
           }
          ],
          "table": [
           {
            "cells": {
             "fill": {
              "color": "#EBF0F8"
             },
             "line": {
              "color": "white"
             }
            },
            "header": {
             "fill": {
              "color": "#C8D4E3"
             },
             "line": {
              "color": "white"
             }
            },
            "type": "table"
           }
          ]
         },
         "layout": {
          "annotationdefaults": {
           "arrowcolor": "#2a3f5f",
           "arrowhead": 0,
           "arrowwidth": 1
          },
          "autotypenumbers": "strict",
          "coloraxis": {
           "colorbar": {
            "outlinewidth": 0,
            "ticks": ""
           }
          },
          "colorscale": {
           "diverging": [
            [
             0,
             "#8e0152"
            ],
            [
             0.1,
             "#c51b7d"
            ],
            [
             0.2,
             "#de77ae"
            ],
            [
             0.3,
             "#f1b6da"
            ],
            [
             0.4,
             "#fde0ef"
            ],
            [
             0.5,
             "#f7f7f7"
            ],
            [
             0.6,
             "#e6f5d0"
            ],
            [
             0.7,
             "#b8e186"
            ],
            [
             0.8,
             "#7fbc41"
            ],
            [
             0.9,
             "#4d9221"
            ],
            [
             1,
             "#276419"
            ]
           ],
           "sequential": [
            [
             0,
             "#0d0887"
            ],
            [
             0.1111111111111111,
             "#46039f"
            ],
            [
             0.2222222222222222,
             "#7201a8"
            ],
            [
             0.3333333333333333,
             "#9c179e"
            ],
            [
             0.4444444444444444,
             "#bd3786"
            ],
            [
             0.5555555555555556,
             "#d8576b"
            ],
            [
             0.6666666666666666,
             "#ed7953"
            ],
            [
             0.7777777777777778,
             "#fb9f3a"
            ],
            [
             0.8888888888888888,
             "#fdca26"
            ],
            [
             1,
             "#f0f921"
            ]
           ],
           "sequentialminus": [
            [
             0,
             "#0d0887"
            ],
            [
             0.1111111111111111,
             "#46039f"
            ],
            [
             0.2222222222222222,
             "#7201a8"
            ],
            [
             0.3333333333333333,
             "#9c179e"
            ],
            [
             0.4444444444444444,
             "#bd3786"
            ],
            [
             0.5555555555555556,
             "#d8576b"
            ],
            [
             0.6666666666666666,
             "#ed7953"
            ],
            [
             0.7777777777777778,
             "#fb9f3a"
            ],
            [
             0.8888888888888888,
             "#fdca26"
            ],
            [
             1,
             "#f0f921"
            ]
           ]
          },
          "colorway": [
           "#636efa",
           "#EF553B",
           "#00cc96",
           "#ab63fa",
           "#FFA15A",
           "#19d3f3",
           "#FF6692",
           "#B6E880",
           "#FF97FF",
           "#FECB52"
          ],
          "font": {
           "color": "#2a3f5f"
          },
          "geo": {
           "bgcolor": "white",
           "lakecolor": "white",
           "landcolor": "#E5ECF6",
           "showlakes": true,
           "showland": true,
           "subunitcolor": "white"
          },
          "hoverlabel": {
           "align": "left"
          },
          "hovermode": "closest",
          "mapbox": {
           "style": "light"
          },
          "paper_bgcolor": "white",
          "plot_bgcolor": "#E5ECF6",
          "polar": {
           "angularaxis": {
            "gridcolor": "white",
            "linecolor": "white",
            "ticks": ""
           },
           "bgcolor": "#E5ECF6",
           "radialaxis": {
            "gridcolor": "white",
            "linecolor": "white",
            "ticks": ""
           }
          },
          "scene": {
           "xaxis": {
            "backgroundcolor": "#E5ECF6",
            "gridcolor": "white",
            "gridwidth": 2,
            "linecolor": "white",
            "showbackground": true,
            "ticks": "",
            "zerolinecolor": "white"
           },
           "yaxis": {
            "backgroundcolor": "#E5ECF6",
            "gridcolor": "white",
            "gridwidth": 2,
            "linecolor": "white",
            "showbackground": true,
            "ticks": "",
            "zerolinecolor": "white"
           },
           "zaxis": {
            "backgroundcolor": "#E5ECF6",
            "gridcolor": "white",
            "gridwidth": 2,
            "linecolor": "white",
            "showbackground": true,
            "ticks": "",
            "zerolinecolor": "white"
           }
          },
          "shapedefaults": {
           "line": {
            "color": "#2a3f5f"
           }
          },
          "ternary": {
           "aaxis": {
            "gridcolor": "white",
            "linecolor": "white",
            "ticks": ""
           },
           "baxis": {
            "gridcolor": "white",
            "linecolor": "white",
            "ticks": ""
           },
           "bgcolor": "#E5ECF6",
           "caxis": {
            "gridcolor": "white",
            "linecolor": "white",
            "ticks": ""
           }
          },
          "title": {
           "x": 0.05
          },
          "xaxis": {
           "automargin": true,
           "gridcolor": "white",
           "linecolor": "white",
           "ticks": "",
           "title": {
            "standoff": 15
           },
           "zerolinecolor": "white",
           "zerolinewidth": 2
          },
          "yaxis": {
           "automargin": true,
           "gridcolor": "white",
           "linecolor": "white",
           "ticks": "",
           "title": {
            "standoff": 15
           },
           "zerolinecolor": "white",
           "zerolinewidth": 2
          }
         }
        }
       }
      }
     },
     "metadata": {},
     "output_type": "display_data"
    }
   ],
   "source": [
    "fig = go.Figure()\n",
    "\n",
    "\n",
    "\n",
    "#  Add the blue area between xlower and xupper\n",
    "fig.add_trace(go.Scatter(\n",
    "    x=x[xlower:xupper+1], \n",
    "    y=ds[xlower:xupper+1], \n",
    "    fill='tozeroy',  \n",
    "    mode='lines',    \n",
    "    line=dict(color='blue'),\n",
    "    name='In Range'\n",
    "))\n",
    "\n",
    "# Add the grey area for x < xlower\n",
    "fig.add_trace(go.Scatter(\n",
    "    x=x[:xlower+1],\n",
    "    y=ds[:xlower+1],\n",
    "    fill='tozeroy',\n",
    "    mode='lines',\n",
    "    line=dict(color='grey'),\n",
    "    name='Out of Range'\n",
    "))\n",
    "\n",
    "# Add the grey area for x > xupper\n",
    "fig.add_trace(go.Scatter(\n",
    "    x=x[xupper:],\n",
    "    y=ds[xupper:],\n",
    "    fill='tozeroy',\n",
    "    mode='lines',\n",
    "    line=dict(color='grey'),\n",
    "    name='Out of Range'\n",
    "))\n"
   ]
  },
  {
   "cell_type": "code",
   "execution_count": 108,
   "metadata": {},
   "outputs": [
    {
     "data": {
      "text/plain": [
       "(array([   5.,   61.,  427., 1391., 2696., 2960., 1730.,  599.,  114.,\n",
       "          17.]),\n",
       " array([0.32566984, 0.34936044, 0.37305103, 0.39674163, 0.42043222,\n",
       "        0.44412282, 0.46781342, 0.49150401, 0.51519461, 0.5388852 ,\n",
       "        0.5625758 ]),\n",
       " <BarContainer object of 10 artists>)"
      ]
     },
     "execution_count": 108,
     "metadata": {},
     "output_type": "execute_result"
    },
    {
     "data": {
      "image/png": "[encoded data removed]",
      "text/plain": [
       "<Figure size 432x288 with 1 Axes>"
      ]
     },
     "metadata": {
      "needs_background": "light"
     },
     "output_type": "display_data"
    }
   ],
   "source": [
    "plt.hist(fl)"
   ]
  },
  {
   "cell_type": "code",
   "execution_count": null,
   "metadata": {},
   "outputs": [],
   "source": []
  }
 ],
 "metadata": {
  "kernelspec": {
   "display_name": "Python 3",
   "language": "python",
   "name": "python3"
  },
  "language_info": {
   "codemirror_mode": {
    "name": "ipython",
    "version": 3
   },
   "file_extension": ".py",
   "mimetype": "text/x-python",
   "name": "python",
   "nbconvert_exporter": "python",
   "pygments_lexer": "ipython3",
   "version": "3.10.4"
  }
 },
 "nbformat": 4,
 "nbformat_minor": 2
}
