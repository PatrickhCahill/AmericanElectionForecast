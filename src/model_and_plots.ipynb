{
 "cells": [
  {
   "cell_type": "code",
   "execution_count": 1,
   "metadata": {},
   "outputs": [],
   "source": [
    "import pandas as pd\n",
    "import numpy as np\n",
    "from math import erf\n",
    "import matplotlib.pyplot as plt\n",
    "from sklearn.linear_model import LinearRegression\n",
    "from datetime import datetime as dt\n",
    "import os,sys\n",
    "import plotly.graph_objects as go\n",
    "from plotly.subplots import make_subplots\n",
    "\n",
    "%matplotlib inline\n",
    "NUM_ITER = 10000\n",
    "DAY_OF_SIM = dt.today() # dt.strptime(open(\"datefile.txt\",'r').read()[:-1], '%d-%m-%Y') # "
   ]
  },
  {
   "cell_type": "code",
   "execution_count": 2,
   "metadata": {},
   "outputs": [],
   "source": [
    "republican_red = \"#cf1313\"\n",
    "democratic_blue = \"#116dc2\"\n",
    "other_grey = \"#8a8a8a\"\n",
    "republican_red_alphaed = \"rgba(207, 19, 19, 0.2)\"\n",
    "democratic_blue_alphaed = \"rgba(17, 109, 194, 0.2)\"\n",
    "other_grey_alphaed = \"rgba(138, 138, 138,0.2)\"\n",
    "\n",
    "color_mapper = {\"Kamala Harris\":democratic_blue,\"Harris\":democratic_blue,\"Donald Trump\":republican_red,\"Trump\":republican_red,\"Others\":other_grey,\"Other\":other_grey}\n",
    "color_mapper_alphaed = {\"Kamala Harris\":democratic_blue_alphaed,\"Harris\":democratic_blue_alphaed,\"Donald Trump\":republican_red_alphaed,\"Trump\":republican_red_alphaed,\"Others\":other_grey_alphaed,\"Other\":other_grey_alphaed}"
   ]
  },
  {
   "cell_type": "code",
   "execution_count": 3,
   "metadata": {},
   "outputs": [],
   "source": [
    "df = pd.read_csv(\"../1976-2020-president.csv\") # Read in the election results in each state going back to 1976."
   ]
  },
  {
   "cell_type": "code",
   "execution_count": 4,
   "metadata": {},
   "outputs": [],
   "source": [
    "STARTYEAR = 0 #YEAR WHEN WE START INTERPRETING THE DATA\n",
    "ELECTIONYEAR = 2024 # YEAR WE WANT TO PREDICT\n",
    "df = df[(STARTYEAR <= df['year']) & (df['year']<ELECTIONYEAR)] # SLICE THE DATA FOR ABOVE\n"
   ]
  },
  {
   "cell_type": "code",
   "execution_count": 5,
   "metadata": {},
   "outputs": [],
   "source": [
    "df['party_simplified'] = df['party_simplified'].apply(lambda x: x if x in ['DEMOCRAT', 'REPUBLICAN'] else '3RDPARTY') # COMPRESS ALL THIRD PARTIES INTO ONE VALUE\n",
    "\n",
    "df_grouped = df.groupby(['year', 'state_po', 'party_simplified'], as_index=False).agg({'candidatevotes': 'sum'}) # \n",
    "\n",
    "state_votes = df_grouped.pivot_table(index='state_po', columns=['party_simplified','year'], values='candidatevotes', fill_value=0) # GET THE STATE VOTES BY PARTY BY YEAR\n"
   ]
  },
  {
   "cell_type": "code",
   "execution_count": 6,
   "metadata": {},
   "outputs": [],
   "source": [
    "total_votes = state_votes.sum().groupby(level='year').sum()\n",
    "total_share = state_votes.sum() / state_votes.sum().index.get_level_values('year').map(total_votes) # CONVERT TO VOTESHARE"
   ]
  },
  {
   "cell_type": "code",
   "execution_count": 7,
   "metadata": {},
   "outputs": [],
   "source": [
    "def predict(t,X,weights=None): # LINEAR REGRESSION MODEL\n",
    "    model = LinearRegression()\n",
    "    model.fit(t.reshape(-1, 1), X, sample_weight=weights)\n",
    "    m = model.coef_[0]\n",
    "    b = model.intercept_\n",
    "\n",
    "    Xhats = m*t + b\n",
    "    Xpred = m*ELECTIONYEAR + b\n",
    "    Xvar = np.sum((X-Xhats)**2) / (len(X) - 2) * 1.75\n",
    "\n",
    "    return Xpred, Xhats, Xvar"
   ]
  },
  {
   "cell_type": "code",
   "execution_count": 8,
   "metadata": {},
   "outputs": [],
   "source": [
    "diffs = lambda x: x[1:] - x[:-1]"
   ]
  },
  {
   "cell_type": "code",
   "execution_count": 9,
   "metadata": {},
   "outputs": [
    {
     "name": "stdout",
     "output_type": "stream",
     "text": [
      "-0.026251332243724335\n",
      "0.0011393461175338898\n"
     ]
    }
   ],
   "source": [
    "prior_diffs = {}\n",
    "for i,the_state_vote in state_votes.iterrows():\n",
    "    state_share = the_state_vote / the_state_vote.index.get_level_values('year').map(the_state_vote.groupby(level='year').sum()) # Convert the raw votes to percentages of the total vote in that state\n",
    "    state_diff = state_share - total_share # Get the shift compared to the national share of the vote\n",
    "\n",
    "    t = the_state_vote[\"DEMOCRAT\"].index.values # Election years included in the model\n",
    "    # tweights = np.arccos(1 - 2* ((t - t[0]) / (t - t[0])[-1])) /np.pi\n",
    "    tweights = (t-t[0])**2\n",
    "\n",
    "    other_diff_ = state_diff[\"3RDPARTY\"].values\n",
    "    other_diff_pred, other_diff_hats, other_diff_var = predict(t,other_diff_,tweights)\n",
    "    other_diff_pred_ci = 1.96 * np.sqrt(other_diff_var)\n",
    "\n",
    "\n",
    "\n",
    "    harris_diff_ = state_diff[\"DEMOCRAT\"].values\n",
    "    harris_diff_pred, harris_diff_hats, harris_diff_var = predict(t,harris_diff_,tweights)\n",
    "    harris_diff_pred_ci = 1.96 * np.sqrt(harris_diff_var)\n",
    "\n",
    "    trump_diff_ = state_diff[\"REPUBLICAN\"].values\n",
    "    trump_diff_pred, trump_diff_hats, trump_diff_var = predict(t,trump_diff_,tweights)\n",
    "    trump_diff_pred_ci = 1.96 * np.sqrt(trump_diff_var)\n",
    "\n",
    "    if i==\"AZ\":\n",
    "        scatters=[]\n",
    "        regressions=[]\n",
    "        predictions=[]\n",
    "        year_range=np.append(t, ELECTIONYEAR)\n",
    "\n",
    "        candidate_diffs = [harris_diff_,trump_diff_,other_diff_]\n",
    "        candidate_diff_hats=[harris_diff_hats,trump_diff_hats,other_diff_hats,]\n",
    "        candidate_piff_preds=[harris_diff_pred,trump_diff_pred,other_diff_pred]\n",
    "        candidate_cis=[harris_diff_pred_ci,trump_diff_pred_ci,other_diff_pred_ci]\n",
    "        for i,candidate in enumerate([\"Harris\",\"Trump\",\"Other\"]):\n",
    "            previous_scatter = go.Scatter(\n",
    "                x=t,\n",
    "                y=candidate_diffs[i],\n",
    "                mode='markers',\n",
    "                marker=dict(color=color_mapper[candidate],size=6),\n",
    "                name='Other Scatter'\n",
    "            )\n",
    "            regression_line = go.Scatter(\n",
    "                x=year_range,\n",
    "                y=np.append(candidate_diff_hats[i], candidate_piff_preds[i]),\n",
    "                mode='lines',\n",
    "                line=dict(color=color_mapper[candidate]),\n",
    "                name='Other Line'\n",
    "            )\n",
    "\n",
    "            trace_other_pred = go.Scatter(\n",
    "                x=[ELECTIONYEAR],\n",
    "                y=[candidate_piff_preds[i]],\n",
    "                mode='markers',\n",
    "                marker=dict(color=color_mapper[candidate], symbol='star',size=6),\n",
    "                name='Other Prediction'\n",
    "            )\n",
    "\n",
    "            confidence_interval = go.Scatter(\n",
    "                x=np.concatenate([year_range, year_range[::-1]]),\n",
    "                y=np.concatenate([np.append(candidate_diff_hats[i], candidate_piff_preds[i]) + candidate_cis[i],(np.append(candidate_diff_hats[i], candidate_piff_preds[i]) - candidate_cis[i])[::-1]]),\n",
    "                fill='toself',\n",
    "                fillcolor=color_mapper_alphaed[candidate],\n",
    "                line=dict(color='rgba(255, 255, 255, 0)'),  # No outline\n",
    "                hoverinfo=\"skip\",\n",
    "                showlegend=False,\n",
    "                name='Confidence Interval'\n",
    "            )\n",
    "            scatters.append(previous_scatter)\n",
    "            regressions.append(regression_line)\n",
    "            regressions.append(confidence_interval)\n",
    "            predictions.append(trace_other_pred)\n",
    "        print(harris_diff_pred)\n",
    "        print(harris_diff_var)\n",
    "        fig = go.Figure(data=scatters)\n",
    "        fig.update_yaxes(range=[-0.15, 0.15],tickvals=[-0.15,-0.075,0,0.075,0.15],ticktext=[\"-15%\",\"-7.5%\",\"0%\",\"7.5%\",\"15%\"])\n",
    "        fig.update_layout(showlegend=False,dragmode=False,paper_bgcolor='rgba(0,0,0,0)',plot_bgcolor='rgba(0,0,0,0)',margin={\"r\":0,\"t\":0,\"l\":0,\"b\":0})\n",
    "        # fig.write_html(f\"../docs/assets/AZ_evolve_scatter.html\",config={'displayModeBar': False,\"responsive\": True,\"scrollZoom\":False})\n",
    "    \n",
    "        fig = go.Figure(data=scatters+regressions)\n",
    "        fig.update_yaxes(range=[-0.15, 0.15],tickvals=[-0.15,-0.075,0,0.075,0.15],ticktext=[\"-15%\",\"-7.5%\",\"0%\",\"7.5%\",\"15%\"])\n",
    "        fig.update_layout(showlegend=False,dragmode=False,paper_bgcolor='rgba(0,0,0,0)',plot_bgcolor='rgba(0,0,0,0)',margin={\"r\":0,\"t\":0,\"l\":0,\"b\":0})\n",
    "        # fig.write_html(f\"../docs/assets/AZ_evolve_regression.html\",config={'displayModeBar': False,\"responsive\": True,\"scrollZoom\":False})\n",
    "\n",
    "        fig = go.Figure(data=scatters+regressions+predictions)\n",
    "        fig.update_yaxes(range=[-0.15, 0.15],tickvals=[-0.15,-0.075,0,0.075,0.15],ticktext=[\"-15%\",\"-7.5%\",\"0%\",\"7.5%\",\"15%\"])\n",
    "        fig.update_layout(showlegend=False,dragmode=False,paper_bgcolor='rgba(0,0,0,0)',plot_bgcolor='rgba(0,0,0,0)',margin={\"r\":0,\"t\":0,\"l\":0,\"b\":0})\n",
    "        # fig.write_html(f\"../docs/assets/AZ_evolve.html\",config={'displayModeBar': False,\"responsive\": True,\"scrollZoom\":False})\n",
    "\n",
    "    prior_diffs[the_state_vote.name] = {\n",
    "        \"other_diff\":other_diff_pred,\n",
    "        \"other_var\":other_diff_var,\n",
    "        \"harris_diff\" :harris_diff_pred,\n",
    "        \"harris_var\": harris_diff_var,\n",
    "        \"trump_diff\": trump_diff_pred,\n",
    "        \"trump_var\":trump_diff_var,    }\n",
    "prior_diffs = pd.DataFrame(data=prior_diffs).T"
   ]
  },
  {
   "cell_type": "code",
   "execution_count": 10,
   "metadata": {},
   "outputs": [],
   "source": [
    "national_vals = pd.read_csv(\"../polling_averages/National.csv\",index_col='date')\n",
    "todays_nat_polls = national_vals.loc[DAY_OF_SIM.strftime('%Y-%m-%d')]\n",
    "state_mapper = pd.read_csv(\"../state_mapper.csv\",index_col='state').to_dict()['code']\n",
    "\n",
    "poll_other = todays_nat_polls[\"other_mean\"]\n",
    "poll_dem = todays_nat_polls[\"harris_mean\"]\n",
    "poll_rep = todays_nat_polls[\"trump_mean\"]\n",
    "\n",
    "post_preds = prior_diffs[['other_diff','harris_diff','trump_diff']].copy()\n",
    "post_preds['other_diff'] += poll_other\n",
    "post_preds['harris_diff'] += poll_dem\n",
    "post_preds['trump_diff'] += poll_rep\n",
    "post_preds.rename({'other_diff':'other_vote','harris_diff':'harris_vote','trump_diff':'trump_vote'},axis=1,inplace=True)\n",
    "\n",
    "\n",
    "post_vars = prior_diffs[['other_var','harris_var','trump_var']].copy()\n",
    "post_vars['other_var'] = post_vars['other_var']*post_preds['other_vote'] + todays_nat_polls[\"other_var\"]\n",
    "post_vars['trump_var'] = post_vars['trump_var'] + todays_nat_polls[\"trump_var\"]\n",
    "post_vars['harris_var'] = post_vars['harris_var'] + todays_nat_polls[\"harris_var\"]\n",
    "\n",
    "\n",
    "for state_avgs in os.listdir(\"../polling_averages\"):\n",
    "    if state_avgs[:-4] in state_mapper.keys():\n",
    "        state_avgs_polls = pd.read_csv(f\"../polling_averages/{state_avgs}\",index_col='date')\n",
    "        if state_avgs_polls.shape[0]==0:\n",
    "            continue\n",
    "        todays_state_polls = state_avgs_polls.loc[DAY_OF_SIM.strftime('%Y-%m-%d')] # \n",
    "\n",
    "    \n",
    "        pre_poll_preds = post_preds.loc[state_mapper[state_avgs[:-4]]][[\"harris_vote\",\"trump_vote\",\"other_vote\"]].copy().values\n",
    "        pre_poll_vars = post_vars.loc[state_mapper[state_avgs[:-4]]][[\"harris_var\",\"trump_var\",\"other_var\"]].copy().values\n",
    "\n",
    "        pollmeans = todays_state_polls[[\"harris_mean\",\"trump_mean\",\"other_mean\"]].values\n",
    "        pollvars = todays_state_polls[[\"harris_var\",\"trump_var\",\"other_var\"]].values\n",
    "\n",
    "        post_poll_preds = (pre_poll_preds/pre_poll_vars + pollmeans/pollvars) / (1/pre_poll_vars + 1/pollvars)\n",
    "        post_poll_vars = 1 / (1/pre_poll_vars + 1/pollvars)\n",
    "\n",
    "        post_preds.loc[state_mapper[state_avgs[:-4]],'harris_vote'] = post_poll_preds[0]\n",
    "        post_preds.loc[state_mapper[state_avgs[:-4]],'trump_vote'] = post_poll_preds[1]\n",
    "        post_preds.loc[state_mapper[state_avgs[:-4]],'other_vote'] = post_poll_preds[2]\n",
    "\n",
    "        post_vars.loc[state_mapper[state_avgs[:-4]],'harris_var'] = post_poll_vars[0]\n",
    "        post_vars.loc[state_mapper[state_avgs[:-4]],'trump_var'] = post_poll_vars[1]\n",
    "        post_vars.loc[state_mapper[state_avgs[:-4]],'other_var'] = post_poll_vars[2]\n",
    "\n"
   ]
  },
  {
   "cell_type": "code",
   "execution_count": 11,
   "metadata": {},
   "outputs": [],
   "source": [
    "# Assume 0.5% random walk each day. Move the variance depending on the number of days remaining.\n",
    "post_vars = post_vars + post_preds.values*((dt.strptime(\"2024-11-05\",'%Y-%m-%d') - DAY_OF_SIM).days * 0.005**2 +0.003**2)"
   ]
  },
  {
   "cell_type": "code",
   "execution_count": 12,
   "metadata": {},
   "outputs": [],
   "source": [
    "electoralvotes = {\n",
    "    \"AL\":9,\n",
    "    \"AK\":3,\n",
    "    \"AZ\":11,\n",
    "    \"AR\":6,\n",
    "    \"CA\":54,\n",
    "    \"CO\":10,\n",
    "    \"CT\":7,\n",
    "    \"DC\":3,\n",
    "    \"DE\":3,\n",
    "    \"FL\":30,\n",
    "    \"GA\":16,\n",
    "    \"HI\":4,\n",
    "    \"ID\":4,\n",
    "    \"IL\":19,\n",
    "    \"IN\":11,\n",
    "    \"IA\":6,\n",
    "    \"KS\":6,\n",
    "    \"KY\":8,\n",
    "    \"LA\":8,\n",
    "    \"ME\":4,\n",
    "    \"MD\":10,\n",
    "    \"MA\":11,\n",
    "    \"MI\":15,\n",
    "    \"MN\":10,\n",
    "    \"MS\":6,\n",
    "    \"MO\":10,\n",
    "    \"MT\":4,\n",
    "    \"NE\":5,\n",
    "    \"NV\":6,\n",
    "    \"NH\":4,\n",
    "    \"NJ\":14,\n",
    "    \"NM\":5,\n",
    "    \"NY\":28,\n",
    "    \"NC\":16,\n",
    "    \"ND\":3,\n",
    "    \"OH\":17,\n",
    "    \"OK\":7,\n",
    "    \"OR\":8,\n",
    "    \"PA\":19,\n",
    "    \"RI\":4,\n",
    "    \"SC\":9,\n",
    "    \"SD\":3,\n",
    "    \"TN\":11,\n",
    "    \"TX\":40,\n",
    "    \"UT\":6,\n",
    "    \"VT\":3,\n",
    "    \"VA\":13,\n",
    "    \"WA\":12,\n",
    "    \"WV\":4,\n",
    "    \"WI\":10,\n",
    "    \"WY\":3}\t\n"
   ]
  },
  {
   "cell_type": "code",
   "execution_count": 13,
   "metadata": {},
   "outputs": [],
   "source": [
    "def to_cov(row,column):\n",
    "    return row * np.sqrt(column.loc[row.name]) * np.sqrt(column)"
   ]
  },
  {
   "cell_type": "code",
   "execution_count": 14,
   "metadata": {},
   "outputs": [],
   "source": [
    "correlation_factor = 0.5 # How correlated do we expect the previous correlations to predict the next correlations. Defaults to 0.5\n",
    "trump_cov = state_votes['REPUBLICAN'].T.corr()\n",
    "trump_cov = np.eye(trump_cov.shape[0])*(1-correlation_factor) + trump_cov*correlation_factor\n",
    "trump_cov = trump_cov.apply(lambda row: to_cov(row,post_vars['trump_var']))\n",
    "\n",
    "\n",
    "harris_cov = state_votes['DEMOCRAT'].T.corr()\n",
    "harris_cov = np.eye(harris_cov.shape[0])*(1-correlation_factor) + harris_cov*correlation_factor\n",
    "harris_cov = harris_cov.apply(lambda row: to_cov(row,post_vars['harris_var']))\n",
    "\n",
    "oth_cov = state_votes['3RDPARTY'].T.corr()\n",
    "oth_cov = np.eye(oth_cov.shape[0])*(1-correlation_factor) + oth_cov*correlation_factor\n",
    "oth_cov = oth_cov.apply(lambda row: to_cov(row,post_vars['other_var']))"
   ]
  },
  {
   "cell_type": "code",
   "execution_count": 15,
   "metadata": {},
   "outputs": [],
   "source": [
    "outputs = [] # SIMULATE ALL THE ELECTION RESULTS\n",
    "for _ in range(NUM_ITER):\n",
    "    election = pd.DataFrame(data = [np.clip(np.random.multivariate_normal(post_preds[\"trump_vote\"],trump_cov),0,1),\n",
    "                                    np.clip(np.random.multivariate_normal(post_preds[\"harris_vote\"],harris_cov),0,1),\n",
    "                                    np.clip(np.random.multivariate_normal(post_preds[\"other_vote\"],oth_cov),0,1)\n",
    "                            ], columns=trump_cov.columns,index=[\"trump_share\",\"harris_share\",\"oth_share\"]).T\n",
    "    \n",
    "    harris_popular_vote = np.average(election['harris_share'],weights=state_votes.T.loc[(slice(None), ELECTIONYEAR-4), :].droplevel('year').sum())\n",
    "    trump_popular_vote = np.average(election['trump_share'],weights=state_votes.T.loc[(slice(None), ELECTIONYEAR-4), :].droplevel('year').sum())\n",
    "    oth_popular_vote = np.average(election['oth_share'],weights=state_votes.T.loc[(slice(None), ELECTIONYEAR-4), :].droplevel('year').sum())\n",
    "    \n",
    "    election['margin']=election[\"harris_share\"] - election[\"trump_share\"]\n",
    "    election.sort_values(by='margin',ascending=False,inplace=True)\n",
    "\n",
    "    election['winner']=[\"Harris\"if res else \"Trump\" for res in election['margin']>0 ]\n",
    "\n",
    "    election[\"Cummulative Trump EV\"] = 0\n",
    "    election[\"Cummulative Harris EV\"] = 0\n",
    "\n",
    "\n",
    "\n",
    "    harris_ev = 0\n",
    "    trump_ev = 0\n",
    "    other_ev = 0\n",
    "\n",
    "\n",
    "    for state_name, result in election.iterrows():\n",
    "        if result['winner']==\"Harris\":\n",
    "            harris_ev += electoralvotes[state_name]\n",
    "            election.loc[state_name,\"Cummulative Harris EV\"] = harris_ev\n",
    "\n",
    "    election.sort_values(by='margin',ascending=True,inplace=True)\n",
    "    for state_name, result in election.iterrows():\n",
    "        if result['winner']==\"Trump\":\n",
    "            trump_ev += electoralvotes[state_name]\n",
    "            election.loc[state_name,\"Cummulative Trump EV\"] = trump_ev\n",
    "\n",
    "    # Check if Electoral Vote Tie\n",
    "    if (election[[\"Cummulative Harris EV\",\"Cummulative Trump EV\"]]==269).any().all():\n",
    "        tipping_point_state = election[(election[[\"Cummulative Harris EV\",\"Cummulative Trump EV\"]]==269).any(axis=1)]['margin'].abs().idxmin()\n",
    "    else:\n",
    "        tipping_point_state = election[(election[[\"Cummulative Harris EV\",\"Cummulative Trump EV\"]]>= 270).any(axis=1)][[\"Cummulative Harris EV\",\"Cummulative Trump EV\"]].sum(axis=1).idxmin()\n",
    " \n",
    "\n",
    "\n",
    "    output_df = election[[\"trump_share\",\"harris_share\",\"oth_share\",\"winner\"]]\n",
    "    output = {\n",
    "        \"df\":output_df,\n",
    "        \"facts\":{\n",
    "            \"harris_popular_vote\":harris_popular_vote,\n",
    "            \"trump_popular_vote\":trump_popular_vote,\n",
    "            \"oth_popular_vote\":oth_popular_vote,\n",
    "            \"tipping_point_state\":tipping_point_state,\n",
    "            \"harris_ev\":harris_ev\n",
    "        }\n",
    "    }\n",
    "    outputs.append(output)"
   ]
  },
  {
   "cell_type": "code",
   "execution_count": 16,
   "metadata": {},
   "outputs": [],
   "source": [
    "combined_df = pd.concat([output['df'] for output in outputs],axis=0)\n",
    "median_df = combined_df[[\"trump_share\",\t\"harris_share\",\"oth_share\"]].groupby(level=0).median()"
   ]
  },
  {
   "cell_type": "code",
   "execution_count": 17,
   "metadata": {},
   "outputs": [],
   "source": [
    "def ensure_harris(counts):\n",
    "    if \"Harris\" not in counts:\n",
    "        counts[\"Harris\"] = 0\n",
    "    return counts\n",
    "state_probs = combined_df.groupby(combined_df.index)[\"winner\"].apply(lambda x: x.value_counts())\n",
    "state_probs = state_probs.groupby(level=0).apply(ensure_harris)\n",
    "state_probs = state_probs.reset_index(level=1, drop=True).unstack(fill_value=0).drop('',axis=1)"
   ]
  },
  {
   "cell_type": "code",
   "execution_count": 18,
   "metadata": {},
   "outputs": [],
   "source": [
    "model_outputs = {}\n",
    "for i,row in median_df.iterrows():\n",
    "    p_harris_win = state_probs.loc[i,\"Harris\"] / state_probs.loc[i].sum()\n",
    "    harris_margin_median = row[\"harris_share\"] - row[\"trump_share\"]\n",
    "\n",
    "\n",
    "    model_outputs[i] = {\n",
    "        \"Probability Harris Win\":p_harris_win,\n",
    "        \"Median Harris Margin\":harris_margin_median,\n",
    "        \"Harris Voteshare\":row[\"harris_share\"],\n",
    "        \"Trump Voteshare\":row[\"trump_share\"],\n",
    "        \"Other Voteshare\":row[\"oth_share\"],\n",
    "        \"Total Number of Votes\":state_votes.T.loc[(slice(None), ELECTIONYEAR-4), :].droplevel('year').sum()[i],\n",
    "        \"EV\":electoralvotes[i]\n",
    "    }\n",
    "model_outputs = pd.DataFrame(data = model_outputs).T"
   ]
  },
  {
   "cell_type": "code",
   "execution_count": 19,
   "metadata": {},
   "outputs": [],
   "source": [
    "text = model_outputs.apply(lambda row:\n",
    "                           f\" <b><i>{df[['state','state_po']].set_index('state_po').to_dict()['state'][row.name]}</i> {int(row['EV'])} EV's</b> \\\n",
    "                           <br><i>Probability Harris Wins</i>: <b>{np.round(row['Probability Harris Win']*100,1)}%</b> \\\n",
    "                           <br><i>Predicted Harris Voteshare</i>: <b>{np.round(row['Harris Voteshare']*100,1)}%</b> \\\n",
    "                            <br><i>Predicted Trump Voteshare</i>: <b>{np.round(row['Trump Voteshare']*100,1)}%</b> \\\n",
    "                           <br><i>Predicted Other Voteshare</i>: <b>{np.round(row['Other Voteshare']*100,1)}%</b> \\\n",
    "                            \",axis=1)"
   ]
  },
  {
   "cell_type": "code",
   "execution_count": 20,
   "metadata": {},
   "outputs": [],
   "source": [
    "republican_red = \"#cf1313\"\n",
    "democratic_blue = \"#116dc2\"\n",
    "chloropleth_cmap = [(0, republican_red),(0.5,\"#fef7ff\"), (1, democratic_blue)]\n",
    "histogram_cmap = [(0, republican_red),(0.4, republican_red), (0.5,\"#c478b1\"), (0.6, democratic_blue), (1, democratic_blue)]"
   ]
  },
  {
   "cell_type": "code",
   "execution_count": 21,
   "metadata": {},
   "outputs": [],
   "source": [
    "fig = go.Figure(data=go.Choropleth(\n",
    "    locations=model_outputs.index, # Spatial coordinates\n",
    "    z = model_outputs[\"Probability Harris Win\"], # Data to be color-coded\n",
    "    locationmode = 'USA-states', # set of locations match entries in `locations`\n",
    "    colorscale = chloropleth_cmap,\n",
    "    # colorbar_title = \"Probability Harris Win\",\n",
    "    text = text,\n",
    "    hoverinfo=\"text\",\n",
    "    showscale=False\n",
    "))\n",
    "\n",
    "fig.update_layout(\n",
    "    # title_text = f'2024 Electoral Forecast: Kamala Harris has a {OVERALL[\"Probability Harris Win\"].round(3)*100}% chance to win the election',\n",
    "    geo_scope='usa', # limite map scope to USA\n",
    "    title=None,  # Remove title\n",
    ")\n",
    "fig.update_layout(\n",
    "    dragmode=False,\n",
    "    paper_bgcolor='rgba(0,0,0,0)',\n",
    "    plot_bgcolor='rgba(0,0,0,0)',\n",
    "    margin={\"r\":0,\"t\":0,\"l\":0,\"b\":0},  # Adjust margins to remove extra space\n",
    "\n",
    ")\n",
    "# fig.add_trace(go.Scattergeo(\n",
    "#     locationmode='USA-states',\n",
    "#     locations=model_outputs.index, # Spatial coordinates\n",
    "\n",
    "#     text=[f'<a href=\"https://plot.ly/\"> </a>' for state in model_outputs.index],\n",
    "#     mode='text',\n",
    "#     textposition='middle center',\n",
    "#     showlegend=False,\n",
    "#     hoverinfo='none'\n",
    "# ))\n",
    "# fig.show()\n",
    "fig.write_html(\"../docs/assets/chloropleth.html\",config={'displayModeBar': False,\"responsive\": True,\"scrollZoom\":False})"
   ]
  },
  {
   "cell_type": "code",
   "execution_count": 22,
   "metadata": {},
   "outputs": [],
   "source": [
    "run = np.array([output['facts']['harris_ev'] for output in outputs])\n",
    "harris_margins = 2*run - 538"
   ]
  },
  {
   "cell_type": "code",
   "execution_count": 23,
   "metadata": {},
   "outputs": [],
   "source": [
    "# counts,bins = np.histogram(run,bins=85,range=(100,440))\n",
    "counts,bins = np.histogram(harris_margins,bins=max(abs(min(harris_margins)),abs(max(harris_margins))), range=(-max(abs(min(harris_margins)),abs(max(harris_margins))),max(abs(min(harris_margins)),abs(max(harris_margins)))))\n",
    "cumulative = np.cumsum(counts) / sum(counts)\n"
   ]
  },
  {
   "cell_type": "code",
   "execution_count": 24,
   "metadata": {},
   "outputs": [],
   "source": [
    "hist_individual_text = []\n",
    "hist_cumsum_text = []\n",
    "for i,count in enumerate(counts):\n",
    "    harris_res = int(bins[i])//2 + 269\n",
    "    trump_res = -int(bins[i])//2 + 269\n",
    "    if trump_res > harris_res:\n",
    "        hist_individual_text.append(\n",
    "            f\"<b>Trump wins the election with <i>{trump_res}</i> EV's to \\\n",
    "            <br> Harris's <i>{harris_res}</i> EV's in {count} runs \\\n",
    "        <br> out of {sum(counts)} simulations </b>\"\n",
    "        )\n",
    "        \n",
    "        # hist_cumsum_text.append(f\"<b> Trump wins at least {trump_res} EV's in {np.round(cumulative[i]*100,1)}% of {sum(counts)} simulations </b>\")\n",
    "    elif trump_res < harris_res:\n",
    "        hist_individual_text.append(\n",
    "            f\"<b>Harris wins the election with <i>{harris_res}</i> EV's to \\\n",
    "            <br> Trump's <i>{trump_res}</i> EV's in {count} runs \\\n",
    "        <br> out of {sum(counts)} simulations </b>\"\n",
    "        )\n",
    "        # hist_cumsum_text.append(f\"<b> Harris wins at least {harris_res} EV's in {np.round(100-cumulative[i]*100,1)}% of {sum(counts)} simulations </b>\")\n",
    "    else:\n",
    "        hist_individual_text.append(\n",
    "            f\"<b> An electoral college tie! 269-269 to both candidates occurs \\\n",
    "            <br> in {count} runs out of {sum(counts)} simulations </b>\")\n",
    "    hist_cumsum_text.append(f\"<b> Harris wins at least {harris_res+1} EV's in {np.round(100-cumulative[i]*100,1)}% of {sum(counts)} simulations </b>\")\n",
    "  \n",
    "\n"
   ]
  },
  {
   "cell_type": "code",
   "execution_count": 25,
   "metadata": {},
   "outputs": [],
   "source": [
    "\n",
    "\n",
    "fig = make_subplots(specs=[[{\"secondary_y\": True}]])\n",
    "\n",
    "fig.add_trace(go.Bar(\n",
    "    x=bins,\n",
    "    y=counts/sum(counts)*100,\n",
    "    marker={'color': bins, 'colorscale': histogram_cmap},\n",
    "    # text =hist_individual_text,    \n",
    "    hoverinfo='skip',\n",
    "    textposition = \"none\",\n",
    "    name='Probability %'\n",
    "    ),\n",
    "        secondary_y=False,\n",
    ")\n",
    "\n",
    "fig.add_trace(go.Scatter(\n",
    "    x=bins,\n",
    "    y=cumulative,\n",
    "    mode='markers+lines',\n",
    "    name='Smoothed Cumulative Distribution',\n",
    "    line={'color': 'black', 'width': 0},\n",
    "    marker={'color': bins, 'colorscale': histogram_cmap,\"size\":3},\n",
    "    text =hist_cumsum_text,    \n",
    "    hoverinfo='text',\n",
    "),\n",
    "    secondary_y=True\n",
    ")\n",
    "fig.update_layout(\n",
    "    xaxis_title='Harris Electoral College Vote',\n",
    ")\n",
    "fig.update_yaxes(title_text=\"<b>Probability %</b>\", secondary_y=False,range=[0,max(fig.data[0].y)*1.2])\n",
    "fig.update_yaxes(title_text=\"<b> Cumulative Probability %</b>\", secondary_y=True, range=[0,1.05],\n",
    "                 tickvals=[0,0.2,0.4,0.6,0.8,1],\n",
    "                 ticktext=[0,20,40,60,80,100])\n",
    "\n",
    "\n",
    "# fig.add_shape(go.layout.Shape(\n",
    "#         xref=\"x\",\n",
    "#         yref=\"y1\",\n",
    "#         type='line',\n",
    "#         x0=0,\n",
    "#         y0=0,\n",
    "#         x1=0,\n",
    "#         y1=max(fig.data[0].y)*1.2,  # Adjust y1 to match the range of your data\n",
    "#         line={'color': 'Black', 'width': 2, 'dash': 'dot'},\n",
    "#     ),\n",
    "#     )\n",
    "# fig.add_annotation(\n",
    "#     xref=\"x\",\n",
    "#     yref=\"y1\",\n",
    "#     x=80,\n",
    "#     y=max(fig.data[0].y)*1.1,  # Position text slightly below the top of the y-axis\n",
    "#     text=\"<b>Harris wins the election</b><br>---------->\",\n",
    "#     showarrow=False,\n",
    "#     arrowhead=0,\n",
    "#     font=dict(size=12, color=\"Black\"),\n",
    "#     align='left',\n",
    "# )\n",
    "fig.add_trace(go.Scatter(\n",
    "    x=[0, 0],  # Line at x=0\n",
    "    y=[0, max(fig.data[0].y)],  # Extend from y=0 to y=1\n",
    "    mode=\"lines+text\",\n",
    "    line={'color': 'Black', 'width': 2, 'dash': 'dot'},\n",
    "    text=[\"\",\"  <b>Harris wins the election</b><br>  ------------------>\"],  # Annotation text\n",
    "    textposition=\"bottom right\",  # Positioning the text at the top right of the line\n",
    "    showlegend=False,  # Hide the legend entry\n",
    "    hoverinfo='skip'\n",
    "),  secondary_y=False\n",
    ")\n",
    "# fig.add_trace(go.Scatter(\n",
    "#     x=[0, 0],  # Line at x=0\n",
    "#     y=[0, max(fig.data[0].y)],  # Extend from y=0 to y=1\n",
    "#     mode=\"lines+text\",\n",
    "#     line={'color': 'Black', 'width': 2, 'dash': 'dot'},\n",
    "#     text=[\"\",\"  <b>Harris wins the election</b><br>  ---------->\"],  # Annotation text\n",
    "#     textposition=\"bottom right\",  # Positioning the text at the top right of the line\n",
    "#     showlegend=False  # Hide the legend entry\n",
    "# ),  secondary_y=False\n",
    "# )\n",
    "\n",
    "\n",
    "# ox = bins[np.where(cumulative>=0.5)[0][0]]\n",
    "# oy = 0.5\n",
    "# rx = 8\n",
    "# ry = 1.3*rx/(max(abs(min(harris_margins)),abs(max(harris_margins))))\n",
    "# fig.add_shape(\n",
    "#     go.layout.Shape(\n",
    "#         xref=\"x\",\n",
    "#         yref=\"y2\",  # y2 refers to the second y-axis\n",
    "#         type='circle',\n",
    "#         x0= ox-rx,\n",
    "#         y0=oy+ry,\n",
    "#         x1=ox+rx,\n",
    "#         y1=oy-ry,  # Adjust y1 to match the range of your data\n",
    "#         line=dict(\n",
    "#             color='Black',\n",
    "#             width=2,\n",
    "#             dash='solid',  # Dotted line\n",
    "#         ),\n",
    "        \n",
    "#     )\n",
    "# )\n",
    "# fig.add_annotation(\n",
    "#     xref=\"x\",\n",
    "#     yref=\"y2\",\n",
    "#     x=ox+65,\n",
    "#     y=oy,  # Position text slightly below the top of the y-axis\n",
    "#     text=\"<b>Median outcome </b>\",\n",
    "#     showarrow=False,\n",
    "#     arrowhead=0,\n",
    "#     font=dict(size=12, color=\"Black\"),\n",
    "#     align='left',\n",
    "\n",
    "# )\n",
    "\n",
    "\n",
    "fig.update_layout(\n",
    "    dragmode=False,\n",
    "    paper_bgcolor='rgba(0,0,0,0)',\n",
    "    plot_bgcolor='rgba(0,0,0,0)',\n",
    "    margin={\"r\":0,\"t\":0,\"l\":0,\"b\":0},  # Adjust margins to remove extra space\n",
    "\n",
    ")\n",
    "fig.update_layout(\n",
    "    xaxis=dict(range=[-max(abs(min(harris_margins)),abs(max(harris_margins))),max(abs(min(harris_margins)),abs(max(harris_margins)))],\n",
    "        tickvals=[-300, -200, -100, -50, 0, 50, 100, 200, 300],  # Custom tick values\n",
    "        ticktext=[\"R +300\", \"R +200\", \"R +100\", \"R +50\",\"0\", \"D +50\",\"D +100\",\"D +200\", \"D +300\"],  # Custom tick labels\n",
    "    ),\n",
    "    hovermode=\"x\",\n",
    "    showlegend=False\n",
    ")\n",
    "\n",
    "# fig.show()\n",
    "fig.write_html(\"../docs/assets/histogram.html\",config={'displayModeBar': False,\"responsive\": True,\"scrollZoom\":False})"
   ]
  },
  {
   "cell_type": "code",
   "execution_count": 26,
   "metadata": {},
   "outputs": [],
   "source": [
    "ex_vote_text = []\n",
    "\n",
    "for output in outputs:\n",
    "    if output['facts']['harris_ev']>270:\n",
    "        ex_vote_text.append(f\"<b>Harris wins with {output['facts']['harris_ev']} EV's. \\\n",
    "                    <br>Harris wins {np.round(output['facts']['harris_popular_vote']*100,1)}% of the vote to \\\n",
    "                    <br>Trump's {np.round(output['facts']['trump_popular_vote']*100,1)}%\")\n",
    "    elif output['facts']['harris_ev']<269:\n",
    "        ex_vote_text.append(f\"<b>Trump wins with {538 - output['facts']['harris_ev']} EV's. \\\n",
    "            <br>Trump wins {np.round(output['facts']['trump_popular_vote']*100,1)}% of the vote to \\\n",
    "            <br>Harris's {np.round(output['facts']['harris_popular_vote']*100,1)}%\")\n",
    "    else:\n",
    "        ex_vote_text.append(f\"<b>269 - 269: Electoral college tie. \\\n",
    "            <br>Trump wins {np.round(output['facts']['trump_popular_vote']*100,1)}% of the vote to \\\n",
    "            <br>Harris's {np.round(output['facts']['harris_popular_vote']*100,1)}%\")"
   ]
  },
  {
   "cell_type": "code",
   "execution_count": 27,
   "metadata": {},
   "outputs": [],
   "source": [
    "vote_margin = np.array([output['facts']['trump_popular_vote']-output['facts']['harris_popular_vote'] for output in outputs])[:1000]\n",
    "ev_margin = 2*np.array([output['facts']['harris_ev'] for output in outputs])[:1000] - 538\n",
    "color = np.where(ev_margin == 0, 'gray', np.where(ev_margin > 0, democratic_blue, republican_red))\n",
    "alpha = np.where(\n",
    "    ((ev_margin > 0) & (vote_margin > 0)) | ((ev_margin < 0) & (vote_margin < 0)), 0.4, 1.0\n",
    ")\n",
    "\n",
    "# Create scatter plot\n",
    "fig = go.Figure(data=go.Scatter(\n",
    "    y=vote_margin,\n",
    "    x=ev_margin,\n",
    "    mode='markers',\n",
    "    marker=dict(\n",
    "        color=color,  # Color based on the condition\n",
    "        opacity=alpha,  # Opacity based on the condition\n",
    "        size=8,  # Marker size (adjust as needed)\n",
    "        line=dict(width=1, color='white')  # Add white border to markers\n",
    "    ),\n",
    "    text =ex_vote_text,    \n",
    "    hoverinfo='text',\n",
    "    # textposition = \"none\"\n",
    "))\n",
    "\n",
    "# Customize layout\n",
    "fig.update_layout(\n",
    "    yaxis=dict(range=[-round(max(abs(vote_margin)),2) - 0.05, round(max(abs(vote_margin)),2) + 0.05],\n",
    "        tickvals=[-0.2, -0.1, -0.05, 0, 0.05, 0.1, 0.2],  # Custom tick values\n",
    "        ticktext=[\"D +20\", \"D +10\", \"D +5\",\"0\", \"R +5\",\"R +10\",\"R +20\"],  # Custom tick labels\n",
    "        showgrid=False,\n",
    "        zeroline=True,  # Add a line at y=0 (major x-axis)\n",
    "        zerolinecolor='black',  # Set the color of the x-axis line\n",
    "        zerolinewidth=2  # Set the width of the x-axis line\n",
    "    ),    \n",
    "    \n",
    "    xaxis=dict(range=[-400, 400],\n",
    "        tickvals=[400, 200, 100, 0, -100, -200, -400],  # Custom tick values\n",
    "        ticktext=[\"D +400\", \"D +200\", \"D +100\",\"0\", \"R +100\",\"R +200\",\"R +400\"],  # Custom tick labels\n",
    "        showgrid=False,\n",
    "        zeroline=True,  # Add a line at y=0 (major x-axis)\n",
    "        zerolinecolor='black',  # Set the color of the x-axis line\n",
    "        zerolinewidth=2  # Set the width of the x-axis line\n",
    "    ),        \n",
    "    # width=600,  # Width of the plot\n",
    "    # height=600,  # Height of the plot (same as width to make it square)\n",
    ")\n",
    "fig.update_layout(\n",
    "    dragmode=False,\n",
    "    paper_bgcolor='rgba(0,0,0,0)',\n",
    "    plot_bgcolor='rgba(0,0,0,0)',\n",
    ")\n",
    "\n",
    "# Show the plot\n",
    "fig.write_html(\"../docs/assets/ev_vote.html\",config={'displayModeBar': False,\"responsive\": True,\"scrollZoom\":False})"
   ]
  },
  {
   "cell_type": "code",
   "execution_count": 28,
   "metadata": {},
   "outputs": [],
   "source": [
    "tipping_points = pd.Series([output['facts']['tipping_point_state'] for output in outputs])\n",
    "tipping_points_chances = (tipping_points.value_counts()/tipping_points.value_counts().sum())"
   ]
  },
  {
   "cell_type": "code",
   "execution_count": 29,
   "metadata": {},
   "outputs": [],
   "source": [
    "model_outputs['tipping_point_chance'] = tipping_points_chances\n",
    "model_outputs['tipping_point_chance'] = model_outputs['tipping_point_chance'].fillna(0)"
   ]
  },
  {
   "cell_type": "code",
   "execution_count": 30,
   "metadata": {},
   "outputs": [],
   "source": [
    "model_outputs.index.name='state'"
   ]
  },
  {
   "cell_type": "code",
   "execution_count": 31,
   "metadata": {},
   "outputs": [],
   "source": [
    "model_outputs.to_csv(\"../docs/model_data/state_outputs.csv\")"
   ]
  },
  {
   "cell_type": "code",
   "execution_count": 32,
   "metadata": {},
   "outputs": [],
   "source": [
    "facts_df = pd.read_csv(\"../facts.csv\",parse_dates=['date'],date_parser=lambda x: dt.strptime(x[:10], '%Y-%m-%d'),index_col='date')"
   ]
  },
  {
   "cell_type": "code",
   "execution_count": 33,
   "metadata": {},
   "outputs": [],
   "source": [
    "def median_stats(X)->tuple:\n",
    "    Xsorted = np.sort(X)\n",
    "    ci_lower_index = np.floor(len(Xsorted)/2 - 1.96*np.sqrt(len(Xsorted)/4)).astype(int)\n",
    "    ci_upper_index = np.ceil(len(Xsorted)/2 + 1.96*np.sqrt(len(Xsorted)/4)).astype(int)\n",
    "    print(ci_lower_index)\n",
    "    the_median = np.median(X)\n",
    "    return the_median, Xsorted[ci_lower_index], Xsorted[ci_upper_index]\n",
    "def mean_stats(X)->tuple:\n",
    "    themean = np.mean(X)\n",
    "    return themean, themean-1.96*np.std(X), themean+1.96*np.std(X)"
   ]
  },
  {
   "cell_type": "code",
   "execution_count": 34,
   "metadata": {},
   "outputs": [],
   "source": [
    "harris_mean_stats = mean_stats([output['facts']['harris_ev'] for output in outputs])\n",
    "trump_mean_stats = mean_stats([538-output['facts']['harris_ev'] for output in outputs])\n",
    "harrispwin = sum([output['facts']['harris_ev']>=270 for output in outputs])/NUM_ITER\n",
    "trumppwin = sum([output['facts']['harris_ev']<269 for output in outputs])/NUM_ITER\n",
    "evtie = sum([output['facts']['harris_ev']==269 for output in outputs])/NUM_ITER\n",
    "\n",
    "harris_popular_vote_stats = mean_stats([output['facts']['harris_popular_vote'] for output in outputs])\n",
    "trump_popular_vote_stats = mean_stats([output['facts']['trump_popular_vote'] for output in outputs])\n",
    "other_popular_vote = mean_stats([1 - output['facts']['trump_popular_vote']-output['facts']['harris_popular_vote'] for output in outputs])\n",
    "\n",
    "electoral_college_gap = []\n",
    "ev_popular_split = []\n",
    "for output in outputs:\n",
    "    harris_popular_margin = output['facts']['harris_popular_vote']- output['facts']['trump_popular_vote']\n",
    "    tipping_point_margin = output['df'].loc[output['facts']['tipping_point_state'],'harris_share'] - output['df'].loc[output['facts']['tipping_point_state'],'trump_share']\n",
    "    electoral_college_gap.append(tipping_point_margin - harris_popular_margin)\n",
    "\n",
    "    if output['facts']['harris_ev']>=270 and harris_popular_margin<0:\n",
    "        ev_popular_split.append(\"harris\")\n",
    "    elif output['facts']['harris_ev']<269 and harris_popular_margin>0:\n",
    "        ev_popular_split.append('trump')\n",
    "    else:\n",
    "        ev_popular_split.append('aligned')\n",
    "electoral_college_gap_stats = mean_stats(electoral_college_gap)\n",
    "ev_popular_split_stats = pd.Series(ev_popular_split).value_counts()/len(ev_popular_split)\n",
    "\n"
   ]
  },
  {
   "cell_type": "code",
   "execution_count": 35,
   "metadata": {},
   "outputs": [],
   "source": [
    "popvote_facts = list(np.unique([np.argmax((output['facts']['harris_popular_vote'],output['facts']['trump_popular_vote'],output['facts']['oth_popular_vote'])) for output in outputs],return_counts=True))\n",
    "popvote_facts[1] = popvote_facts[1]/np.sum(popvote_facts[1])\n",
    "if 2 not in popvote_facts[0]:\n",
    "    popvote_facts[0] = np.append(popvote_facts[0],2)\n",
    "    popvote_facts[1] = np.append(popvote_facts[1],0)"
   ]
  },
  {
   "cell_type": "code",
   "execution_count": 36,
   "metadata": {},
   "outputs": [],
   "source": [
    "facts_df.loc[DAY_OF_SIM] = pd.Series(data={\n",
    "    'harris_mean_ev':harris_mean_stats[0],\n",
    "    'harris_mean_ev_lower':harris_mean_stats[1],\n",
    "    'harris_mean_ev_upper':harris_mean_stats[2],\n",
    "    'trump_mean_ev':trump_mean_stats[0],\n",
    "    'trump_mean_ev_lower':trump_mean_stats[1],\n",
    "    'trump_mean_ev_upper':trump_mean_stats[2],\n",
    "    'harris_ev_prob':harrispwin,\n",
    "    'trump_ev_prob':trumppwin,\n",
    "    'ev_tie_prob':evtie,\n",
    "    'harris_mean_popular_vote':harris_popular_vote_stats[0],\n",
    "    'harris_mean_popular_vote_lower':harris_popular_vote_stats[1],\n",
    "    'harris_mean_popular_vote_upper':harris_popular_vote_stats[2],\n",
    "    \n",
    "    'trump_mean_popular_vote':trump_popular_vote_stats[0],\n",
    "    'trump_mean_popular_vote_lower':trump_popular_vote_stats[1],\n",
    "    'trump_mean_popular_vote_upper':trump_popular_vote_stats[2],\n",
    "    \n",
    "    'other_mean_popular_vote':other_popular_vote[0],\n",
    "    'other_mean_popular_vote_lower':other_popular_vote[1],\n",
    "    'other_mean_popular_vote_upper':other_popular_vote[2],\n",
    "    \n",
    "    'harris_popular_prob':popvote_facts[1][0],\n",
    "    'trump_popular_prob':popvote_facts[1][1],\n",
    "    'other_popular_prob':popvote_facts[1][2],\n",
    "\n",
    "    'electoral_college_gap':electoral_college_gap_stats[0],\n",
    "    'electoral_college_gap_lower':electoral_college_gap_stats[1],\n",
    "    'electoral_college_gap_upper':electoral_college_gap_stats[2],\n",
    "    'ev_popular_split_for_trump_prob': ev_popular_split_stats['trump'],\n",
    "    'ev_popular_split_for_harris_prob': ev_popular_split_stats['harris'] \n",
    "\n",
    "})"
   ]
  },
  {
   "cell_type": "code",
   "execution_count": 37,
   "metadata": {},
   "outputs": [],
   "source": [
    "facts_df.to_csv(\"../facts.csv\", date_format='%Y-%m-%d')"
   ]
  },
  {
   "cell_type": "code",
   "execution_count": 38,
   "metadata": {},
   "outputs": [
    {
     "data": {
      "text/html": [
       "<div>\n",
       "<style scoped>\n",
       "    .dataframe tbody tr th:only-of-type {\n",
       "        vertical-align: middle;\n",
       "    }\n",
       "\n",
       "    .dataframe tbody tr th {\n",
       "        vertical-align: top;\n",
       "    }\n",
       "\n",
       "    .dataframe thead th {\n",
       "        text-align: right;\n",
       "    }\n",
       "</style>\n",
       "<table border=\"1\" class=\"dataframe\">\n",
       "  <thead>\n",
       "    <tr style=\"text-align: right;\">\n",
       "      <th></th>\n",
       "      <th>trump_share</th>\n",
       "      <th>harris_share</th>\n",
       "      <th>oth_share</th>\n",
       "      <th>winner</th>\n",
       "    </tr>\n",
       "    <tr>\n",
       "      <th>state_po</th>\n",
       "      <th></th>\n",
       "      <th></th>\n",
       "      <th></th>\n",
       "      <th></th>\n",
       "    </tr>\n",
       "  </thead>\n",
       "  <tbody>\n",
       "    <tr>\n",
       "      <th>WY</th>\n",
       "      <td>0.779714</td>\n",
       "      <td>0.173623</td>\n",
       "      <td>0.090900</td>\n",
       "      <td>Trump</td>\n",
       "    </tr>\n",
       "    <tr>\n",
       "      <th>ND</th>\n",
       "      <td>0.767001</td>\n",
       "      <td>0.227388</td>\n",
       "      <td>0.057762</td>\n",
       "      <td>Trump</td>\n",
       "    </tr>\n",
       "    <tr>\n",
       "      <th>WV</th>\n",
       "      <td>0.786373</td>\n",
       "      <td>0.293013</td>\n",
       "      <td>0.024537</td>\n",
       "      <td>Trump</td>\n",
       "    </tr>\n",
       "    <tr>\n",
       "      <th>OK</th>\n",
       "      <td>0.726503</td>\n",
       "      <td>0.247801</td>\n",
       "      <td>0.029310</td>\n",
       "      <td>Trump</td>\n",
       "    </tr>\n",
       "    <tr>\n",
       "      <th>AR</th>\n",
       "      <td>0.790768</td>\n",
       "      <td>0.337208</td>\n",
       "      <td>0.050981</td>\n",
       "      <td>Trump</td>\n",
       "    </tr>\n",
       "    <tr>\n",
       "      <th>ID</th>\n",
       "      <td>0.647053</td>\n",
       "      <td>0.271654</td>\n",
       "      <td>0.062450</td>\n",
       "      <td>Trump</td>\n",
       "    </tr>\n",
       "    <tr>\n",
       "      <th>LA</th>\n",
       "      <td>0.686256</td>\n",
       "      <td>0.313875</td>\n",
       "      <td>0.038180</td>\n",
       "      <td>Trump</td>\n",
       "    </tr>\n",
       "    <tr>\n",
       "      <th>SD</th>\n",
       "      <td>0.634016</td>\n",
       "      <td>0.274792</td>\n",
       "      <td>0.057800</td>\n",
       "      <td>Trump</td>\n",
       "    </tr>\n",
       "    <tr>\n",
       "      <th>KY</th>\n",
       "      <td>0.651817</td>\n",
       "      <td>0.313397</td>\n",
       "      <td>0.052546</td>\n",
       "      <td>Trump</td>\n",
       "    </tr>\n",
       "    <tr>\n",
       "      <th>AL</th>\n",
       "      <td>0.629818</td>\n",
       "      <td>0.294504</td>\n",
       "      <td>0.047427</td>\n",
       "      <td>Trump</td>\n",
       "    </tr>\n",
       "    <tr>\n",
       "      <th>IA</th>\n",
       "      <td>0.698205</td>\n",
       "      <td>0.363814</td>\n",
       "      <td>0.048760</td>\n",
       "      <td>Trump</td>\n",
       "    </tr>\n",
       "    <tr>\n",
       "      <th>TN</th>\n",
       "      <td>0.668878</td>\n",
       "      <td>0.347856</td>\n",
       "      <td>0.022030</td>\n",
       "      <td>Trump</td>\n",
       "    </tr>\n",
       "    <tr>\n",
       "      <th>MS</th>\n",
       "      <td>0.654148</td>\n",
       "      <td>0.338262</td>\n",
       "      <td>0.030677</td>\n",
       "      <td>Trump</td>\n",
       "    </tr>\n",
       "    <tr>\n",
       "      <th>UT</th>\n",
       "      <td>0.639715</td>\n",
       "      <td>0.330254</td>\n",
       "      <td>0.101035</td>\n",
       "      <td>Trump</td>\n",
       "    </tr>\n",
       "    <tr>\n",
       "      <th>MO</th>\n",
       "      <td>0.615088</td>\n",
       "      <td>0.333548</td>\n",
       "      <td>0.038297</td>\n",
       "      <td>Trump</td>\n",
       "    </tr>\n",
       "    <tr>\n",
       "      <th>KS</th>\n",
       "      <td>0.565102</td>\n",
       "      <td>0.287231</td>\n",
       "      <td>0.036401</td>\n",
       "      <td>Trump</td>\n",
       "    </tr>\n",
       "    <tr>\n",
       "      <th>NE</th>\n",
       "      <td>0.600805</td>\n",
       "      <td>0.338305</td>\n",
       "      <td>0.049233</td>\n",
       "      <td>Trump</td>\n",
       "    </tr>\n",
       "    <tr>\n",
       "      <th>IN</th>\n",
       "      <td>0.581002</td>\n",
       "      <td>0.319592</td>\n",
       "      <td>0.040982</td>\n",
       "      <td>Trump</td>\n",
       "    </tr>\n",
       "    <tr>\n",
       "      <th>SC</th>\n",
       "      <td>0.626338</td>\n",
       "      <td>0.368949</td>\n",
       "      <td>0.049828</td>\n",
       "      <td>Trump</td>\n",
       "    </tr>\n",
       "    <tr>\n",
       "      <th>MT</th>\n",
       "      <td>0.566569</td>\n",
       "      <td>0.323093</td>\n",
       "      <td>0.043857</td>\n",
       "      <td>Trump</td>\n",
       "    </tr>\n",
       "    <tr>\n",
       "      <th>OH</th>\n",
       "      <td>0.519747</td>\n",
       "      <td>0.357870</td>\n",
       "      <td>0.029655</td>\n",
       "      <td>Trump</td>\n",
       "    </tr>\n",
       "    <tr>\n",
       "      <th>AK</th>\n",
       "      <td>0.541851</td>\n",
       "      <td>0.407971</td>\n",
       "      <td>0.049556</td>\n",
       "      <td>Trump</td>\n",
       "    </tr>\n",
       "    <tr>\n",
       "      <th>FL</th>\n",
       "      <td>0.526572</td>\n",
       "      <td>0.404908</td>\n",
       "      <td>0.023661</td>\n",
       "      <td>Trump</td>\n",
       "    </tr>\n",
       "    <tr>\n",
       "      <th>TX</th>\n",
       "      <td>0.549763</td>\n",
       "      <td>0.457239</td>\n",
       "      <td>0.027865</td>\n",
       "      <td>Trump</td>\n",
       "    </tr>\n",
       "    <tr>\n",
       "      <th>NV</th>\n",
       "      <td>0.506610</td>\n",
       "      <td>0.436409</td>\n",
       "      <td>0.037823</td>\n",
       "      <td>Trump</td>\n",
       "    </tr>\n",
       "    <tr>\n",
       "      <th>NC</th>\n",
       "      <td>0.503545</td>\n",
       "      <td>0.460998</td>\n",
       "      <td>0.041495</td>\n",
       "      <td>Trump</td>\n",
       "    </tr>\n",
       "    <tr>\n",
       "      <th>PA</th>\n",
       "      <td>0.517071</td>\n",
       "      <td>0.475027</td>\n",
       "      <td>0.026581</td>\n",
       "      <td>Trump</td>\n",
       "    </tr>\n",
       "    <tr>\n",
       "      <th>WI</th>\n",
       "      <td>0.515580</td>\n",
       "      <td>0.489156</td>\n",
       "      <td>0.040465</td>\n",
       "      <td>Trump</td>\n",
       "    </tr>\n",
       "    <tr>\n",
       "      <th>MI</th>\n",
       "      <td>0.501958</td>\n",
       "      <td>0.484581</td>\n",
       "      <td>0.037679</td>\n",
       "      <td>Trump</td>\n",
       "    </tr>\n",
       "    <tr>\n",
       "      <th>AZ</th>\n",
       "      <td>0.476424</td>\n",
       "      <td>0.460072</td>\n",
       "      <td>0.031018</td>\n",
       "      <td>Trump</td>\n",
       "    </tr>\n",
       "    <tr>\n",
       "      <th>GA</th>\n",
       "      <td>0.507937</td>\n",
       "      <td>0.492006</td>\n",
       "      <td>0.030399</td>\n",
       "      <td>Trump</td>\n",
       "    </tr>\n",
       "    <tr>\n",
       "      <th>CO</th>\n",
       "      <td>0.476436</td>\n",
       "      <td>0.491437</td>\n",
       "      <td>0.062555</td>\n",
       "      <td>Harris</td>\n",
       "    </tr>\n",
       "    <tr>\n",
       "      <th>MN</th>\n",
       "      <td>0.451009</td>\n",
       "      <td>0.472407</td>\n",
       "      <td>0.044260</td>\n",
       "      <td>Harris</td>\n",
       "    </tr>\n",
       "    <tr>\n",
       "      <th>ME</th>\n",
       "      <td>0.472083</td>\n",
       "      <td>0.502363</td>\n",
       "      <td>0.039519</td>\n",
       "      <td>Harris</td>\n",
       "    </tr>\n",
       "    <tr>\n",
       "      <th>NM</th>\n",
       "      <td>0.420698</td>\n",
       "      <td>0.469361</td>\n",
       "      <td>0.074532</td>\n",
       "      <td>Harris</td>\n",
       "    </tr>\n",
       "    <tr>\n",
       "      <th>VA</th>\n",
       "      <td>0.449207</td>\n",
       "      <td>0.506927</td>\n",
       "      <td>0.053382</td>\n",
       "      <td>Harris</td>\n",
       "    </tr>\n",
       "    <tr>\n",
       "      <th>NH</th>\n",
       "      <td>0.443549</td>\n",
       "      <td>0.505630</td>\n",
       "      <td>0.023251</td>\n",
       "      <td>Harris</td>\n",
       "    </tr>\n",
       "    <tr>\n",
       "      <th>NY</th>\n",
       "      <td>0.464465</td>\n",
       "      <td>0.552201</td>\n",
       "      <td>0.062044</td>\n",
       "      <td>Harris</td>\n",
       "    </tr>\n",
       "    <tr>\n",
       "      <th>OR</th>\n",
       "      <td>0.358434</td>\n",
       "      <td>0.480085</td>\n",
       "      <td>0.078257</td>\n",
       "      <td>Harris</td>\n",
       "    </tr>\n",
       "    <tr>\n",
       "      <th>IL</th>\n",
       "      <td>0.382823</td>\n",
       "      <td>0.513833</td>\n",
       "      <td>0.034460</td>\n",
       "      <td>Harris</td>\n",
       "    </tr>\n",
       "    <tr>\n",
       "      <th>NJ</th>\n",
       "      <td>0.442404</td>\n",
       "      <td>0.583904</td>\n",
       "      <td>0.026539</td>\n",
       "      <td>Harris</td>\n",
       "    </tr>\n",
       "    <tr>\n",
       "      <th>WA</th>\n",
       "      <td>0.402571</td>\n",
       "      <td>0.544891</td>\n",
       "      <td>0.069728</td>\n",
       "      <td>Harris</td>\n",
       "    </tr>\n",
       "    <tr>\n",
       "      <th>RI</th>\n",
       "      <td>0.377198</td>\n",
       "      <td>0.544289</td>\n",
       "      <td>0.020102</td>\n",
       "      <td>Harris</td>\n",
       "    </tr>\n",
       "    <tr>\n",
       "      <th>CT</th>\n",
       "      <td>0.366627</td>\n",
       "      <td>0.535654</td>\n",
       "      <td>0.015912</td>\n",
       "      <td>Harris</td>\n",
       "    </tr>\n",
       "    <tr>\n",
       "      <th>DE</th>\n",
       "      <td>0.404173</td>\n",
       "      <td>0.602744</td>\n",
       "      <td>0.013124</td>\n",
       "      <td>Harris</td>\n",
       "    </tr>\n",
       "    <tr>\n",
       "      <th>MD</th>\n",
       "      <td>0.384715</td>\n",
       "      <td>0.593369</td>\n",
       "      <td>0.041713</td>\n",
       "      <td>Harris</td>\n",
       "    </tr>\n",
       "    <tr>\n",
       "      <th>VT</th>\n",
       "      <td>0.352054</td>\n",
       "      <td>0.619449</td>\n",
       "      <td>0.076856</td>\n",
       "      <td>Harris</td>\n",
       "    </tr>\n",
       "    <tr>\n",
       "      <th>CA</th>\n",
       "      <td>0.364642</td>\n",
       "      <td>0.639149</td>\n",
       "      <td>0.032259</td>\n",
       "      <td>Harris</td>\n",
       "    </tr>\n",
       "    <tr>\n",
       "      <th>MA</th>\n",
       "      <td>0.299628</td>\n",
       "      <td>0.592737</td>\n",
       "      <td>0.038081</td>\n",
       "      <td>Harris</td>\n",
       "    </tr>\n",
       "    <tr>\n",
       "      <th>HI</th>\n",
       "      <td>0.358293</td>\n",
       "      <td>0.704583</td>\n",
       "      <td>0.067398</td>\n",
       "      <td>Harris</td>\n",
       "    </tr>\n",
       "    <tr>\n",
       "      <th>DC</th>\n",
       "      <td>0.064343</td>\n",
       "      <td>0.859740</td>\n",
       "      <td>0.039649</td>\n",
       "      <td>Harris</td>\n",
       "    </tr>\n",
       "  </tbody>\n",
       "</table>\n",
       "</div>"
      ],
      "text/plain": [
       "          trump_share  harris_share  oth_share  winner\n",
       "state_po                                              \n",
       "WY           0.779714      0.173623   0.090900   Trump\n",
       "ND           0.767001      0.227388   0.057762   Trump\n",
       "WV           0.786373      0.293013   0.024537   Trump\n",
       "OK           0.726503      0.247801   0.029310   Trump\n",
       "AR           0.790768      0.337208   0.050981   Trump\n",
       "ID           0.647053      0.271654   0.062450   Trump\n",
       "LA           0.686256      0.313875   0.038180   Trump\n",
       "SD           0.634016      0.274792   0.057800   Trump\n",
       "KY           0.651817      0.313397   0.052546   Trump\n",
       "AL           0.629818      0.294504   0.047427   Trump\n",
       "IA           0.698205      0.363814   0.048760   Trump\n",
       "TN           0.668878      0.347856   0.022030   Trump\n",
       "MS           0.654148      0.338262   0.030677   Trump\n",
       "UT           0.639715      0.330254   0.101035   Trump\n",
       "MO           0.615088      0.333548   0.038297   Trump\n",
       "KS           0.565102      0.287231   0.036401   Trump\n",
       "NE           0.600805      0.338305   0.049233   Trump\n",
       "IN           0.581002      0.319592   0.040982   Trump\n",
       "SC           0.626338      0.368949   0.049828   Trump\n",
       "MT           0.566569      0.323093   0.043857   Trump\n",
       "OH           0.519747      0.357870   0.029655   Trump\n",
       "AK           0.541851      0.407971   0.049556   Trump\n",
       "FL           0.526572      0.404908   0.023661   Trump\n",
       "TX           0.549763      0.457239   0.027865   Trump\n",
       "NV           0.506610      0.436409   0.037823   Trump\n",
       "NC           0.503545      0.460998   0.041495   Trump\n",
       "PA           0.517071      0.475027   0.026581   Trump\n",
       "WI           0.515580      0.489156   0.040465   Trump\n",
       "MI           0.501958      0.484581   0.037679   Trump\n",
       "AZ           0.476424      0.460072   0.031018   Trump\n",
       "GA           0.507937      0.492006   0.030399   Trump\n",
       "CO           0.476436      0.491437   0.062555  Harris\n",
       "MN           0.451009      0.472407   0.044260  Harris\n",
       "ME           0.472083      0.502363   0.039519  Harris\n",
       "NM           0.420698      0.469361   0.074532  Harris\n",
       "VA           0.449207      0.506927   0.053382  Harris\n",
       "NH           0.443549      0.505630   0.023251  Harris\n",
       "NY           0.464465      0.552201   0.062044  Harris\n",
       "OR           0.358434      0.480085   0.078257  Harris\n",
       "IL           0.382823      0.513833   0.034460  Harris\n",
       "NJ           0.442404      0.583904   0.026539  Harris\n",
       "WA           0.402571      0.544891   0.069728  Harris\n",
       "RI           0.377198      0.544289   0.020102  Harris\n",
       "CT           0.366627      0.535654   0.015912  Harris\n",
       "DE           0.404173      0.602744   0.013124  Harris\n",
       "MD           0.384715      0.593369   0.041713  Harris\n",
       "VT           0.352054      0.619449   0.076856  Harris\n",
       "CA           0.364642      0.639149   0.032259  Harris\n",
       "MA           0.299628      0.592737   0.038081  Harris\n",
       "HI           0.358293      0.704583   0.067398  Harris\n",
       "DC           0.064343      0.859740   0.039649  Harris"
      ]
     },
     "execution_count": 38,
     "metadata": {},
     "output_type": "execute_result"
    }
   ],
   "source": [
    "outputs[0]['df']"
   ]
  },
  {
   "cell_type": "code",
   "execution_count": 39,
   "metadata": {},
   "outputs": [],
   "source": [
    "fl = np.array([output['df'].loc['FL','harris_share'] for output in outputs])"
   ]
  },
  {
   "cell_type": "code",
   "execution_count": 40,
   "metadata": {},
   "outputs": [],
   "source": [
    "def kde(x,fl):\n",
    "    h=np.std(fl)\n",
    "    def gauss(z):\n",
    "        return np.vectorize(lambda w: np.exp(-0.5 * w**2)/np.sqrt(2*np.pi))(z)\n",
    "    \n",
    "    return np.mean(gauss((x-fl)/h))\n",
    "         \n",
    "x = np.linspace(0,1,101)\n",
    "ds = np.vectorize(lambda x: kde(x,fl))(x)\n",
    "ds = ds/np.sum(ds)"
   ]
  },
  {
   "cell_type": "code",
   "execution_count": 41,
   "metadata": {},
   "outputs": [],
   "source": [
    "xlower = np.where(np.cumsum(ds)>0.1)[0][0]\n",
    "xupper = np.where(np.cumsum(ds)<=0.9)[0][-1]"
   ]
  },
  {
   "cell_type": "code",
   "execution_count": 42,
   "metadata": {},
   "outputs": [
    {
     "data": {
      "application/vnd.plotly.v1+json": {
       "config": {
        "plotlyServerURL": "https://plot.ly"
       },
       "data": [
        {
         "fill": "tozeroy",
         "line": {
          "color": "blue"
         },
         "mode": "lines",
         "name": "In Range",
         "type": "scatter",
         "x": [
          0.4,
          0.41000000000000003,
          0.42,
          0.43,
          0.44,
          0.45,
          0.46,
          0.47000000000000003,
          0.48,
          0.49
         ],
         "y": [
          0.040322257962805405,
          0.054839974680002776,
          0.070045676966209,
          0.08400934381224379,
          0.09459481885135268,
          0.09998324833636997,
          0.09918221280029701,
          0.09232540360388279,
          0.08063762223988286,
          0.06607677855835623
         ]
        },
        {
         "fill": "tozeroy",
         "line": {
          "color": "grey"
         },
         "mode": "lines",
         "name": "Out of Range",
         "type": "scatter",
         "x": [
          0,
          0.01,
          0.02,
          0.03,
          0.04,
          0.05,
          0.06,
          0.07,
          0.08,
          0.09,
          0.1,
          0.11,
          0.12,
          0.13,
          0.14,
          0.15,
          0.16,
          0.17,
          0.18,
          0.19,
          0.2,
          0.21,
          0.22,
          0.23,
          0.24,
          0.25,
          0.26,
          0.27,
          0.28,
          0.29,
          0.3,
          0.31,
          0.32,
          0.33,
          0.34,
          0.35000000000000003,
          0.36,
          0.37,
          0.38,
          0.39,
          0.4
         ],
         "y": [
          1.4974254676791176e-37,
          1.072842049257996e-35,
          6.782538653999492e-34,
          3.7840336379101064e-32,
          1.8632363312847287e-30,
          8.098030329795851e-29,
          3.1070086459602998e-27,
          1.0524848782618884e-25,
          3.148218951088055e-24,
          8.316924886370148e-23,
          1.940849635175295e-21,
          4.001714164593688e-20,
          7.291770337248873e-19,
          1.1745662130775869e-17,
          1.6731157520208988e-16,
          2.1083948071224554e-15,
          2.3516000695719825e-14,
          2.32280727626208e-13,
          2.0333464490939763e-12,
          1.5788604627796174e-11,
          1.0886670667857128e-10,
          6.675461126562946e-10,
          3.6466326183075917e-9,
          1.778882413170146e-8,
          7.772655107288716e-8,
          3.054013269316255e-7,
          0.000001084548357420047,
          0.0000035031942752244555,
          0.000010371915724639421,
          0.00002839514476386798,
          0.000072542127241748,
          0.00017439060389302761,
          0.00039696821761140116,
          0.0008584362151569388,
          0.0017640524569496258,
          0.0034386163786980345,
          0.006340896967090488,
          0.011032562851487402,
          0.018075408739113733,
          0.02784957576196974,
          0.040322257962805405
         ]
        },
        {
         "fill": "tozeroy",
         "line": {
          "color": "grey"
         },
         "mode": "lines",
         "name": "Out of Range",
         "type": "scatter",
         "x": [
          0.49,
          0.5,
          0.51,
          0.52,
          0.53,
          0.54,
          0.55,
          0.56,
          0.5700000000000001,
          0.58,
          0.59,
          0.6,
          0.61,
          0.62,
          0.63,
          0.64,
          0.65,
          0.66,
          0.67,
          0.68,
          0.6900000000000001,
          0.7000000000000001,
          0.71,
          0.72,
          0.73,
          0.74,
          0.75,
          0.76,
          0.77,
          0.78,
          0.79,
          0.8,
          0.81,
          0.8200000000000001,
          0.8300000000000001,
          0.84,
          0.85,
          0.86,
          0.87,
          0.88,
          0.89,
          0.9,
          0.91,
          0.92,
          0.93,
          0.9400000000000001,
          0.9500000000000001,
          0.96,
          0.97,
          0.98,
          0.99,
          1
         ],
         "y": [
          0.06607677855835623,
          0.0507972753603295,
          0.03663749674772581,
          0.02479495323118759,
          0.015750140338361904,
          0.00939566760002712,
          0.005268224857264495,
          0.002779703314945201,
          0.0013820443288535761,
          0.0006483568851781422,
          0.00028726868479244034,
          0.00012022851332896481,
          0.00004747961791974772,
          0.000017647107738028584,
          0.000006147775028214643,
          0.0000019964867506089657,
          6.005414731388783e-7,
          1.6618791870028166e-7,
          4.202752910611136e-8,
          9.652884879888222e-9,
          2.0025891498840396e-9,
          3.735166553248003e-10,
          6.239160317307301e-11,
          9.30391025896326e-12,
          1.2354358715961161e-12,
          1.4578211453626092e-13,
          1.5262016937413507e-14,
          1.4157350093929825e-15,
          1.162432517068399e-16,
          8.441377355665124e-18,
          5.417941191761304e-19,
          3.071869836216131e-20,
          1.5379270917990844e-21,
          6.796501858614678e-23,
          2.650528368474748e-24,
          9.119686506467938e-26,
          2.7678909289171985e-27,
          7.409268673531288e-29,
          1.7490669655436184e-30,
          3.6408195290751165e-32,
          6.682178648095775e-34,
          1.0812698390224279e-35,
          1.542492801229553e-37,
          1.9398377655482137e-39,
          2.1505248631777485e-41,
          2.1015838541991092e-43,
          1.8103431305376682e-45,
          1.3746040775189895e-47,
          9.200027485307977e-50,
          5.427363484268636e-52,
          2.8220946725452176e-54,
          1.2933993360050075e-56
         ]
        }
       ],
       "layout": {
        "template": {
         "data": {
          "bar": [
           {
            "error_x": {
             "color": "#2a3f5f"
            },
            "error_y": {
             "color": "#2a3f5f"
            },
            "marker": {
             "line": {
              "color": "#E5ECF6",
              "width": 0.5
             },
             "pattern": {
              "fillmode": "overlay",
              "size": 10,
              "solidity": 0.2
             }
            },
            "type": "bar"
           }
          ],
          "barpolar": [
           {
            "marker": {
             "line": {
              "color": "#E5ECF6",
              "width": 0.5
             },
             "pattern": {
              "fillmode": "overlay",
              "size": 10,
              "solidity": 0.2
             }
            },
            "type": "barpolar"
           }
          ],
          "carpet": [
           {
            "aaxis": {
             "endlinecolor": "#2a3f5f",
             "gridcolor": "white",
             "linecolor": "white",
             "minorgridcolor": "white",
             "startlinecolor": "#2a3f5f"
            },
            "baxis": {
             "endlinecolor": "#2a3f5f",
             "gridcolor": "white",
             "linecolor": "white",
             "minorgridcolor": "white",
             "startlinecolor": "#2a3f5f"
            },
            "type": "carpet"
           }
          ],
          "choropleth": [
           {
            "colorbar": {
             "outlinewidth": 0,
             "ticks": ""
            },
            "type": "choropleth"
           }
          ],
          "contour": [
           {
            "colorbar": {
             "outlinewidth": 0,
             "ticks": ""
            },
            "colorscale": [
             [
              0,
              "#0d0887"
             ],
             [
              0.1111111111111111,
              "#46039f"
             ],
             [
              0.2222222222222222,
              "#7201a8"
             ],
             [
              0.3333333333333333,
              "#9c179e"
             ],
             [
              0.4444444444444444,
              "#bd3786"
             ],
             [
              0.5555555555555556,
              "#d8576b"
             ],
             [
              0.6666666666666666,
              "#ed7953"
             ],
             [
              0.7777777777777778,
              "#fb9f3a"
             ],
             [
              0.8888888888888888,
              "#fdca26"
             ],
             [
              1,
              "#f0f921"
             ]
            ],
            "type": "contour"
           }
          ],
          "contourcarpet": [
           {
            "colorbar": {
             "outlinewidth": 0,
             "ticks": ""
            },
            "type": "contourcarpet"
           }
          ],
          "heatmap": [
           {
            "colorbar": {
             "outlinewidth": 0,
             "ticks": ""
            },
            "colorscale": [
             [
              0,
              "#0d0887"
             ],
             [
              0.1111111111111111,
              "#46039f"
             ],
             [
              0.2222222222222222,
              "#7201a8"
             ],
             [
              0.3333333333333333,
              "#9c179e"
             ],
             [
              0.4444444444444444,
              "#bd3786"
             ],
             [
              0.5555555555555556,
              "#d8576b"
             ],
             [
              0.6666666666666666,
              "#ed7953"
             ],
             [
              0.7777777777777778,
              "#fb9f3a"
             ],
             [
              0.8888888888888888,
              "#fdca26"
             ],
             [
              1,
              "#f0f921"
             ]
            ],
            "type": "heatmap"
           }
          ],
          "heatmapgl": [
           {
            "colorbar": {
             "outlinewidth": 0,
             "ticks": ""
            },
            "colorscale": [
             [
              0,
              "#0d0887"
             ],
             [
              0.1111111111111111,
              "#46039f"
             ],
             [
              0.2222222222222222,
              "#7201a8"
             ],
             [
              0.3333333333333333,
              "#9c179e"
             ],
             [
              0.4444444444444444,
              "#bd3786"
             ],
             [
              0.5555555555555556,
              "#d8576b"
             ],
             [
              0.6666666666666666,
              "#ed7953"
             ],
             [
              0.7777777777777778,
              "#fb9f3a"
             ],
             [
              0.8888888888888888,
              "#fdca26"
             ],
             [
              1,
              "#f0f921"
             ]
            ],
            "type": "heatmapgl"
           }
          ],
          "histogram": [
           {
            "marker": {
             "pattern": {
              "fillmode": "overlay",
              "size": 10,
              "solidity": 0.2
             }
            },
            "type": "histogram"
           }
          ],
          "histogram2d": [
           {
            "colorbar": {
             "outlinewidth": 0,
             "ticks": ""
            },
            "colorscale": [
             [
              0,
              "#0d0887"
             ],
             [
              0.1111111111111111,
              "#46039f"
             ],
             [
              0.2222222222222222,
              "#7201a8"
             ],
             [
              0.3333333333333333,
              "#9c179e"
             ],
             [
              0.4444444444444444,
              "#bd3786"
             ],
             [
              0.5555555555555556,
              "#d8576b"
             ],
             [
              0.6666666666666666,
              "#ed7953"
             ],
             [
              0.7777777777777778,
              "#fb9f3a"
             ],
             [
              0.8888888888888888,
              "#fdca26"
             ],
             [
              1,
              "#f0f921"
             ]
            ],
            "type": "histogram2d"
           }
          ],
          "histogram2dcontour": [
           {
            "colorbar": {
             "outlinewidth": 0,
             "ticks": ""
            },
            "colorscale": [
             [
              0,
              "#0d0887"
             ],
             [
              0.1111111111111111,
              "#46039f"
             ],
             [
              0.2222222222222222,
              "#7201a8"
             ],
             [
              0.3333333333333333,
              "#9c179e"
             ],
             [
              0.4444444444444444,
              "#bd3786"
             ],
             [
              0.5555555555555556,
              "#d8576b"
             ],
             [
              0.6666666666666666,
              "#ed7953"
             ],
             [
              0.7777777777777778,
              "#fb9f3a"
             ],
             [
              0.8888888888888888,
              "#fdca26"
             ],
             [
              1,
              "#f0f921"
             ]
            ],
            "type": "histogram2dcontour"
           }
          ],
          "mesh3d": [
           {
            "colorbar": {
             "outlinewidth": 0,
             "ticks": ""
            },
            "type": "mesh3d"
           }
          ],
          "parcoords": [
           {
            "line": {
             "colorbar": {
              "outlinewidth": 0,
              "ticks": ""
             }
            },
            "type": "parcoords"
           }
          ],
          "pie": [
           {
            "automargin": true,
            "type": "pie"
           }
          ],
          "scatter": [
           {
            "fillpattern": {
             "fillmode": "overlay",
             "size": 10,
             "solidity": 0.2
            },
            "type": "scatter"
           }
          ],
          "scatter3d": [
           {
            "line": {
             "colorbar": {
              "outlinewidth": 0,
              "ticks": ""
             }
            },
            "marker": {
             "colorbar": {
              "outlinewidth": 0,
              "ticks": ""
             }
            },
            "type": "scatter3d"
           }
          ],
          "scattercarpet": [
           {
            "marker": {
             "colorbar": {
              "outlinewidth": 0,
              "ticks": ""
             }
            },
            "type": "scattercarpet"
           }
          ],
          "scattergeo": [
           {
            "marker": {
             "colorbar": {
              "outlinewidth": 0,
              "ticks": ""
             }
            },
            "type": "scattergeo"
           }
          ],
          "scattergl": [
           {
            "marker": {
             "colorbar": {
              "outlinewidth": 0,
              "ticks": ""
             }
            },
            "type": "scattergl"
           }
          ],
          "scattermapbox": [
           {
            "marker": {
             "colorbar": {
              "outlinewidth": 0,
              "ticks": ""
             }
            },
            "type": "scattermapbox"
           }
          ],
          "scatterpolar": [
           {
            "marker": {
             "colorbar": {
              "outlinewidth": 0,
              "ticks": ""
             }
            },
            "type": "scatterpolar"
           }
          ],
          "scatterpolargl": [
           {
            "marker": {
             "colorbar": {
              "outlinewidth": 0,
              "ticks": ""
             }
            },
            "type": "scatterpolargl"
           }
          ],
          "scatterternary": [
           {
            "marker": {
             "colorbar": {
              "outlinewidth": 0,
              "ticks": ""
             }
            },
            "type": "scatterternary"
           }
          ],
          "surface": [
           {
            "colorbar": {
             "outlinewidth": 0,
             "ticks": ""
            },
            "colorscale": [
             [
              0,
              "#0d0887"
             ],
             [
              0.1111111111111111,
              "#46039f"
             ],
             [
              0.2222222222222222,
              "#7201a8"
             ],
             [
              0.3333333333333333,
              "#9c179e"
             ],
             [
              0.4444444444444444,
              "#bd3786"
             ],
             [
              0.5555555555555556,
              "#d8576b"
             ],
             [
              0.6666666666666666,
              "#ed7953"
             ],
             [
              0.7777777777777778,
              "#fb9f3a"
             ],
             [
              0.8888888888888888,
              "#fdca26"
             ],
             [
              1,
              "#f0f921"
             ]
            ],
            "type": "surface"
           }
          ],
          "table": [
           {
            "cells": {
             "fill": {
              "color": "#EBF0F8"
             },
             "line": {
              "color": "white"
             }
            },
            "header": {
             "fill": {
              "color": "#C8D4E3"
             },
             "line": {
              "color": "white"
             }
            },
            "type": "table"
           }
          ]
         },
         "layout": {
          "annotationdefaults": {
           "arrowcolor": "#2a3f5f",
           "arrowhead": 0,
           "arrowwidth": 1
          },
          "autotypenumbers": "strict",
          "coloraxis": {
           "colorbar": {
            "outlinewidth": 0,
            "ticks": ""
           }
          },
          "colorscale": {
           "diverging": [
            [
             0,
             "#8e0152"
            ],
            [
             0.1,
             "#c51b7d"
            ],
            [
             0.2,
             "#de77ae"
            ],
            [
             0.3,
             "#f1b6da"
            ],
            [
             0.4,
             "#fde0ef"
            ],
            [
             0.5,
             "#f7f7f7"
            ],
            [
             0.6,
             "#e6f5d0"
            ],
            [
             0.7,
             "#b8e186"
            ],
            [
             0.8,
             "#7fbc41"
            ],
            [
             0.9,
             "#4d9221"
            ],
            [
             1,
             "#276419"
            ]
           ],
           "sequential": [
            [
             0,
             "#0d0887"
            ],
            [
             0.1111111111111111,
             "#46039f"
            ],
            [
             0.2222222222222222,
             "#7201a8"
            ],
            [
             0.3333333333333333,
             "#9c179e"
            ],
            [
             0.4444444444444444,
             "#bd3786"
            ],
            [
             0.5555555555555556,
             "#d8576b"
            ],
            [
             0.6666666666666666,
             "#ed7953"
            ],
            [
             0.7777777777777778,
             "#fb9f3a"
            ],
            [
             0.8888888888888888,
             "#fdca26"
            ],
            [
             1,
             "#f0f921"
            ]
           ],
           "sequentialminus": [
            [
             0,
             "#0d0887"
            ],
            [
             0.1111111111111111,
             "#46039f"
            ],
            [
             0.2222222222222222,
             "#7201a8"
            ],
            [
             0.3333333333333333,
             "#9c179e"
            ],
            [
             0.4444444444444444,
             "#bd3786"
            ],
            [
             0.5555555555555556,
             "#d8576b"
            ],
            [
             0.6666666666666666,
             "#ed7953"
            ],
            [
             0.7777777777777778,
             "#fb9f3a"
            ],
            [
             0.8888888888888888,
             "#fdca26"
            ],
            [
             1,
             "#f0f921"
            ]
           ]
          },
          "colorway": [
           "#636efa",
           "#EF553B",
           "#00cc96",
           "#ab63fa",
           "#FFA15A",
           "#19d3f3",
           "#FF6692",
           "#B6E880",
           "#FF97FF",
           "#FECB52"
          ],
          "font": {
           "color": "#2a3f5f"
          },
          "geo": {
           "bgcolor": "white",
           "lakecolor": "white",
           "landcolor": "#E5ECF6",
           "showlakes": true,
           "showland": true,
           "subunitcolor": "white"
          },
          "hoverlabel": {
           "align": "left"
          },
          "hovermode": "closest",
          "mapbox": {
           "style": "light"
          },
          "paper_bgcolor": "white",
          "plot_bgcolor": "#E5ECF6",
          "polar": {
           "angularaxis": {
            "gridcolor": "white",
            "linecolor": "white",
            "ticks": ""
           },
           "bgcolor": "#E5ECF6",
           "radialaxis": {
            "gridcolor": "white",
            "linecolor": "white",
            "ticks": ""
           }
          },
          "scene": {
           "xaxis": {
            "backgroundcolor": "#E5ECF6",
            "gridcolor": "white",
            "gridwidth": 2,
            "linecolor": "white",
            "showbackground": true,
            "ticks": "",
            "zerolinecolor": "white"
           },
           "yaxis": {
            "backgroundcolor": "#E5ECF6",
            "gridcolor": "white",
            "gridwidth": 2,
            "linecolor": "white",
            "showbackground": true,
            "ticks": "",
            "zerolinecolor": "white"
           },
           "zaxis": {
            "backgroundcolor": "#E5ECF6",
            "gridcolor": "white",
            "gridwidth": 2,
            "linecolor": "white",
            "showbackground": true,
            "ticks": "",
            "zerolinecolor": "white"
           }
          },
          "shapedefaults": {
           "line": {
            "color": "#2a3f5f"
           }
          },
          "ternary": {
           "aaxis": {
            "gridcolor": "white",
            "linecolor": "white",
            "ticks": ""
           },
           "baxis": {
            "gridcolor": "white",
            "linecolor": "white",
            "ticks": ""
           },
           "bgcolor": "#E5ECF6",
           "caxis": {
            "gridcolor": "white",
            "linecolor": "white",
            "ticks": ""
           }
          },
          "title": {
           "x": 0.05
          },
          "xaxis": {
           "automargin": true,
           "gridcolor": "white",
           "linecolor": "white",
           "ticks": "",
           "title": {
            "standoff": 15
           },
           "zerolinecolor": "white",
           "zerolinewidth": 2
          },
          "yaxis": {
           "automargin": true,
           "gridcolor": "white",
           "linecolor": "white",
           "ticks": "",
           "title": {
            "standoff": 15
           },
           "zerolinecolor": "white",
           "zerolinewidth": 2
          }
         }
        }
       }
      }
     },
     "metadata": {},
     "output_type": "display_data"
    }
   ],
   "source": [
    "fig = go.Figure()\n",
    "\n",
    "\n",
    "\n",
    "#  Add the blue area between xlower and xupper\n",
    "fig.add_trace(go.Scatter(\n",
    "    x=x[xlower:xupper+1], \n",
    "    y=ds[xlower:xupper+1], \n",
    "    fill='tozeroy',  \n",
    "    mode='lines',    \n",
    "    line=dict(color='blue'),\n",
    "    name='In Range'\n",
    "))\n",
    "\n",
    "# Add the grey area for x < xlower\n",
    "fig.add_trace(go.Scatter(\n",
    "    x=x[:xlower+1],\n",
    "    y=ds[:xlower+1],\n",
    "    fill='tozeroy',\n",
    "    mode='lines',\n",
    "    line=dict(color='grey'),\n",
    "    name='Out of Range'\n",
    "))\n",
    "\n",
    "# Add the grey area for x > xupper\n",
    "fig.add_trace(go.Scatter(\n",
    "    x=x[xupper:],\n",
    "    y=ds[xupper:],\n",
    "    fill='tozeroy',\n",
    "    mode='lines',\n",
    "    line=dict(color='grey'),\n",
    "    name='Out of Range'\n",
    "))\n"
   ]
  },
  {
   "cell_type": "code",
   "execution_count": 43,
   "metadata": {},
   "outputs": [
    {
     "data": {
      "text/plain": [
       "(array([  13.,   76.,  527., 1665., 2942., 2857., 1462.,  393.,   59.,\n",
       "           6.]),\n",
       " array([0.34200077, 0.36465826, 0.38731575, 0.40997323, 0.43263072,\n",
       "        0.4552882 , 0.47794569, 0.50060318, 0.52326066, 0.54591815,\n",
       "        0.56857564]),\n",
       " <BarContainer object of 10 artists>)"
      ]
     },
     "execution_count": 43,
     "metadata": {},
     "output_type": "execute_result"
    },
    {
     "data": {
      "image/png": "[encoded data removed]",
      "text/plain": [
       "<Figure size 432x288 with 1 Axes>"
      ]
     },
     "metadata": {
      "needs_background": "light"
     },
     "output_type": "display_data"
    }
   ],
   "source": [
    "plt.hist(fl)"
   ]
  },
  {
   "cell_type": "code",
   "execution_count": null,
   "metadata": {},
   "outputs": [],
   "source": []
  }
 ],
 "metadata": {
  "kernelspec": {
   "display_name": "Python 3",
   "language": "python",
   "name": "python3"
  },
  "language_info": {
   "codemirror_mode": {
    "name": "ipython",
    "version": 3
   },
   "file_extension": ".py",
   "mimetype": "text/x-python",
   "name": "python",
   "nbconvert_exporter": "python",
   "pygments_lexer": "ipython3",
   "version": "3.10.4"
  }
 },
 "nbformat": 4,
 "nbformat_minor": 2
}
