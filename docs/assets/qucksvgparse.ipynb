{
 "cells": [
  {
   "cell_type": "code",
   "execution_count": 1,
   "metadata": {},
   "outputs": [],
   "source": [
    "import re\n",
    "\n",
    "# Step 1: Extract id and inkscape:label from inkscape.svg\n",
    "label_dict = {}\n",
    "with open('cartogram.svg', 'r', encoding='utf-8') as file:\n",
    "    svg_content = file.read()\n",
    "    # Find all paths with id and inkscape:label\n",
    "    paths = re.findall(r'<path[^>]*?id=\"([^\"]+)\"[^>]*?inkscape:label=\"([^\"]+)\"[^>]*?>', svg_content)\n",
    "    # Create a dictionary with id as key and inkscape:label as value\n",
    "    label_dict = {path_id: label for path_id, label in paths}"
   ]
  },
  {
   "cell_type": "code",
   "execution_count": 6,
   "metadata": {},
   "outputs": [],
   "source": [
    "with open('cartogram_no_inkscape.svg', 'r', encoding='utf-8') as file:\n",
    "    noinscape_content = file.read()\n",
    "    # Replace all ids with corresponding inkscape:label\n",
    "    for path_id, label in label_dict.items():\n",
    "        noinscape_content = re.sub(r'id=\"' + re.escape(path_id) + r'\"', f'id=\"{label}\"', noinscape_content)\n",
    "\n",
    "# Step 3: Write the modified content to a new SVG file\n",
    "with open('noinscape_updated.svg', 'w', encoding='utf-8') as file:\n",
    "    file.write(noinscape_content)"
   ]
  },
  {
   "cell_type": "code",
   "execution_count": null,
   "metadata": {},
   "outputs": [],
   "source": []
  }
 ],
 "metadata": {
  "kernelspec": {
   "display_name": "Python 3",
   "language": "python",
   "name": "python3"
  },
  "language_info": {
   "codemirror_mode": {
    "name": "ipython",
    "version": 3
   },
   "file_extension": ".py",
   "mimetype": "text/x-python",
   "name": "python",
   "nbconvert_exporter": "python",
   "pygments_lexer": "ipython3",
   "version": "3.10.4"
  }
 },
 "nbformat": 4,
 "nbformat_minor": 2
}
